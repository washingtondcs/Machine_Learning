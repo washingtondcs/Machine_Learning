{
 "cells": [
  {
   "cell_type": "code",
   "execution_count": 1,
   "metadata": {
    "id": "zSNNE1pei6ZA"
   },
   "outputs": [],
   "source": [
    "import numpy as np\n",
    "import matplotlib.pyplot as plt"
   ]
  },
  {
   "cell_type": "markdown",
   "metadata": {},
   "source": [
    "## Questão 1\n",
    "Importação dos dados"
   ]
  },
  {
   "cell_type": "code",
   "execution_count": 2,
   "metadata": {
    "id": "VU-4EKtSkVbK"
   },
   "outputs": [],
   "source": [
    "dados_concrete = np.genfromtxt('./Dados/concrete.csv', delimiter = ',', skip_header = 0)"
   ]
  },
  {
   "cell_type": "code",
   "execution_count": 3,
   "metadata": {
    "id": "3nCtOvIglFCZ"
   },
   "outputs": [],
   "source": [
    "X = dados_concrete[:, 0:-1]\n",
    "y = dados_concrete[:, [-1]]"
   ]
  },
  {
   "cell_type": "code",
   "execution_count": 4,
   "metadata": {
    "id": "hYDfMwELo8P7"
   },
   "outputs": [],
   "source": [
    "n = X.shape[0] # tamanho da amostra original\n",
    "D = X.shape[1] # número de dimensões de entrada\n",
    "K = y.shape[1] # número de dimensões de saída\n",
    "n_treino = round(0.6*n) # tamanho da amostra de treino\n",
    "n_validacao = round(0.2*n) # tamanho da amostra de validação\n",
    "n_teste = n - n_treino - n_validacao # tamanho da amostra de teste"
   ]
  },
  {
   "cell_type": "code",
   "execution_count": 5,
   "metadata": {
    "id": "f_TTY14WqVRX"
   },
   "outputs": [],
   "source": [
    "def norm_min_max(X, X_treino): \n",
    "  X_treino_min = X_treino.min(axis=0) \n",
    "  X_treino_max = X_treino.max(axis=0) \n",
    "  X = (X - X_treino_min) / (X_treino_max - X_treino_min)\n",
    "  return X\n",
    "\n",
    "def desnorm_min_max(Y_treino_original, Y_pred_norm):\n",
    "  Y_treino_min = Y_treino_original.min(axis=0) \n",
    "  Y_treino_max = Y_treino_original.max(axis=0)\n",
    "  Y_pred = Y_pred_norm * (Y_treino_max - Y_treino_min) + Y_treino_min\n",
    "  return Y_pred\n",
    "\n",
    "def norm_escore_z(X, X_treino):\n",
    "  X_treino_med = X_treino.mean(axis=0)\n",
    "  X_treino_dp = X_treino.std(axis=0)\n",
    "  X = (X - X_treino_med) / X_treino_dp\n",
    "  return X\n",
    "\n",
    "def desnorm_escore_z(Y_treino_original, Y_pred_norm):\n",
    "  Y_treino_med = Y_treino_original.mean(axis=0)\n",
    "  Y_treino_dp = Y_treino_original.std(axis=0)\n",
    "  Y_pred = Y_pred_norm * Y_treino_dp + Y_treino_med\n",
    "  return Y_pred\n",
    "\n",
    "def identidade(z):\n",
    "  return z\n",
    "\n",
    "def deriv_identidade(z):\n",
    "  derivada = np.ones(z.shape[0])\n",
    "  return derivada\n",
    "\n",
    "def sigmoide(z):\n",
    "  result = 1/(1 + np.exp(-(z)))\n",
    "  return result\n",
    "\n",
    "def deriv_sigmoide(z):\n",
    "  s = sigmoide(z)\n",
    "  derivada = s*(1-s)\n",
    "  return derivada\n",
    "\n",
    "tanh = np.tanh\n",
    "\n",
    "def deriv_tanh(z):\n",
    "  derivada = 1 - np.tanh(z)**2\n",
    "  return derivada\n",
    "\n",
    "def ReLU(z):\n",
    "  result = np.maximum(0, z)\n",
    "  return result \n",
    "\n",
    "def deriv_ReLU(z):\n",
    "  return 1 * (z > 0)\n",
    "\n",
    "def softmax(z):\n",
    "  exps = np.exp(z - np.max(z))\n",
    "  result = exps/(np.sum(exps, axis=0))\n",
    "  return result\n",
    "\n",
    "def softmax_2(z):\n",
    "  exps = np.exp(z - np.max(z))\n",
    "  result = exps/(np.sum(exps, axis=1)).reshape(exps.shape[0], 1)\n",
    "  return result\n",
    "\n",
    "def deriv_softmax(z):\n",
    "  s = softmax(z)\n",
    "  derivada = s*(1-s)\n",
    "  return derivada"
   ]
  },
  {
   "cell_type": "code",
   "execution_count": 6,
   "metadata": {
    "id": "E41Ps8joLXUi"
   },
   "outputs": [],
   "source": [
    "def MLP_1co_direto(X, Y, W, M, f_ativ_oculta, f_ativ_saida, f_custo):\n",
    "  U = X @ W\n",
    "  Zi = np.array(list(map(globals()[f_ativ_oculta], U)))\n",
    "  Z = np.c_[np.ones(Zi.shape[0]), Zi]\n",
    "  R = Z @ M\n",
    "  Y_pred = np.array(list(map(globals()[f_ativ_saida], R)))\n",
    "  erro = Y - Y_pred\n",
    "  if f_custo == 'MSE':\n",
    "    custo = (1/(2*Y.shape[0])) * (erro**2).sum()\n",
    "  if f_custo == 'entropia':\n",
    "    custo = (-1/Y.shape[0]) * (Y * np.log(Y_pred)).sum()\n",
    "  return Z, Y_pred, erro, custo\n",
    "\n",
    "def MLP_treino(X_treino, Y_treino, X_validacao, Y_validacao, f_ativ_oculta, f_ativ_saida, f_custo, alfa_0, n_epocas, momentum, n_neuronios, B, termo_reg, validacao = True): # treinamento da rede MLP\n",
    "  # Inicialização dos parâmetros\n",
    "  D = X_treino.shape[1]\n",
    "  if f_ativ_oculta == 'ReLU':\n",
    "    W = np.sqrt(2/(D+1)) * np.random.normal(size = (D, n_neuronios))\n",
    "    W = np.r_[0.01*np.ones((1, n_neuronios)), W]\n",
    "  else:\n",
    "    W = np.sqrt(1/(D+1)) * np.random.normal(size = (D, n_neuronios)) \n",
    "    W = np.r_[np.zeros((1, n_neuronios)), W] \n",
    "  W_ant = W \n",
    "  \n",
    "  K = Y_treino.shape[1]\n",
    "  if f_ativ_saida == 'ReLU':\n",
    "    M = np.sqrt(2/(n_neuronios + 1)) * np.random.normal(size = (n_neuronios, K)) \n",
    "    M = np.r_[0.01*np.ones((1, K)), M]\n",
    "  else:\n",
    "    M = np.sqrt(1/(n_neuronios + 1)) * np.random.normal(size = (n_neuronios, K))\n",
    "    M = np.r_[np.zeros((1, K)), M] \n",
    "  M_ant = M\n",
    "\n",
    "  # Etapa de treinamento e validação\n",
    "  custo_treino_it = [] \n",
    "  custo_validacao_ep = [] \n",
    "  custo_validacao_min = np.inf\n",
    "  n_iteracoes = int(np.ceil(X_treino.shape[0] / B))\n",
    "  for epoca in range(n_epocas):\n",
    "    I_treino = np.random.permutation(X_treino.shape[0])\n",
    "    X_treino_ep = X_treino[I_treino]\n",
    "    Y_treino_ep = Y_treino[I_treino]\n",
    "    alfa = alfa_0 / (1 + epoca)\n",
    "    \n",
    "    for t in range(n_iteracoes):\n",
    "      X_t = X_treino_ep[(t*B):((t+1)*B),] \n",
    "      X_t = np.c_[np.ones(X_t.shape[0]), X_t] \n",
    "      Y_t = Y_treino_ep[(t*B):((t+1)*B),] \n",
    "      \n",
    "      MLP_dir_treino = MLP_1co_direto(X_t, Y_t, W, M, f_ativ_oculta, f_ativ_saida, f_custo) \n",
    "      erro = MLP_dir_treino[2]\n",
    "      custo_treino_it.append(MLP_dir_treino[3])\n",
    "\n",
    "      Z_t = MLP_dir_treino[0]\n",
    "      R = Z_t @ M\n",
    "      dY = -erro \n",
    "      M_aux = M \n",
    "      M_reg = M \n",
    "      M_reg[0,:] = np.zeros((1, K)) \n",
    "      M += -(alfa/B) * (Z_t.T @ dY + termo_reg * M_reg) + momentum * (M - M_ant)\n",
    "      M_ant = M_aux \n",
    "\n",
    "      U = X_t @ W\n",
    "      dU = np.array(list(map(globals()['deriv_' + f_ativ_oculta], U))) \n",
    "      dZ = dU * (dY @ M[1:,].T) \n",
    "      W_aux = W \n",
    "      W_reg = W\n",
    "      W += -(alfa/B) * (X_t.T @ dZ + termo_reg * W_reg) + momentum * (W - W_ant)\n",
    "      W_ant = W_aux\n",
    "\n",
    "    if validacao == True:\n",
    "      MLP_validacao = MLP_1co_direto(X_validacao, Y_validacao, W, M, f_ativ_oculta, f_ativ_saida, f_custo)\n",
    "      custo_validacao = MLP_validacao[3]\n",
    "      custo_validacao_ep.append(custo_validacao)\n",
    "\n",
    "      if custo_validacao < custo_validacao_min:\n",
    "        custo_validacao_min = custo_validacao\n",
    "        W_melhor = W \n",
    "        M_melhor = M\n",
    "    \n",
    "    else:\n",
    "      W_melhor = W\n",
    "      M_melhor = M\n",
    "  return W_melhor, M_melhor, custo_treino_it, custo_validacao_ep"
   ]
  },
  {
   "cell_type": "code",
   "execution_count": 7,
   "metadata": {
    "id": "MHUC4a-sr2z8"
   },
   "outputs": [],
   "source": [
    "# Divisão das amostras e normalização dos dados\n",
    "I = np.random.permutation(n) # permutação dos índices das observações\n",
    "(X_treino, X_validacao, X_teste) = (X[I][:n_treino,], X[I][n_treino:(n_treino + n_validacao),], X[I][(n - n_teste):,])\n",
    "(y_treino_original, y_validacao_original, y_teste_original) = (y[I][:n_treino,], y[I][n_treino:(n_treino + n_validacao),], y[I][(n - n_teste):,])\n",
    "\n",
    "(X_treino, y_treino) = (norm_min_max(X_treino, X_treino), norm_min_max(y_treino_original, y_treino_original))\n",
    "(X_validacao, y_validacao) = (norm_min_max(X_validacao, X_treino), norm_min_max(y_validacao_original, y_treino_original))\n",
    "(X_teste, y_teste) = (norm_min_max(X_teste, X_treino), norm_min_max(y_teste_original, y_treino_original))\n",
    "\n",
    "X_validacao = np.c_[np.ones(n_validacao), X_validacao] # inserindo o termo de viés\n",
    "X_teste = np.c_[np.ones(n_teste), X_teste] # inserindo o termo de viés\n",
    "\n",
    "# Busca pelos hiperparâmetros ótimos\n",
    "n_iteracoes_hp = 1000 # número de iterações na busca pelos hiperparâmetros ótimos\n",
    "f_ativ_oculta = 'tanh'\n",
    "f_ativ_saida = 'identidade'\n",
    "f_custo = 'MSE'\n",
    "\n",
    "custo_hp_min = np.inf # inicializando o custo mínimo de validação como infinito (para escolher melhor combinação de hiperparâmetros)\n",
    "for i in range(n_iteracoes_hp):\n",
    "  # Hiperparâmetros\n",
    "  alfa_0 = 10**np.random.uniform(-5, -1) # taxa de aprendizagem inicial\n",
    "  n_epocas = np.random.randint(50, 200) # número de épocas\n",
    "  momentum = np.random.uniform(0.5, 1) # termo de momentum\n",
    "  n_neuronios = np.random.randint(5, 100) # número de neurônios\n",
    "  B = np.random.randint(10, 100) # quantidade de padrões utilizados por mini-batch durante o treinamento\n",
    "  termo_reg = np.random.uniform(0.01, 0.1) # termo de regularização\n",
    "\n",
    "  # Etapa de treinamento e validação\n",
    "  rede_MLP = MLP_treino(X_treino, y_treino, X_validacao, y_validacao, f_ativ_oculta, f_ativ_saida, f_custo, alfa_0, n_epocas, momentum, n_neuronios, B, termo_reg, validacao = True)\n",
    "  (W_hp, M_hp) = (rede_MLP[0], rede_MLP[1]) # matrizes de parâmetros associados ao melhor modelo para a combinação de hiperparâmetros da iteração atual\n",
    "\n",
    "  MLP_validacao = MLP_1co_direto(X_validacao, y_validacao, W_hp, M_hp, f_ativ_oculta, f_ativ_saida, f_custo) # sentido direto da rede MLP aplicado aos dados de validação\n",
    "  custo_validacao = MLP_validacao[3] # custo de validação do melhor modelo (normalizado)\n",
    "\n",
    "  if custo_validacao < custo_hp_min:\n",
    "    custo_hp_min = custo_validacao\n",
    "    (W_melhor, M_melhor) = (W_hp, M_hp) # atualizando matrizes de parâmetros associados ao melhor modelo durante o treinamento/validação\n",
    "    (alfa_0_melhor, n_epocas_melhor, momentum_melhor, n_neuronios_melhor, B_melhor, termo_reg_melhor) = (alfa_0, n_epocas, momentum, n_neuronios, B, termo_reg) # atualizando melhor combinação de hiperparâmetros\n",
    "    (custo_treino_it_melhor, custo_validacao_ep_melhor) = (rede_MLP[2], rede_MLP[3])\n",
    "\n",
    "# Etapa de teste (Generalização)\n",
    "MLP_teste = MLP_1co_direto(X_teste, y_teste, W_melhor, M_melhor, f_ativ_oculta, f_ativ_saida, f_custo) # sentido direto da rede MLP aplicado aos dados de teste\n",
    "custo_teste = MLP_teste[3] # custo de teste (normalizado)"
   ]
  },
  {
   "cell_type": "markdown",
   "metadata": {
    "id": "pz9mykxvzlsd"
   },
   "source": [
    "Plotando a curva de aprendizagem de validação"
   ]
  },
  {
   "cell_type": "code",
   "execution_count": 8,
   "metadata": {
    "id": "4IP5MZTtzs9k"
   },
   "outputs": [
    {
     "data": {
      "image/png": "[encoded data removed]",
      "text/plain": [
       "<Figure size 432x288 with 1 Axes>"
      ]
     },
     "metadata": {
      "needs_background": "light"
     },
     "output_type": "display_data"
    }
   ],
   "source": [
    "plt.plot(custo_validacao_ep_melhor) # curva de aprendizagem de validação para a melhor combinação de hiperparâmetros (normalizado)\n",
    "plt.xlabel(\"Época\")\n",
    "plt.ylabel(\"MSE\")\n",
    "plt.title(\"Validação\");"
   ]
  },
  {
   "cell_type": "markdown",
   "metadata": {
    "id": "KTgCdw0j0xe0"
   },
   "source": [
    "Retreinamento com os dados de treino e validação"
   ]
  },
  {
   "cell_type": "code",
   "execution_count": 9,
   "metadata": {
    "id": "Gnd8a_Ik4236"
   },
   "outputs": [
    {
     "name": "stdout",
     "output_type": "stream",
     "text": [
      "MSE de teste (normalizado): 0.0306\n"
     ]
    },
    {
     "data": {
      "image/png": "[encoded data removed]",
      "text/plain": [
       "<Figure size 432x288 with 1 Axes>"
      ]
     },
     "metadata": {
      "needs_background": "light"
     },
     "output_type": "display_data"
    }
   ],
   "source": [
    "# Hiperparâmetros\n",
    "f_ativ_oculta = 'tanh' # já que será utilizada uma rede MLP com apenas 1 camada oculta\n",
    "f_ativ_saida = 'identidade' # já que se trata de um problema de regressão\n",
    "f_custo = 'MSE' # já que se trata de um problema de regressão\n",
    "alfa_0 = alfa_0_melhor # taxa de aprendizagem inicial\n",
    "n_epocas = n_epocas_melhor # número de épocas\n",
    "momentum = momentum_melhor # termo de momentum\n",
    "n_neuronios = n_neuronios_melhor # número de neurônios\n",
    "B = B_melhor # quantidade de padrões utilizados por mini-batch durante o treinamento\n",
    "termo_reg = termo_reg_melhor # termo de regularização\n",
    "\n",
    "# Etapa de treinamento\n",
    "X_retreino = np.r_[X_treino, X_validacao[:, 1:]] # juntando dados de treino e validação\n",
    "y_retreino = np.r_[y_treino, y_validacao] # juntando dados de treino e validação\n",
    "\n",
    "rede_MLP = MLP_treino(X_retreino, y_retreino, None, None, f_ativ_oculta, f_ativ_saida, f_custo, alfa_0, n_epocas, momentum, n_neuronios, B, termo_reg, validacao = False)\n",
    "(W, M) = (rede_MLP[0], rede_MLP[1]) # matrizes de parâmetros da rede MLP retreinada\n",
    "\n",
    "plt.plot(rede_MLP[2]) # curva de aprendizagem de treino (normalizado)\n",
    "plt.xlabel(\"Iteração\")\n",
    "plt.ylabel(\"MSE\")\n",
    "plt.title(\"Treinamento via SGD com momentum\");\n",
    "\n",
    "# Etapa de teste (Generalização)\n",
    "MLP_teste = MLP_1co_direto(X_teste, y_teste, W, M, f_ativ_oculta, f_ativ_saida, f_custo) # sentido direto da rede MLP aplicado aos dados de teste\n",
    "custo_teste = MLP_teste[3] # custo de teste (normalizado)\n",
    "print(\"MSE de teste (normalizado): %.4f\" % custo_teste)"
   ]
  },
  {
   "cell_type": "code",
   "execution_count": 10,
   "metadata": {
    "id": "U1zEekENAtEh"
   },
   "outputs": [],
   "source": [
    "def metricas_desnorm(y_original, y_pred_norm): # cálculo das métricas com base nos valores de y desnormalizados\n",
    "  y_pred = desnorm_min_max(y_treino_original, y_pred_norm)\n",
    "  erro = y_original - y_pred\n",
    "  RMSE = np.sqrt(np.mean(erro**2)) # computando a raiz do erro quadrático médio\n",
    "  MAE = np.mean(np.abs(erro)) # computando o erro absoluto médio\n",
    "  MRE = np.mean(np.abs(erro/y_original)) # computando o erro relativo médio\n",
    "  return y_pred, erro, RMSE, MAE, MRE"
   ]
  },
  {
   "cell_type": "code",
   "execution_count": 11,
   "metadata": {
    "id": "3j4885obcllI",
    "scrolled": true
   },
   "outputs": [
    {
     "name": "stdout",
     "output_type": "stream",
     "text": [
      "RMSE de treino, validação e teste: 20.5801, 23.0605 e 19.8444\n",
      "MAE de treino, validação e teste: 16.4889, 17.6180 e 15.9732\n",
      "MRE de treino, validação e teste: 57.11%, 71.69% e 66.43%\n"
     ]
    }
   ],
   "source": [
    "X_treino_2 = np.c_[np.ones(n_treino), X_treino] # inserindo o termo de viés\n",
    "direto_treino = MLP_1co_direto(X_treino_2, y_treino, W, M, f_ativ_oculta, f_ativ_saida, f_custo) # sentido direto da rede MLP aplicado aos dados de treino\n",
    "y_pred_treino = direto_treino[1] # valores preditos de treino\n",
    "metricas_treino = metricas_desnorm(y_treino_original, y_pred_treino) # métricas de treino\n",
    "\n",
    "direto_validacao = MLP_1co_direto(X_validacao, y_validacao, W, M, f_ativ_oculta, f_ativ_saida, f_custo) # sentido direto da rede MLP aplicado aos dados de validação\n",
    "y_pred_validacao = direto_validacao[1] # valores preditos de validação\n",
    "metricas_validacao = metricas_desnorm(y_validacao_original, y_pred_validacao) # métricas de validação\n",
    "\n",
    "direto_teste = MLP_1co_direto(X_teste, y_teste, W, M, f_ativ_oculta, f_ativ_saida, f_custo) # sentido direto da rede MLP aplicado aos dados de teste\n",
    "y_pred_teste = direto_teste[1] # valores preditos de teste\n",
    "metricas_teste = metricas_desnorm(y_teste_original, y_pred_teste) # métricas de teste\n",
    "\n",
    "print(\"RMSE de treino, validação e teste: %.4f, %.4f e %.4f\" % (metricas_treino[2], metricas_validacao[2], metricas_teste[2]))\n",
    "print(\"MAE de treino, validação e teste: %.4f, %.4f e %.4f\" % (metricas_treino[3], metricas_validacao[3], metricas_teste[3]))\n",
    "print(\"MRE de treino, validação e teste: %.2f%%, %.2f%% e %.2f%%\" % (100*metricas_treino[4], 100*metricas_validacao[4], 100*metricas_teste[4]))"
   ]
  },
  {
   "cell_type": "markdown",
   "metadata": {
    "id": "sl5YskAVLjlb"
   },
   "source": [
    "## Questão 2\n",
    "Importação dos dados"
   ]
  },
  {
   "cell_type": "code",
   "execution_count": 12,
   "metadata": {
    "id": "0_ww82fALf9F"
   },
   "outputs": [],
   "source": [
    "dados_vowel = np.genfromtxt('./Dados/vowel.csv', delimiter = ',', skip_header = 0)"
   ]
  },
  {
   "cell_type": "code",
   "execution_count": 13,
   "metadata": {
    "id": "EzG2oNnjLpSS"
   },
   "outputs": [],
   "source": [
    "X = dados_vowel[:, 0:-1]\n",
    "y = dados_vowel[:, [-1]]"
   ]
  },
  {
   "cell_type": "code",
   "execution_count": 14,
   "metadata": {
    "id": "b-lofhTI5au_"
   },
   "outputs": [],
   "source": [
    "n_classes = len(np.unique(y))\n",
    "Y = np.zeros((y.shape[0], n_classes)) # inicializando a matriz Y com zeros"
   ]
  },
  {
   "cell_type": "code",
   "execution_count": 15,
   "metadata": {
    "id": "-VAFCcCANxOg"
   },
   "outputs": [],
   "source": [
    "n = X.shape[0] # tamanho da amostra original\n",
    "D = X.shape[1] # número de dimensões de entrada (atributos)\n",
    "K = Y.shape[1] # número de dimensões de saída (classes)\n",
    "n_treino = round(0.6*n) # tamanho da amostra de treino\n",
    "n_validacao = round(0.2*n) # tamanho da amostra de validação\n",
    "n_teste = n - n_treino - n_validacao # tamanho da amostra de teste"
   ]
  },
  {
   "cell_type": "code",
   "execution_count": null,
   "metadata": {
    "id": "e480aw2Hjxqg"
   },
   "outputs": [],
   "source": [
    "# Divisão das amostras e normalização dos dados\n",
    "I = np.random.permutation(n) # permutação dos índices das observações\n",
    "(X_treino, X_validacao, X_teste) = (X[I][:n_treino,], X[I][n_treino:(n_treino + n_validacao),], X[I][(n - n_teste):,])\n",
    "(Y_treino, Y_validacao, Y_teste) = (Y[I][:n_treino,], Y[I][n_treino:(n_treino + n_validacao),], Y[I][(n - n_teste):,])\n",
    "\n",
    "X_treino = norm_min_max(X_treino, X_treino)\n",
    "X_validacao = norm_min_max(X_validacao, X_treino)\n",
    "X_teste = norm_min_max(X_teste, X_treino)\n",
    "\n",
    "X_validacao = np.c_[np.ones(n_validacao), X_validacao] # inserindo o termo de viés\n",
    "X_teste = np.c_[np.ones(n_teste), X_teste] # inserindo o termo de viés\n",
    "\n",
    "# Busca pelos hiperparâmetros ótimos\n",
    "n_iteracoes_hp = 1000 # número de iterações na busca pelos hiperparâmetros ótimos\n",
    "f_ativ_oculta = 'ReLU'\n",
    "f_ativ_saida = 'softmax'\n",
    "f_custo = 'entropia'\n",
    "\n",
    "custo_hp_min = np.inf # inicializando o custo mínimo de validação como infinito (para escolher melhor combinação de hiperparâmetros)\n",
    "for i in range(n_iteracoes_hp):\n",
    "  # Hiperparâmetros\n",
    "  alfa_0 = 10**np.random.uniform(-5, -1) # taxa de aprendizagem inicial\n",
    "  n_epocas = np.random.randint(200, 500) # número de épocas\n",
    "  momentum = np.random.uniform(0.5, 1) # termo de momentum\n",
    "  n_neuronios = np.random.randint(11, 200) # número de neurônios\n",
    "  B = np.random.randint(10, 100) # quantidade de padrões utilizados por mini-batch durante o treinamento\n",
    "  termo_reg = np.random.uniform(0.01, 0.1) # termo de regularização\n",
    "\n",
    "  # Etapa de treinamento e validação\n",
    "  rede_MLP = MLP_treino(X_treino, Y_treino, X_validacao, Y_validacao, f_ativ_oculta, f_ativ_saida, f_custo, alfa_0, n_epocas, momentum, n_neuronios, B, termo_reg, validacao = True)\n",
    "  (W_hp, M_hp) = (rede_MLP[0], rede_MLP[1]) # matrizes de parâmetros associados ao melhor modelo para a combinação de hiperparâmetros da iteração atual\n",
    "\n",
    "  MLP_validacao = MLP_1co_direto(X_validacao, Y_validacao, W_hp, M_hp, f_ativ_oculta, f_ativ_saida, f_custo) # sentido direto da rede MLP aplicado aos dados de validação\n",
    "  custo_validacao = MLP_validacao[3] # custo de validação do melhor modelo\n",
    "\n",
    "  if custo_validacao < custo_hp_min:\n",
    "    custo_hp_min = custo_validacao\n",
    "    (W_melhor, M_melhor) = (W_hp, M_hp) # atualizando matrizes de parâmetros associados ao melhor modelo durante o treinamento/validação\n",
    "    (alfa_0_melhor, n_epocas_melhor, momentum_melhor, n_neuronios_melhor, B_melhor, termo_reg_melhor) = (alfa_0, n_epocas, momentum, n_neuronios, B, termo_reg) # atualizando melhor combinação de hiperparâmetros\n",
    "    (custo_treino_it_melhor, custo_validacao_ep_melhor) = (rede_MLP[2], rede_MLP[3])\n",
    "\n",
    "plt.plot(custo_treino_it_melhor) # curva de aprendizagem de treino para a melhor combinação de hiperparâmetros\n",
    "plt.xlabel(\"Iteração\")\n",
    "plt.ylabel(\"Entropia cruzada\")\n",
    "plt.title(\"Treinamento via SGD com momentum\");\n",
    "\n",
    "print(\"Hiperparâmetros do melhor modelo:\")\n",
    "print(\"taxa de aprendizagem inicial: %.3f, número de épocas: %d, termo de momentum: %.2f, número de neurônios: %d, tamanho do mini-batch: %d e termo de regularização: %.2f\" % \n",
    "      (alfa_0_melhor, n_epocas_melhor, momentum_melhor, n_neuronios_melhor, B_melhor, termo_reg_melhor), end = '\\n\\n')\n",
    "\n",
    "# Etapa de teste (Generalização)\n",
    "MLP_teste = MLP_1co_direto(X_teste, Y_teste, W_melhor, M_melhor, f_ativ_oculta, f_ativ_saida, f_custo) # sentido direto da rede MLP aplicado aos dados de teste\n",
    "custo_teste = MLP_teste[3] # entropia cruzada de teste\n",
    "print(\"Entropia cruzada de teste: %.4f\" % custo_teste)"
   ]
  },
  {
   "cell_type": "code",
   "execution_count": null,
   "metadata": {
    "id": "za-fqsfTF5sj"
   },
   "outputs": [],
   "source": [
    "plt.plot(custo_validacao_ep_melhor) # curva de aprendizagem de validação para a melhor combinação de hiperparâmetros\n",
    "plt.xlabel(\"Época\")\n",
    "plt.ylabel(\"Entropia cruzada\")\n",
    "plt.title(\"Validação\");"
   ]
  },
  {
   "cell_type": "code",
   "execution_count": null,
   "metadata": {
    "id": "oWOh4FaRO10K"
   },
   "outputs": [],
   "source": [
    "# Hiperparâmetros\n",
    "f_ativ_oculta = 'ReLU' # já que se trata de um problema de classificação\n",
    "f_ativ_saida = 'softmax' # já que se trata de um problema multiclasse\n",
    "f_custo = 'entropia' # já que se trata de um problema de classificação\n",
    "alfa_0 = alfa_0_melhor # taxa de aprendizagem inicial\n",
    "n_epocas = n_epocas_melhor # número de épocas\n",
    "momentum = momentum_melhor # termo de momentum\n",
    "n_neuronios = n_neuronios_melhor # número de neurônios\n",
    "B = B_melhor # quantidade de padrões utilizados por mini-batch durante o treinamento\n",
    "termo_reg = termo_reg_melhor # termo de regularização\n",
    "\n",
    "# Etapa de treinamento\n",
    "X_retreino = np.r_[X_treino, X_validacao[:, 1:]] # juntando dados de treino e validação\n",
    "Y_retreino = np.r_[Y_treino, Y_validacao] # juntando dados de treino e validação\n",
    "\n",
    "rede_MLP = MLP_treino(X_retreino, Y_retreino, None, None, f_ativ_oculta, f_ativ_saida, f_custo, alfa_0, n_epocas, momentum, n_neuronios, B, termo_reg, validacao = False)\n",
    "(W, M) = (rede_MLP[0], rede_MLP[1]) # matrizes de parâmetros da rede MLP retreinada\n",
    "\n",
    "plt.plot(rede_MLP[2]) # curva de aprendizagem de treino\n",
    "plt.xlabel(\"Iteração\")\n",
    "plt.ylabel(\"Entropia cruzada\")\n",
    "plt.title(\"Treinamento via SGD com momentum\");\n",
    "\n",
    "# Etapa de teste (Generalização)\n",
    "MLP_teste = MLP_1co_direto(X_teste, Y_teste, W, M, f_ativ_oculta, f_ativ_saida, f_custo) # sentido direto da rede MLP aplicado aos dados de teste\n",
    "custo_teste = MLP_teste[3] # custo de teste\n",
    "print(\"Entropia cruzada de teste (normalizado): %.4f\" % custo_teste)"
   ]
  },
  {
   "cell_type": "code",
   "execution_count": null,
   "metadata": {
    "id": "dcW7zv-_T_5m"
   },
   "outputs": [],
   "source": [
    "def acertos(Y, Y_pred): # retorna o número e a taxa de acertos (acurácia) gerais de classificação\n",
    "  n = Y.shape[0] # quantidade de padrões\n",
    "  n_acertos = 0\n",
    "  for i in range(n):\n",
    "    classe_pred = np.argmax(Y_pred[i,:])\n",
    "    if Y[i, classe_pred] == 1:\n",
    "      n_acertos += 1\n",
    "  p_acertos = n_acertos/n\n",
    "  return n_acertos, p_acertos"
   ]
  },
  {
   "cell_type": "code",
   "execution_count": null,
   "metadata": {
    "id": "HwzBIRZ-bXii"
   },
   "outputs": [],
   "source": [
    "X_treino_2 = np.c_[np.ones(n_treino), X_treino] # inserindo o termo de viés\n",
    "direto_treino = MLP_1co_direto(X_treino_2, Y_treino, W, M, f_ativ_oculta, f_ativ_saida, f_custo) # sentido direto da rede MLP aplicado aos dados de treino\n",
    "Y_pred_treino = direto_treino[1] # valores preditos de treino\n",
    "acertos_treino = acertos(Y_treino, Y_pred_treino) # acertos de treino\n",
    "acertos_classe_treino = acertos_classe(Y_treino, Y_pred_treino) # acertos de treino por classe\n",
    "\n",
    "direto_validacao = MLP_1co_direto(X_validacao, Y_validacao, W, M, f_ativ_oculta, f_ativ_saida, f_custo) # sentido direto da rede MLP aplicado aos dados de validação\n",
    "Y_pred_validacao = direto_validacao[1] # valores preditos de validação\n",
    "acertos_validacao = acertos(Y_validacao, Y_pred_validacao) # acertos de validação\n",
    "acertos_classe_validacao = acertos_classe(Y_validacao, Y_pred_validacao) # acertos de validação por classe\n",
    "\n",
    "direto_teste = MLP_1co_direto(X_teste, Y_teste, W, M, f_ativ_oculta, f_ativ_saida, f_custo) # sentido direto da rede MLP aplicado aos dados de teste\n",
    "Y_pred_teste = direto_teste[1] # valores preditos de teste\n",
    "acertos_teste = acertos(Y_teste, Y_pred_teste) # acertos de teste\n",
    "acertos_classe_teste = acertos_classe(Y_teste, Y_pred_teste) # acertos de teste por classe\n",
    "\n",
    "print(\"Acurácia de treino, validação e teste: %.2f%%, %.2f%% e %.2f%%\" % (100*acertos_treino[1], 100*acertos_validacao[1], 100*acertos_teste[1]))"
   ]
  },
  {
   "cell_type": "code",
   "execution_count": null,
   "metadata": {},
   "outputs": [],
   "source": []
  }
 ],
 "metadata": {
  "colab": {
   "collapsed_sections": [],
   "name": "Alessandro_AMA_Lista3.ipynb",
   "provenance": []
  },
  "kernelspec": {
   "display_name": "Python 3",
   "language": "python",
   "name": "python3"
  },
  "language_info": {
   "codemirror_mode": {
    "name": "ipython",
    "version": 3
   },
   "file_extension": ".py",
   "mimetype": "text/x-python",
   "name": "python",
   "nbconvert_exporter": "python",
   "pygments_lexer": "ipython3",
   "version": "3.8.3"
  }
 },
 "nbformat": 4,
 "nbformat_minor": 1
}
