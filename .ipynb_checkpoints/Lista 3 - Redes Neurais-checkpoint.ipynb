{
 "cells": [
  {
   "cell_type": "code",
   "execution_count": 1,
   "metadata": {},
   "outputs": [],
   "source": [
    "import pandas as pd\n",
    "import numpy as np\n",
    "import matplotlib.pyplot as plt\n",
    "\n",
    "from sklearn.neural_network import MLPClassifier\n",
    "from sklearn.preprocessing import OneHotEncoder\n",
    "\n",
    "np.random.seed(13)"
   ]
  },
  {
   "cell_type": "markdown",
   "metadata": {},
   "source": [
    "## 1. MLP para regressão  "
   ]
  },
  {
   "cell_type": "code",
   "execution_count": 2,
   "metadata": {},
   "outputs": [],
   "source": [
    "from sklearn.datasets import fetch_openml\n",
    "concrete = fetch_openml(data_id='4353',as_frame=True)\n",
    "X = concrete.data.iloc[:,0:8]\n",
    "y = concrete.data.iloc[:,8]"
   ]
  },
  {
   "cell_type": "code",
   "execution_count": 3,
   "metadata": {},
   "outputs": [
    {
     "data": {
      "text/html": [
       "<div>\n",
       "<style scoped>\n",
       "    .dataframe tbody tr th:only-of-type {\n",
       "        vertical-align: middle;\n",
       "    }\n",
       "\n",
       "    .dataframe tbody tr th {\n",
       "        vertical-align: top;\n",
       "    }\n",
       "\n",
       "    .dataframe thead th {\n",
       "        text-align: right;\n",
       "    }\n",
       "</style>\n",
       "<table border=\"1\" class=\"dataframe\">\n",
       "  <thead>\n",
       "    <tr style=\"text-align: right;\">\n",
       "      <th></th>\n",
       "      <th>Cement (component 1)(kg in a m^3 mixture)</th>\n",
       "      <th>Blast Furnace Slag (component 2)(kg in a m^3 mixture)</th>\n",
       "      <th>Fly Ash (component 3)(kg in a m^3 mixture)</th>\n",
       "      <th>Water  (component 4)(kg in a m^3 mixture)</th>\n",
       "      <th>Superplasticizer (component 5)(kg in a m^3 mixture)</th>\n",
       "      <th>Coarse Aggregate  (component 6)(kg in a m^3 mixture)</th>\n",
       "      <th>Fine Aggregate (component 7)(kg in a m^3 mixture)</th>\n",
       "      <th>Age (day)</th>\n",
       "    </tr>\n",
       "  </thead>\n",
       "  <tbody>\n",
       "    <tr>\n",
       "      <th>0</th>\n",
       "      <td>540.0</td>\n",
       "      <td>0.0</td>\n",
       "      <td>0.0</td>\n",
       "      <td>162.0</td>\n",
       "      <td>2.5</td>\n",
       "      <td>1040.0</td>\n",
       "      <td>676.0</td>\n",
       "      <td>28.0</td>\n",
       "    </tr>\n",
       "    <tr>\n",
       "      <th>1</th>\n",
       "      <td>540.0</td>\n",
       "      <td>0.0</td>\n",
       "      <td>0.0</td>\n",
       "      <td>162.0</td>\n",
       "      <td>2.5</td>\n",
       "      <td>1055.0</td>\n",
       "      <td>676.0</td>\n",
       "      <td>28.0</td>\n",
       "    </tr>\n",
       "    <tr>\n",
       "      <th>2</th>\n",
       "      <td>332.5</td>\n",
       "      <td>142.5</td>\n",
       "      <td>0.0</td>\n",
       "      <td>228.0</td>\n",
       "      <td>0.0</td>\n",
       "      <td>932.0</td>\n",
       "      <td>594.0</td>\n",
       "      <td>270.0</td>\n",
       "    </tr>\n",
       "    <tr>\n",
       "      <th>3</th>\n",
       "      <td>332.5</td>\n",
       "      <td>142.5</td>\n",
       "      <td>0.0</td>\n",
       "      <td>228.0</td>\n",
       "      <td>0.0</td>\n",
       "      <td>932.0</td>\n",
       "      <td>594.0</td>\n",
       "      <td>365.0</td>\n",
       "    </tr>\n",
       "    <tr>\n",
       "      <th>4</th>\n",
       "      <td>198.6</td>\n",
       "      <td>132.4</td>\n",
       "      <td>0.0</td>\n",
       "      <td>192.0</td>\n",
       "      <td>0.0</td>\n",
       "      <td>978.4</td>\n",
       "      <td>825.5</td>\n",
       "      <td>360.0</td>\n",
       "    </tr>\n",
       "  </tbody>\n",
       "</table>\n",
       "</div>"
      ],
      "text/plain": [
       "   Cement (component 1)(kg in a m^3 mixture)  \\\n",
       "0                                      540.0   \n",
       "1                                      540.0   \n",
       "2                                      332.5   \n",
       "3                                      332.5   \n",
       "4                                      198.6   \n",
       "\n",
       "   Blast Furnace Slag (component 2)(kg in a m^3 mixture)  \\\n",
       "0                                                0.0       \n",
       "1                                                0.0       \n",
       "2                                              142.5       \n",
       "3                                              142.5       \n",
       "4                                              132.4       \n",
       "\n",
       "   Fly Ash (component 3)(kg in a m^3 mixture)  \\\n",
       "0                                         0.0   \n",
       "1                                         0.0   \n",
       "2                                         0.0   \n",
       "3                                         0.0   \n",
       "4                                         0.0   \n",
       "\n",
       "   Water  (component 4)(kg in a m^3 mixture)  \\\n",
       "0                                      162.0   \n",
       "1                                      162.0   \n",
       "2                                      228.0   \n",
       "3                                      228.0   \n",
       "4                                      192.0   \n",
       "\n",
       "   Superplasticizer (component 5)(kg in a m^3 mixture)  \\\n",
       "0                                                2.5     \n",
       "1                                                2.5     \n",
       "2                                                0.0     \n",
       "3                                                0.0     \n",
       "4                                                0.0     \n",
       "\n",
       "   Coarse Aggregate  (component 6)(kg in a m^3 mixture)  \\\n",
       "0                                             1040.0      \n",
       "1                                             1055.0      \n",
       "2                                              932.0      \n",
       "3                                              932.0      \n",
       "4                                              978.4      \n",
       "\n",
       "   Fine Aggregate (component 7)(kg in a m^3 mixture)  Age (day)  \n",
       "0                                              676.0       28.0  \n",
       "1                                              676.0       28.0  \n",
       "2                                              594.0      270.0  \n",
       "3                                              594.0      365.0  \n",
       "4                                              825.5      360.0  "
      ]
     },
     "execution_count": 3,
     "metadata": {},
     "output_type": "execute_result"
    }
   ],
   "source": [
    "X.head()"
   ]
  },
  {
   "cell_type": "code",
   "execution_count": 4,
   "metadata": {},
   "outputs": [
    {
     "data": {
      "text/plain": [
       "0    79.99\n",
       "1    61.89\n",
       "2    40.27\n",
       "3    41.05\n",
       "4    44.30\n",
       "Name: Concrete compressive strength(MPa. megapascals), dtype: float64"
      ]
     },
     "execution_count": 4,
     "metadata": {},
     "output_type": "execute_result"
    }
   ],
   "source": [
    "y.head()"
   ]
  },
  {
   "cell_type": "code",
   "execution_count": 5,
   "metadata": {},
   "outputs": [],
   "source": [
    "X = X.to_numpy()\n",
    "y = y.to_numpy()"
   ]
  },
  {
   "cell_type": "code",
   "execution_count": 6,
   "metadata": {},
   "outputs": [],
   "source": [
    "from sklearn.model_selection import train_test_split"
   ]
  },
  {
   "cell_type": "code",
   "execution_count": 7,
   "metadata": {},
   "outputs": [],
   "source": [
    "x_train, x_test, y_train, y_test = train_test_split(X, y, test_size=0.2, random_state=1)\n",
    "\n",
    "x_train, x_val, y_train, y_val = train_test_split(x_train, y_train, test_size=0.25, random_state=1)"
   ]
  },
  {
   "cell_type": "code",
   "execution_count": 8,
   "metadata": {},
   "outputs": [],
   "source": [
    "class Scaler():\n",
    "    \n",
    "    def __init__(self):\n",
    "        self.max = None\n",
    "        self.min = None\n",
    "        \n",
    "    def fit(self, data):\n",
    "        self.max = data.max()\n",
    "        self.min = data.min()\n",
    "        \n",
    "    def transform(self, data):\n",
    "        return (data - self.min)/ (self.max-self.min)\n",
    "    \n",
    "    def inverse(self, data):\n",
    "        return data * (self.max - self.min) + self.min"
   ]
  },
  {
   "cell_type": "code",
   "execution_count": 9,
   "metadata": {},
   "outputs": [],
   "source": [
    "\n",
    "scaler_x = Scaler()\n",
    "scaler_y = Scaler()\n",
    "\n",
    "scaler_x.fit(x_train)\n",
    "scaler_y.fit(y_train)\n",
    "\n",
    "x_train_scaled = scaler_x.transform(x_train)\n",
    "x_val_scaled = scaler_x.transform(x_val)\n",
    "\n",
    "y_train_scaled = scaler_y.transform(y_train)\n",
    "y_val_scaled = scaler_y.transform(y_val)"
   ]
  },
  {
   "cell_type": "code",
   "execution_count": 10,
   "metadata": {},
   "outputs": [],
   "source": [
    "def tanh(u):\n",
    "    return (np.exp(2*u) - 1)/(np.exp(2*u) + 1)\n",
    "\n",
    "def tanh_dif(u):\n",
    "    return 1 - np.tanh(u)**2  \n",
    "\n",
    "def relu(u):\n",
    "    return np.maximum(0, u)\n",
    "\n",
    "def relu_dif(u):\n",
    "    return (u >= 0) * 1.0 \n",
    "\n",
    "def afim(z):\n",
    "    return z\n",
    "\n",
    "def afim_dif(z):\n",
    "    return np.ones(shape=z.shape) \n",
    "\n",
    "def sigmoid(z):\n",
    "    return 1 / (1 + np.exp(-z))\n",
    "\n",
    "def sigmoid_dif(z):\n",
    "    return sigmoid(z) * (1 - sigmoid(z))\n",
    "\n",
    "def softmax(z):\n",
    "    return np.exp(z) / np.sum(np.exp(z), axis=0)[None,:]\n",
    "\n",
    "def softmax_dif(z):\n",
    "    return softmax(z) * (1 - softmax(z))\n",
    "\n",
    "def cost_mse(true, pred):\n",
    "    return np.mean((true - pred)**2)\n",
    "\n",
    "def cost_logistic(true, pred):\n",
    "    return np.mean(- true * np.log(pred) - (1 - true) * np.log(1 - pred))\n",
    "\n",
    "def cost_softmax(true, pred):\n",
    "    return - np.sum(true * np.log(pred)) / len(true)\n",
    "\n",
    "def RMSE(true, pred):\n",
    "    return np.sqrt(np.mean((true - pred)**2))"
   ]
  },
  {
   "cell_type": "code",
   "execution_count": 11,
   "metadata": {
    "scrolled": true
   },
   "outputs": [],
   "source": [
    "class MLP_1L():\n",
    "    \n",
    "    def __init__(self, Nh=20, momentum=0.9, t=300, rate=0.0001, \n",
    "                 size_batch= 32, phi_1 = 'tanh', phi_2 = 'afim', cost = 'mse', reg = 0.1):\n",
    "               \n",
    "        self.t = t\n",
    "        self.rate = rate\n",
    "        self.B = size_batch\n",
    "        self.lamb = reg\n",
    "                \n",
    "        self.W = None\n",
    "        self.M = None\n",
    "        self.D = None\n",
    "        self.Nh = Nh\n",
    "        self.momentum = momentum\n",
    "        self.K = 1\n",
    "        \n",
    "        self.atv_1 = phi_1\n",
    "        self.atv_2 = phi_2\n",
    "        self.phi_1 = None\n",
    "        self.phi_2 = None\n",
    "        self.cost = cost\n",
    "        self.f_cost = None\n",
    "        \n",
    "        self.costs = []\n",
    "        self.costs_val = []\n",
    "        \n",
    "        if self.atv_1 == 'tanh':\n",
    "            self.phi_1 = np.tanh                \n",
    "            self.phi_1_dif = tanh_dif\n",
    "            \n",
    "        if self.atv_1 == 'relu':\n",
    "            self.phi_1 = relu                \n",
    "            self.phi_1_dif = relu_dif                         \n",
    "                      \n",
    "        if self.atv_2 == 'afim':\n",
    "            self.phi_2 = afim          \n",
    "            self.phi_2_dif = afim_dif\n",
    "            self.f_cost = cost_mse\n",
    "            \n",
    "        if self.atv_2 == 'sigmoid':\n",
    "            self.phi_2 = sigmoid                \n",
    "            self.phi_2_dif = sigmoid_dif\n",
    "            self.f_cost = cost_logistic\n",
    "            \n",
    "        if self.atv_2 == 'softmax': \n",
    "            self.phi_2 = softmax                \n",
    "            self.phi_2_dif = softmax_dif\n",
    "            self.f_cost = cost_softmax          \n",
    "        \n",
    "    def fit(self, X, y, X_val, y_val):\n",
    "        if self.atv_2 == 'softmax':\n",
    "            self.K = len(np.unique(y))\n",
    "        n = X.shape[0]\n",
    "        X = np.c_[np.ones(X.shape[0]), X]\n",
    "        X_val = np.c_[np.ones(X_val.shape[0]), X_val]\n",
    "        y = y.reshape(-1,1) \n",
    "        y_val = y_val.reshape(-1,1)\n",
    "        self.D = X.shape[1]\n",
    "    \n",
    "        self.W = np.random.normal(loc= 0, scale=1,size=(self.Nh,self.D)) * np.sqrt(1/self.D)\n",
    "        self.W[:,0] = 0\n",
    "        self.M = np.random.normal(loc= 0, scale=1,size=(self.K, self.Nh+1)) * np.sqrt(1/self.Nh+1)\n",
    "        self.M[:, 0] = 0\n",
    "        W_past_increment = 0\n",
    "        M_past_increment = 0 \n",
    "                               \n",
    "        for epoch in range(self.t):\n",
    "            random_index = np.random.permutation(len(y))\n",
    "            X = X[random_index]\n",
    "            index = np.arange(0, n, self.B)\n",
    "            index[-1] = n\n",
    "            for i in range(len(index)-1):\n",
    "                start = index[i]\n",
    "                end = index[i+1]\n",
    "                X_batch = X[start:end, : ]\n",
    "                y_batch = y[start:end]\n",
    "                Z = np.zeros([len(X_batch), self.Nh+1])\n",
    "                \n",
    "                Z[:, 0] = 1                            \n",
    "                u = X_batch @ self.W.T\n",
    "                Z[:, 1:] = self.phi_1(u)\n",
    "                r = Z @ self.M.T\n",
    "                pred = self.phi_2(r)\n",
    "                \n",
    "                error = y_batch - pred\n",
    "                delta = error * self.phi_2_dif(r)              \n",
    "                zeta =  self.phi_1_dif(u) * (delta @ self.M[:, 1:])\n",
    "                term_M = self.lamb*self.M\n",
    "                term_M[:, 0] = 0\n",
    "                self.M = self.M + self.rate * (delta.T @ Z - term_M) +  self.momentum * M_past_increment\n",
    "                M_past_increment = self.rate * (delta.T @ Z - term_M)\n",
    "                term_W = self.lamb*self.W\n",
    "                term_W[:,0] = 0\n",
    "                self.W = self.W + self.rate * (zeta.T @ X_batch - term_W) + self.momentum * W_past_increment\n",
    "                W_past_increment = self.rate * (zeta.T @ X_batch - term_W)\n",
    "                \n",
    "                Z = np.zeros([len(X), self.Nh+1])\n",
    "                Z[:, 0] = 1                \n",
    "                u = X @ self.W.T\n",
    "                Z[:, 1:] = self.phi_1(u)\n",
    "                r = Z @ self.M.T\n",
    "                y_pred  = self.phi_2(r)                                 \n",
    "                loss = self.f_cost(y, y_pred)/2\n",
    "                self.costs.append(loss)\n",
    "                \n",
    "                Z = np.zeros([len(X_val), self.Nh+1])\n",
    "                Z[:, 0] = 1                \n",
    "                u = X_val @ self.W.T\n",
    "                Z[:, 1:] = self.phi_1(u)\n",
    "                r = Z @ self.M.T\n",
    "                y_pred_val  = self.phi_2(r)        \n",
    "                loss_val = self.f_cost(y_val, y_pred_val)/2\n",
    "                self.costs_val.append(loss_val)\n",
    "                \n",
    "    def predict(self, X):\n",
    "        \n",
    "        X = np.c_[np.ones(X.shape[0]), X]        \n",
    "        Z = np.zeros([len(X), self.Nh+1])\n",
    "        Z[:, 0] = 1                \n",
    "        u = X @ self.W.T\n",
    "        Z[:, 1:] = self.phi_1(u)\n",
    "        r = Z @ self.M.T\n",
    "        y_pred  = self.phi_2(r)\n",
    "        return y_pred"
   ]
  },
  {
   "cell_type": "code",
   "execution_count": 12,
   "metadata": {},
   "outputs": [],
   "source": [
    "grid = {\n",
    "    'Nh':[15 , 35 ,50,100],\n",
    "    'rate':[0.0001 ,0.00001],\n",
    "    'reg' : [0 ,0.01, 0.1, 0.25, 0.4]\n",
    "    }\n",
    "\n",
    "def RandomSearch(modelo, grid, qtd, cost):\n",
    "    combinations = []\n",
    "    while len(combinations) < qtd:\n",
    "        a = {}\n",
    "        for yi in grid.keys():\n",
    "            a[yi] = np.random.choice(grid[yi])\n",
    "            if a not in combinations:\n",
    "                combinations.append(a)\n",
    "                \n",
    "    scores = []      \n",
    "    for comb in combinations:\n",
    "        model = modelo(**comb)\n",
    "        model.fit(x_train_scaled, y_train_scaled, x_val_scaled, y_val_scaled)\n",
    "        y_pred = model.predict(x_val_scaled)\n",
    "        y_pred = scaler_y.inverse(y_pred)\n",
    "        scores.append(cost(y_val, y_pred))\n",
    "        print(comb)\n",
    "        print(cost(y_val, y_pred))\n",
    "        print(\"----\")\n",
    "        \n",
    "    scores = np.array(scores)\n",
    "    best_index = np.argmin(scores)\n",
    "    best = combinations[best_index]\n",
    "        \n",
    "    return best, combinations, scores\n",
    "        "
   ]
  },
  {
   "cell_type": "markdown",
   "metadata": {},
   "source": [
    "### Buscando os melhores parâmetros usando o conjunto de validação\n"
   ]
  },
  {
   "cell_type": "code",
   "execution_count": null,
   "metadata": {},
   "outputs": [
    {
     "name": "stdout",
     "output_type": "stream",
     "text": [
      "{'Nh': 50, 'rate': 0.0001, 'reg': 0.1}\n",
      "16.876203906923152\n",
      "----\n",
      "{'Nh': 15, 'rate': 0.0001, 'reg': 0.1}\n",
      "16.883259987299883\n",
      "----\n",
      "{'Nh': 15, 'rate': 1e-05, 'reg': 0.4}\n",
      "19.176285535746445\n",
      "----\n",
      "{'Nh': 50, 'rate': 1e-05, 'reg': 0.1}\n",
      "19.753723121178634\n",
      "----\n",
      "{'Nh': 15, 'rate': 0.0001, 'reg': 0.1}\n",
      "16.92707012427224\n",
      "----\n",
      "{'Nh': 50, 'rate': 0.0001, 'reg': 0.1}\n",
      "16.902458820833036\n",
      "----\n",
      "{'Nh': 35, 'rate': 1e-05, 'reg': 0.4}\n",
      "18.484955315228166\n",
      "----\n",
      "{'Nh': 50, 'rate': 0.0001, 'reg': 0.25}\n",
      "16.936022192953985\n",
      "----\n",
      "{'Nh': 35, 'rate': 1e-05, 'reg': 0.25}\n",
      "18.090705678373986\n",
      "----\n",
      "{'Nh': 50, 'rate': 1e-05, 'reg': 0.25}\n",
      "21.440945125885456\n",
      "----\n",
      "{'Nh': 35, 'rate': 0.0001, 'reg': 0.0}\n",
      "17.22919477081492\n",
      "----\n",
      "{'Nh': 15, 'rate': 1e-05, 'reg': 0.0}\n",
      "17.61643008108432\n",
      "----\n",
      "{'Nh': 15, 'rate': 0.0001, 'reg': 0.1}\n",
      "16.855148018578937\n",
      "----\n",
      "{'Nh': 15, 'rate': 1e-05, 'reg': 0.25}\n",
      "18.692598363938057\n",
      "----\n",
      "{'Nh': 35, 'rate': 0.0001, 'reg': 0.25}\n",
      "16.909072685160556\n",
      "----\n",
      "{'Nh': 50, 'rate': 0.0001, 'reg': 0.01}\n",
      "16.907556284935588\n",
      "----\n",
      "{'Nh': 15, 'rate': 1e-05, 'reg': 0.01}\n",
      "18.987010308643757\n",
      "----\n",
      "{'Nh': 35, 'rate': 1e-05, 'reg': 0.1}\n",
      "18.43550040406963\n",
      "----\n",
      "{'Nh': 100, 'rate': 0.0001, 'reg': 0.25}\n",
      "16.905462378706797\n",
      "----\n",
      "{'Nh': 100, 'rate': 1e-05, 'reg': 0.25}\n",
      "18.418280394544432\n",
      "----\n",
      "{'Nh': 15, 'rate': 1e-05, 'reg': 0.1}\n",
      "19.62586089628784\n",
      "----\n",
      "{'Nh': 15, 'rate': 0.0001, 'reg': 0.4}\n",
      "16.878326655531062\n",
      "----\n",
      "{'Nh': 50, 'rate': 1e-05, 'reg': 0.0}\n",
      "18.897960532242383\n",
      "----\n",
      "{'Nh': 35, 'rate': 1e-05, 'reg': 0.01}\n",
      "20.661235334342972\n",
      "----\n",
      "{'Nh': 35, 'rate': 1e-05, 'reg': 0.4}\n",
      "20.73254236932408\n",
      "----\n",
      "{'Nh': 100, 'rate': 0.0001, 'reg': 0.01}\n",
      "17.022081193351173\n",
      "----\n",
      "{'Nh': 15, 'rate': 1e-05, 'reg': 0.0}\n",
      "18.85271506867657\n",
      "----\n"
     ]
    }
   ],
   "source": [
    "best, combinations, scores = RandomSearch(MLP_1L, grid, 30, RMSE)"
   ]
  },
  {
   "cell_type": "code",
   "execution_count": null,
   "metadata": {},
   "outputs": [],
   "source": [
    "best"
   ]
  },
  {
   "cell_type": "code",
   "execution_count": null,
   "metadata": {},
   "outputs": [],
   "source": [
    "np.argmin(scores)"
   ]
  },
  {
   "cell_type": "markdown",
   "metadata": {},
   "source": [
    "### Performance para o conjunto de validação"
   ]
  },
  {
   "cell_type": "code",
   "execution_count": null,
   "metadata": {},
   "outputs": [],
   "source": [
    "def MSE(true, pred):\n",
    "    return np.mean((true - pred)**2)\n",
    "\n",
    "def MRE(y_true ,y_pred):\n",
    "    return np.mean(np.abs((y_true - y_pred)/y_true))"
   ]
  },
  {
   "cell_type": "code",
   "execution_count": null,
   "metadata": {
    "scrolled": false
   },
   "outputs": [],
   "source": [
    "model = MLP_1L(**best)\n",
    "\n",
    "model.fit(x_train_scaled, y_train_scaled, x_val_scaled, y_val_scaled)\n",
    "y_pred = model.predict(x_val_scaled)\n",
    "y_pred = scaler_y.inverse(y_pred)\n",
    "\n",
    "\n",
    "mre = MRE(y_val, y_pred)\n",
    "RMSE = np.sqrt(MSE(y_val, y_pred))\n",
    "\n",
    "print(\"MRE: {}\".format(mre))\n",
    "print(\"RMSE: {}\".format(RMSE))"
   ]
  },
  {
   "cell_type": "markdown",
   "metadata": {},
   "source": [
    "**Curva de aprendizagem para treino e validação**"
   ]
  },
  {
   "cell_type": "code",
   "execution_count": null,
   "metadata": {
    "scrolled": true
   },
   "outputs": [],
   "source": [
    "plt.plot(model.costs, label='train')\n",
    "plt.plot(model.costs_val, label='validation')\n",
    "plt.title(\"Curva de aprendizagem: Train x Validation\")\n",
    "plt.legend()"
   ]
  },
  {
   "cell_type": "markdown",
   "metadata": {},
   "source": [
    "### Performance para o conjunto de treino"
   ]
  },
  {
   "cell_type": "code",
   "execution_count": null,
   "metadata": {},
   "outputs": [],
   "source": [
    "y_pred = model.predict(x_train_scaled)\n",
    "y_pred = scaler_y.inverse(y_pred)\n",
    "\n",
    "\n",
    "mre = MRE(y_train, y_pred)\n",
    "RMSE = np.sqrt(MSE(y_train, y_pred))\n",
    "\n",
    "print(\"MRE: {}\".format(mre))\n",
    "print(\"RMSE: {}\".format(RMSE))\n"
   ]
  },
  {
   "cell_type": "markdown",
   "metadata": {},
   "source": [
    "### Treinando o modelo usando treino e validação e avaliando no conjunto de teste"
   ]
  },
  {
   "cell_type": "code",
   "execution_count": null,
   "metadata": {},
   "outputs": [],
   "source": [
    "scaler_x.fit(x_train)\n",
    "scaler_y.fit(y_train)\n",
    "\n",
    "x_train_scaled  = scaler_x.transform(x_train)\n",
    "x_val_scaled = scaler_x.transform(x_test)\n",
    "\n",
    "y_train_scaled = scaler_y.transform(y_train)\n",
    "y_val_scaled = scaler_y.transform(y_train)"
   ]
  },
  {
   "cell_type": "code",
   "execution_count": null,
   "metadata": {},
   "outputs": [],
   "source": [
    "model = MLP_1L(**best)\n",
    "\n",
    "model.fit(x_train, y_train, x_val, y_val)\n",
    "y_pred = model.predict(x_val)\n",
    "y_pred = scaler_y.inverse(y_pred)\n",
    "\n",
    "\n",
    "mre = MRE(y_test, y_pred)\n",
    "RMSE = np.sqrt(MSE(y_test, y_pred))\n",
    "\n",
    "print(\"MRE: {}\".format(mre))\n",
    "print(\"RMSE: {}\".format(RMSE))"
   ]
  },
  {
   "cell_type": "markdown",
   "metadata": {},
   "source": [
    "# 2. MLP para classificação (usando Sklearn)"
   ]
  },
  {
   "cell_type": "code",
   "execution_count": null,
   "metadata": {},
   "outputs": [],
   "source": [
    "from sklearn.datasets import fetch_openml\n",
    "vowel = fetch_openml(data_id='307',as_frame=True)\n",
    "X = vowel.data.iloc[:, 2:]\n",
    "y = vowel.target"
   ]
  },
  {
   "cell_type": "code",
   "execution_count": null,
   "metadata": {},
   "outputs": [],
   "source": [
    "X.shape"
   ]
  },
  {
   "cell_type": "code",
   "execution_count": null,
   "metadata": {},
   "outputs": [],
   "source": [
    "X.head()"
   ]
  },
  {
   "cell_type": "code",
   "execution_count": null,
   "metadata": {},
   "outputs": [],
   "source": [
    "y.head()"
   ]
  },
  {
   "cell_type": "code",
   "execution_count": null,
   "metadata": {},
   "outputs": [],
   "source": [
    "import pandas as pd\n",
    "y = pd.get_dummies(y, prefix='target')"
   ]
  },
  {
   "cell_type": "code",
   "execution_count": null,
   "metadata": {},
   "outputs": [],
   "source": [
    "y.head()"
   ]
  },
  {
   "cell_type": "code",
   "execution_count": null,
   "metadata": {},
   "outputs": [],
   "source": [
    "X = X.to_numpy()\n",
    "y = y.to_numpy()"
   ]
  },
  {
   "cell_type": "code",
   "execution_count": null,
   "metadata": {},
   "outputs": [],
   "source": [
    "x_train, x_test, y_train, y_test = train_test_split(X, y, test_size=0.2, random_state=1)\n",
    "\n",
    "x_train, x_val, y_train, y_val = train_test_split(x_train, y_train, test_size=0.25, random_state=1)"
   ]
  },
  {
   "cell_type": "code",
   "execution_count": null,
   "metadata": {},
   "outputs": [],
   "source": [
    "scaler_x = Scaler()\n",
    "\n",
    "scaler_x.fit(x_train)\n",
    "\n",
    "x_train_scaled = scaler_x.transform(x_train)\n",
    "x_val_scaled = scaler_x.transform(x_val)"
   ]
  },
  {
   "cell_type": "code",
   "execution_count": null,
   "metadata": {},
   "outputs": [],
   "source": [
    "model = MLPClassifier(activation= 'relu',momentum= 0.9, hidden_layer_sizes= (75,),\n",
    "                      max_iter= 20000,solver='sgd', learning_rate='adaptive', alpha=0.001)"
   ]
  },
  {
   "cell_type": "code",
   "execution_count": null,
   "metadata": {},
   "outputs": [],
   "source": [
    "model.get_params()"
   ]
  },
  {
   "cell_type": "code",
   "execution_count": null,
   "metadata": {},
   "outputs": [],
   "source": [
    "model.fit(x_train_scaled, y_train)"
   ]
  },
  {
   "cell_type": "code",
   "execution_count": null,
   "metadata": {},
   "outputs": [],
   "source": [
    "y_pred = model.predict(x_val_scaled)"
   ]
  },
  {
   "cell_type": "code",
   "execution_count": null,
   "metadata": {},
   "outputs": [],
   "source": [
    "from sklearn.metrics import accuracy_score\n",
    "acc = accuracy_score(y_val, y_pred)\n",
    "print(acc)"
   ]
  },
  {
   "cell_type": "code",
   "execution_count": null,
   "metadata": {},
   "outputs": [],
   "source": []
  }
 ],
 "metadata": {
  "kernelspec": {
   "display_name": "Python 3",
   "language": "python",
   "name": "python3"
  },
  "language_info": {
   "codemirror_mode": {
    "name": "ipython",
    "version": 3
   },
   "file_extension": ".py",
   "mimetype": "text/x-python",
   "name": "python",
   "nbconvert_exporter": "python",
   "pygments_lexer": "ipython3",
   "version": "3.8.3"
  }
 },
 "nbformat": 4,
 "nbformat_minor": 4
}
