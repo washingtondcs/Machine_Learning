{
 "cells": [
  {
   "cell_type": "code",
   "execution_count": 1,
   "metadata": {},
   "outputs": [],
   "source": [
    "import pandas as pd\n",
    "import numpy as np\n",
    "import matplotlib.pyplot as plt\n",
    "from sklearn.neural_network import MLPClassifier\n",
    "from sklearn.preprocessing import OneHotEncoder"
   ]
  },
  {
   "cell_type": "code",
   "execution_count": 2,
   "metadata": {},
   "outputs": [],
   "source": [
    "from sklearn.datasets import fetch_openml\n",
    "concrete = fetch_openml(data_id='4353',as_frame=True)\n",
    "X = concrete.data.iloc[:,0:8]\n",
    "y = concrete.data.iloc[:,8]"
   ]
  },
  {
   "cell_type": "code",
   "execution_count": 3,
   "metadata": {
    "scrolled": true
   },
   "outputs": [
    {
     "data": {
      "text/html": [
       "<div>\n",
       "<style scoped>\n",
       "    .dataframe tbody tr th:only-of-type {\n",
       "        vertical-align: middle;\n",
       "    }\n",
       "\n",
       "    .dataframe tbody tr th {\n",
       "        vertical-align: top;\n",
       "    }\n",
       "\n",
       "    .dataframe thead th {\n",
       "        text-align: right;\n",
       "    }\n",
       "</style>\n",
       "<table border=\"1\" class=\"dataframe\">\n",
       "  <thead>\n",
       "    <tr style=\"text-align: right;\">\n",
       "      <th></th>\n",
       "      <th>Cement (component 1)(kg in a m^3 mixture)</th>\n",
       "      <th>Blast Furnace Slag (component 2)(kg in a m^3 mixture)</th>\n",
       "      <th>Fly Ash (component 3)(kg in a m^3 mixture)</th>\n",
       "      <th>Water  (component 4)(kg in a m^3 mixture)</th>\n",
       "      <th>Superplasticizer (component 5)(kg in a m^3 mixture)</th>\n",
       "      <th>Coarse Aggregate  (component 6)(kg in a m^3 mixture)</th>\n",
       "      <th>Fine Aggregate (component 7)(kg in a m^3 mixture)</th>\n",
       "      <th>Age (day)</th>\n",
       "    </tr>\n",
       "  </thead>\n",
       "  <tbody>\n",
       "    <tr>\n",
       "      <th>0</th>\n",
       "      <td>540.0</td>\n",
       "      <td>0.0</td>\n",
       "      <td>0.0</td>\n",
       "      <td>162.0</td>\n",
       "      <td>2.5</td>\n",
       "      <td>1040.0</td>\n",
       "      <td>676.0</td>\n",
       "      <td>28.0</td>\n",
       "    </tr>\n",
       "    <tr>\n",
       "      <th>1</th>\n",
       "      <td>540.0</td>\n",
       "      <td>0.0</td>\n",
       "      <td>0.0</td>\n",
       "      <td>162.0</td>\n",
       "      <td>2.5</td>\n",
       "      <td>1055.0</td>\n",
       "      <td>676.0</td>\n",
       "      <td>28.0</td>\n",
       "    </tr>\n",
       "    <tr>\n",
       "      <th>2</th>\n",
       "      <td>332.5</td>\n",
       "      <td>142.5</td>\n",
       "      <td>0.0</td>\n",
       "      <td>228.0</td>\n",
       "      <td>0.0</td>\n",
       "      <td>932.0</td>\n",
       "      <td>594.0</td>\n",
       "      <td>270.0</td>\n",
       "    </tr>\n",
       "    <tr>\n",
       "      <th>3</th>\n",
       "      <td>332.5</td>\n",
       "      <td>142.5</td>\n",
       "      <td>0.0</td>\n",
       "      <td>228.0</td>\n",
       "      <td>0.0</td>\n",
       "      <td>932.0</td>\n",
       "      <td>594.0</td>\n",
       "      <td>365.0</td>\n",
       "    </tr>\n",
       "    <tr>\n",
       "      <th>4</th>\n",
       "      <td>198.6</td>\n",
       "      <td>132.4</td>\n",
       "      <td>0.0</td>\n",
       "      <td>192.0</td>\n",
       "      <td>0.0</td>\n",
       "      <td>978.4</td>\n",
       "      <td>825.5</td>\n",
       "      <td>360.0</td>\n",
       "    </tr>\n",
       "  </tbody>\n",
       "</table>\n",
       "</div>"
      ],
      "text/plain": [
       "   Cement (component 1)(kg in a m^3 mixture)  \\\n",
       "0                                      540.0   \n",
       "1                                      540.0   \n",
       "2                                      332.5   \n",
       "3                                      332.5   \n",
       "4                                      198.6   \n",
       "\n",
       "   Blast Furnace Slag (component 2)(kg in a m^3 mixture)  \\\n",
       "0                                                0.0       \n",
       "1                                                0.0       \n",
       "2                                              142.5       \n",
       "3                                              142.5       \n",
       "4                                              132.4       \n",
       "\n",
       "   Fly Ash (component 3)(kg in a m^3 mixture)  \\\n",
       "0                                         0.0   \n",
       "1                                         0.0   \n",
       "2                                         0.0   \n",
       "3                                         0.0   \n",
       "4                                         0.0   \n",
       "\n",
       "   Water  (component 4)(kg in a m^3 mixture)  \\\n",
       "0                                      162.0   \n",
       "1                                      162.0   \n",
       "2                                      228.0   \n",
       "3                                      228.0   \n",
       "4                                      192.0   \n",
       "\n",
       "   Superplasticizer (component 5)(kg in a m^3 mixture)  \\\n",
       "0                                                2.5     \n",
       "1                                                2.5     \n",
       "2                                                0.0     \n",
       "3                                                0.0     \n",
       "4                                                0.0     \n",
       "\n",
       "   Coarse Aggregate  (component 6)(kg in a m^3 mixture)  \\\n",
       "0                                             1040.0      \n",
       "1                                             1055.0      \n",
       "2                                              932.0      \n",
       "3                                              932.0      \n",
       "4                                              978.4      \n",
       "\n",
       "   Fine Aggregate (component 7)(kg in a m^3 mixture)  Age (day)  \n",
       "0                                              676.0       28.0  \n",
       "1                                              676.0       28.0  \n",
       "2                                              594.0      270.0  \n",
       "3                                              594.0      365.0  \n",
       "4                                              825.5      360.0  "
      ]
     },
     "execution_count": 3,
     "metadata": {},
     "output_type": "execute_result"
    }
   ],
   "source": [
    "X.head()"
   ]
  },
  {
   "cell_type": "code",
   "execution_count": 4,
   "metadata": {},
   "outputs": [
    {
     "data": {
      "text/plain": [
       "0    79.99\n",
       "1    61.89\n",
       "2    40.27\n",
       "3    41.05\n",
       "4    44.30\n",
       "Name: Concrete compressive strength(MPa. megapascals), dtype: float64"
      ]
     },
     "execution_count": 4,
     "metadata": {},
     "output_type": "execute_result"
    }
   ],
   "source": [
    "y.head()"
   ]
  },
  {
   "cell_type": "code",
   "execution_count": 5,
   "metadata": {},
   "outputs": [],
   "source": [
    "X = X.to_numpy()\n",
    "y = y.to_numpy()"
   ]
  },
  {
   "cell_type": "code",
   "execution_count": 6,
   "metadata": {},
   "outputs": [],
   "source": [
    "from sklearn.model_selection import train_test_split"
   ]
  },
  {
   "cell_type": "code",
   "execution_count": 7,
   "metadata": {},
   "outputs": [],
   "source": [
    "#Divisão de treino e teste\n",
    "x_train, x_test, y_train, y_test = train_test_split(X, y, test_size=0.2, random_state=1)\n",
    "x_train, x_val, y_train, y_val = train_test_split(x_train, y_train, test_size=0.25, random_state=1)"
   ]
  },
  {
   "cell_type": "code",
   "execution_count": 8,
   "metadata": {},
   "outputs": [],
   "source": [
    "class scale_min_max():\n",
    " def __init__(self):\n",
    "  self.max = None\n",
    "  self.min = None \n",
    "    \n",
    " def fit(self, data):\n",
    "  self.max = data.max()\n",
    "  self.min = data.min()\n",
    "    \n",
    " def transform(self, data):\n",
    "  return (data - self.min)/ (self.max-self.min)\n",
    "\n",
    " def inversa(self, data):\n",
    "  return data * (self.max - self.min) + self.min"
   ]
  },
  {
   "cell_type": "code",
   "execution_count": 9,
   "metadata": {},
   "outputs": [],
   "source": [
    "scale_x = scale_min_max()\n",
    "scale_y = scale_min_max()\n",
    "\n",
    "scale_x.fit(x_train)\n",
    "scale_y.fit(y_train)\n",
    "\n",
    "x_train_scaled = scale_x.transform(x_train)\n",
    "x_val_scaled = scale_x.transform(x_val)\n",
    "\n",
    "y_train_scaled = scale_y.transform(y_train)\n",
    "y_val_scaled = scale_y.transform(y_val)"
   ]
  },
  {
   "cell_type": "code",
   "execution_count": 10,
   "metadata": {},
   "outputs": [],
   "source": [
    "def relu(u):\n",
    "    return np.maximum(0, u)\n",
    "\n",
    "def relu_dif(u):\n",
    "    return (u >= 0) * 1.0 \n",
    "\n",
    "def afim(z):\n",
    "    return z\n",
    "\n",
    "def afim_dif(z):\n",
    "    return np.ones(shape=z.shape) \n",
    "\n",
    "def tanh(u):\n",
    "    return (np.exp(2*u) - 1)/(np.exp(2*u) + 1)\n",
    "\n",
    "def tanh_dif(u):\n",
    "    return 1 - np.tanh(u)**2\n",
    "\n",
    "def sigmoid(z):\n",
    "    return 1 / (1 + np.exp(-z))\n",
    "\n",
    "def sigmoid_dif(z):\n",
    "    return sigmoid(z) * (1 - sigmoid(z))\n",
    "\n",
    "def softmax(z):\n",
    "    return np.exp(z) / np.sum(np.exp(z), axis=0)[None,:]\n",
    "\n",
    "def softmax_dif(z):\n",
    "    return softmax(z) * (1 - softmax(z))\n",
    "\n",
    "def cost_mse(true, pred):\n",
    "    return np.mean((true - pred)**2)\n",
    "\n",
    "def cost_logistic(true, pred):\n",
    "    return np.mean(- true * np.log(pred) - (1 - true) * np.log(1 - pred))\n",
    "\n",
    "def cost_softmax(true, pred):\n",
    "    return - np.sum(true * np.log(pred)) / len(true)"
   ]
  },
  {
   "cell_type": "code",
   "execution_count": 11,
   "metadata": {},
   "outputs": [],
   "source": [
    "def RMSE(true, pred):\n",
    " rmse = np.sqrt(np.mean((true - pred)**2))\n",
    " return rmse\n",
    "\n",
    "def MSE(true, pred):\n",
    " mse = np.mean((true - pred)**2)\n",
    " return mse\n",
    "\n",
    "def MRE(y_true ,y_pred):\n",
    " mre = np.mean(np.abs((y_true - y_pred)/y_true))\n",
    " return mre\n",
    "\n",
    "def ACC(y_true, y_pred):\n",
    " acc = (y_true == y_pred).sum()/len(y_pred)\n",
    " return acc"
   ]
  },
  {
   "cell_type": "markdown",
   "metadata": {},
   "source": [
    "## Questão 1 (MLP para regressão)"
   ]
  },
  {
   "cell_type": "code",
   "execution_count": 12,
   "metadata": {
    "scrolled": true
   },
   "outputs": [],
   "source": [
    "class MLP_1L():\n",
    "    \n",
    "    def __init__(self, Nh=20, momentum=0.9, t=300, rate=0.0001, \n",
    "                 size_batch= 32, phi_1 = 'tanh', phi_2 = 'afim', cost = 'mse', reg = 0.1):      \n",
    "        self.t = t\n",
    "        self.rate = rate\n",
    "        self.B = size_batch\n",
    "        self.lamb = reg\n",
    "                \n",
    "        self.W = None\n",
    "        self.M = None\n",
    "        self.D = None\n",
    "        self.Nh = Nh\n",
    "        self.momentum = momentum\n",
    "        self.K = 1\n",
    "        \n",
    "        self.atv_1 = phi_1\n",
    "        self.atv_2 = phi_2\n",
    "        self.phi_1 = None\n",
    "        self.phi_2 = None\n",
    "        self.cost = cost\n",
    "        self.f_cost = None\n",
    "        \n",
    "        self.costs = []\n",
    "        self.costs_val = []\n",
    "        \n",
    "        if self.atv_1 == 'tanh':\n",
    "            self.phi_1 = np.tanh               \n",
    "            self.phi_1_dif = tanh_dif\n",
    "            \n",
    "        if self.atv_1 == 'relu':\n",
    "            self.phi_1 = relu                \n",
    "            self.phi_1_dif = relu_dif                         \n",
    "                      \n",
    "        if self.atv_2 == 'afim':\n",
    "            self.phi_2 = afim          \n",
    "            self.phi_2_dif = afim_dif\n",
    "            self.f_cost = cost_mse\n",
    "            \n",
    "        if self.atv_2 == 'sigmoid':\n",
    "            self.phi_2 = sigmoid                \n",
    "            self.phi_2_dif = sigmoid_dif\n",
    "            self.f_cost = cost_logistic\n",
    "            \n",
    "        if self.atv_2 == 'softmax': \n",
    "            self.phi_2 = softmax                \n",
    "            self.phi_2_dif = softmax_dif\n",
    "            self.f_cost = cost_softmax          \n",
    "        \n",
    "    def fit(self, X, y, X_val, y_val):\n",
    "        if self.atv_2 == 'softmax':\n",
    "            self.K = len(np.unique(y))\n",
    "        n = X.shape[0]\n",
    "        X = np.c_[np.ones(X.shape[0]), X]\n",
    "        X_val = np.c_[np.ones(X_val.shape[0]), X_val]\n",
    "        y = y.reshape(-1,1) \n",
    "        y_val = y_val.reshape(-1,1)\n",
    "        self.D = X.shape[1]\n",
    "    \n",
    "        self.W = np.random.normal(loc= 0, scale=1,size=(self.Nh,self.D)) * np.sqrt(1/self.D)\n",
    "        self.W[:,0] = 0\n",
    "        self.M = np.random.normal(loc= 0, scale=1,size=(self.K, self.Nh+1)) * np.sqrt(1/self.Nh+1)\n",
    "        self.M[:, 0] = 0\n",
    "        W_past_increment = 0\n",
    "        M_past_increment = 0 \n",
    "                               \n",
    "        for epoch in range(self.t):\n",
    "            random_index = np.random.permutation(len(y))\n",
    "            X = X[random_index]\n",
    "            index = np.arange(0, n, self.B)\n",
    "            index[-1] = n\n",
    "            for i in range(len(index)-1):\n",
    "                start = index[i]\n",
    "                end = index[i+1]\n",
    "                X_batch = X[start:end, : ]\n",
    "                y_batch = y[start:end]\n",
    "                Z = np.zeros([len(X_batch), self.Nh+1])\n",
    "                \n",
    "                Z[:, 0] = 1                            \n",
    "                u = X_batch @ self.W.T\n",
    "                Z[:, 1:] = self.phi_1(u)\n",
    "                r = Z @ self.M.T\n",
    "                pred = self.phi_2(r)\n",
    "                \n",
    "                error = y_batch - pred\n",
    "                delta = error * self.phi_2_dif(r)              \n",
    "                zeta =  self.phi_1_dif(u) * (delta @ self.M[:, 1:])\n",
    "                term_M = self.lamb*self.M\n",
    "                term_M[:, 0] = 0\n",
    "                self.M = self.M + self.rate * (delta.T @ Z - term_M) +  self.momentum * M_past_increment\n",
    "                M_past_increment = self.rate * (delta.T @ Z - term_M)\n",
    "                term_W = self.lamb*self.W\n",
    "                term_W[:,0] = 0\n",
    "                self.W = self.W + self.rate * (zeta.T @ X_batch - term_W) + self.momentum * W_past_increment\n",
    "                W_past_increment = self.rate * (zeta.T @ X_batch - term_W)\n",
    "                \n",
    "                Z = np.zeros([len(X), self.Nh+1])\n",
    "                Z[:, 0] = 1                \n",
    "                u = X @ self.W.T\n",
    "                Z[:, 1:] = self.phi_1(u)\n",
    "                r = Z @ self.M.T\n",
    "                y_pred  = self.phi_2(r)                                 \n",
    "                loss = self.f_cost(y, y_pred)/2\n",
    "                self.costs.append(loss)\n",
    "                \n",
    "                Z = np.zeros([len(X_val), self.Nh+1])\n",
    "                Z[:, 0] = 1                \n",
    "                u = X_val @ self.W.T\n",
    "                Z[:, 1:] = self.phi_1(u)\n",
    "                r = Z @ self.M.T\n",
    "                y_pred_val  = self.phi_2(r)        \n",
    "                loss_val = self.f_cost(y_val, y_pred_val)/2\n",
    "                self.costs_val.append(loss_val)\n",
    "                \n",
    "    def predict(self, X):\n",
    "        \n",
    "        X = np.c_[np.ones(X.shape[0]), X]        \n",
    "        Z = np.zeros([len(X), self.Nh+1])\n",
    "        Z[:, 0] = 1                \n",
    "        u = X @ self.W.T\n",
    "        Z[:, 1:] = self.phi_1(u)\n",
    "        r = Z @ self.M.T\n",
    "        y_pred  = self.phi_2(r)\n",
    "        return y_pred"
   ]
  },
  {
   "cell_type": "code",
   "execution_count": 13,
   "metadata": {},
   "outputs": [],
   "source": [
    "grid = {\n",
    "    'Nh':[15 , 35 ,50,100],\n",
    "    'rate':[0.0001 ,0.00001],\n",
    "    'reg' : [0 ,0.01, 0.1, 0.25, 0.4]\n",
    "    }\n",
    "\n",
    "def RandomSearch(modelo, grid, qtd, cost):\n",
    "    combinations = []\n",
    "    while len(combinations) < qtd:\n",
    "        a = {}\n",
    "        for yi in grid.keys():\n",
    "            a[yi] = np.random.choice(grid[yi])\n",
    "            if a not in combinations:\n",
    "                combinations.append(a)\n",
    "                \n",
    "    scores = []      \n",
    "    for comb in combinations:\n",
    "        model = modelo(**comb)\n",
    "        model.fit(x_train_scaled, y_train_scaled, x_val_scaled, y_val_scaled)\n",
    "        y_pred = model.predict(x_val_scaled)\n",
    "        y_pred = scale_y.inversa(y_pred)\n",
    "        scores.append(cost(y_val, y_pred))\n",
    "        print(comb)\n",
    "        print(cost(y_val, y_pred))\n",
    "        print(\"----\")\n",
    "        \n",
    "    scores = np.array(scores)\n",
    "    best_index = np.argmin(scores)\n",
    "    best = combinations[best_index]\n",
    "        \n",
    "    return best, combinations, scores\n",
    "        "
   ]
  },
  {
   "cell_type": "markdown",
   "metadata": {},
   "source": [
    "### RamdomSearch usando o conjunto de validação\n"
   ]
  },
  {
   "cell_type": "code",
   "execution_count": 14,
   "metadata": {},
   "outputs": [
    {
     "name": "stdout",
     "output_type": "stream",
     "text": [
      "{'Nh': 50, 'rate': 0.0001, 'reg': 0.25}\n",
      "16.913140338800577\n",
      "----\n",
      "{'Nh': 100, 'rate': 1e-05, 'reg': 0.4}\n",
      "19.5572303459627\n",
      "----\n",
      "{'Nh': 50, 'rate': 0.0001, 'reg': 0.25}\n",
      "16.88811410254599\n",
      "----\n",
      "{'Nh': 100, 'rate': 1e-05, 'reg': 0.1}\n",
      "19.80640328168632\n",
      "----\n",
      "{'Nh': 50, 'rate': 0.0001, 'reg': 0.4}\n",
      "16.851219939771\n",
      "----\n",
      "{'Nh': 100, 'rate': 1e-05, 'reg': 0.25}\n",
      "17.695775934108195\n",
      "----\n",
      "{'Nh': 15, 'rate': 1e-05, 'reg': 0.1}\n",
      "19.504926412804725\n",
      "----\n",
      "{'Nh': 35, 'rate': 0.0001, 'reg': 0.01}\n",
      "16.899408989374557\n",
      "----\n",
      "{'Nh': 15, 'rate': 0.0001, 'reg': 0.0}\n",
      "16.89774665934601\n",
      "----\n",
      "{'Nh': 15, 'rate': 0.0001, 'reg': 0.1}\n",
      "16.891128841157\n",
      "----\n",
      "{'Nh': 15, 'rate': 0.0001, 'reg': 0.01}\n",
      "17.06068782761309\n",
      "----\n",
      "{'Nh': 100, 'rate': 0.0001, 'reg': 0.0}\n",
      "17.536274759981936\n",
      "----\n",
      "{'Nh': 35, 'rate': 1e-05, 'reg': 0.4}\n",
      "19.242140274050858\n",
      "----\n",
      "{'Nh': 15, 'rate': 0.0001, 'reg': 0.1}\n",
      "16.910457810631865\n",
      "----\n",
      "{'Nh': 100, 'rate': 1e-05, 'reg': 0.01}\n",
      "18.6130763758085\n",
      "----\n",
      "{'Nh': 50, 'rate': 1e-05, 'reg': 0.01}\n",
      "19.70524387147233\n",
      "----\n",
      "{'Nh': 35, 'rate': 1e-05, 'reg': 0.01}\n",
      "18.982734935774765\n",
      "----\n",
      "{'Nh': 35, 'rate': 0.0001, 'reg': 0.25}\n",
      "16.87704098915537\n",
      "----\n",
      "{'Nh': 15, 'rate': 1e-05, 'reg': 0.4}\n",
      "18.898060290645514\n",
      "----\n",
      "{'Nh': 50, 'rate': 1e-05, 'reg': 0.01}\n",
      "19.394257414212117\n",
      "----\n"
     ]
    }
   ],
   "source": [
    "best, combinations, scores = RandomSearch(MLP_1L, grid, 20, RMSE)"
   ]
  },
  {
   "cell_type": "code",
   "execution_count": 15,
   "metadata": {},
   "outputs": [
    {
     "data": {
      "text/plain": [
       "{'Nh': 50, 'rate': 0.0001, 'reg': 0.4}"
      ]
     },
     "execution_count": 15,
     "metadata": {},
     "output_type": "execute_result"
    }
   ],
   "source": [
    "best"
   ]
  },
  {
   "cell_type": "code",
   "execution_count": 16,
   "metadata": {},
   "outputs": [
    {
     "data": {
      "text/plain": [
       "4"
      ]
     },
     "execution_count": 16,
     "metadata": {},
     "output_type": "execute_result"
    }
   ],
   "source": [
    "np.argmin(scores)"
   ]
  },
  {
   "cell_type": "markdown",
   "metadata": {},
   "source": [
    "### Performance para o conjunto de validação"
   ]
  },
  {
   "cell_type": "code",
   "execution_count": 17,
   "metadata": {
    "scrolled": false
   },
   "outputs": [
    {
     "name": "stdout",
     "output_type": "stream",
     "text": [
      "MRE: 0.5882605427893529\n",
      "RMSE: 16.90967575357438\n"
     ]
    }
   ],
   "source": [
    "model = MLP_1L(**best)\n",
    "\n",
    "model.fit(x_train_scaled, y_train_scaled, x_val_scaled, y_val_scaled)\n",
    "y_pred = model.predict(x_val_scaled)\n",
    "y_pred = scale_y.inversa(y_pred)\n",
    "\n",
    "\n",
    "mre = MRE(y_val, y_pred)\n",
    "RMSE = np.sqrt(MSE(y_val, y_pred))\n",
    "\n",
    "print(\"MRE: {}\".format(mre))\n",
    "print(\"RMSE: {}\".format(RMSE))"
   ]
  },
  {
   "cell_type": "markdown",
   "metadata": {},
   "source": [
    "**Curva de aprendizagem para treino e validação**"
   ]
  },
  {
   "cell_type": "code",
   "execution_count": 18,
   "metadata": {
    "scrolled": true
   },
   "outputs": [
    {
     "data": {
      "text/plain": [
       "<matplotlib.legend.Legend at 0x2a963fc5250>"
      ]
     },
     "execution_count": 18,
     "metadata": {},
     "output_type": "execute_result"
    },
    {
     "data": {
      "image/png": "[encoded data removed]",
      "text/plain": [
       "<Figure size 432x288 with 1 Axes>"
      ]
     },
     "metadata": {
      "needs_background": "light"
     },
     "output_type": "display_data"
    }
   ],
   "source": [
    "plt.plot(model.costs, label='train')\n",
    "plt.plot(model.costs_val, label='validation')\n",
    "plt.title(\"Curva de aprendizagem: Train x Validation\")\n",
    "plt.legend()"
   ]
  },
  {
   "cell_type": "markdown",
   "metadata": {},
   "source": [
    "### Performance para o conjunto de treino"
   ]
  },
  {
   "cell_type": "code",
   "execution_count": 19,
   "metadata": {},
   "outputs": [
    {
     "name": "stdout",
     "output_type": "stream",
     "text": [
      "MRE: 0.5902605390532443\n",
      "RMSE: 16.897557209427454\n"
     ]
    }
   ],
   "source": [
    "y_pred = model.predict(x_train_scaled)\n",
    "y_pred = scale_y.inversa(y_pred)\n",
    "\n",
    "\n",
    "mre = MRE(y_train, y_pred)\n",
    "RMSE = np.sqrt(MSE(y_train, y_pred))\n",
    "\n",
    "print(\"MRE: {}\".format(mre))\n",
    "print(\"RMSE: {}\".format(RMSE))\n"
   ]
  },
  {
   "cell_type": "markdown",
   "metadata": {},
   "source": [
    "### Treinando o modelo usando treino e validação e avaliando no conjunto de teste"
   ]
  },
  {
   "cell_type": "code",
   "execution_count": 20,
   "metadata": {},
   "outputs": [],
   "source": [
    "scale_x.fit(x_train)\n",
    "scale_y.fit(y_train)\n",
    "\n",
    "x_train_scaled  = scale_x.transform(x_train)\n",
    "x_val_scaled = scale_x.transform(x_test)\n",
    "\n",
    "y_train_scaled = scale_y.transform(y_train)\n",
    "y_val_scaled = scale_y.transform(y_train)"
   ]
  },
  {
   "cell_type": "code",
   "execution_count": 21,
   "metadata": {},
   "outputs": [
    {
     "name": "stdout",
     "output_type": "stream",
     "text": [
      "MRE: 87.82114651708663\n",
      "RMSE: 2514.861177633201\n"
     ]
    }
   ],
   "source": [
    "model = MLP_1L(**best)\n",
    "\n",
    "model.fit(x_train, y_train, x_val, y_val)\n",
    "y_pred = model.predict(x_val)\n",
    "y_pred = scale_y.inversa(y_pred)\n",
    "\n",
    "\n",
    "mre = MRE(y_test, y_pred)\n",
    "RMSE = np.sqrt(MSE(y_test, y_pred))\n",
    "\n",
    "print(\"MRE: {}\".format(mre))\n",
    "print(\"RMSE: {}\".format(RMSE))"
   ]
  },
  {
   "cell_type": "markdown",
   "metadata": {},
   "source": [
    "## Questão 2 (MLP para classificação)"
   ]
  },
  {
   "cell_type": "code",
   "execution_count": 22,
   "metadata": {},
   "outputs": [],
   "source": [
    "from sklearn.datasets import fetch_openml\n",
    "vowel = fetch_openml(data_id='307',as_frame=True)\n",
    "X = vowel.data.iloc[:, 2:]\n",
    "y = vowel.target"
   ]
  },
  {
   "cell_type": "code",
   "execution_count": 23,
   "metadata": {},
   "outputs": [
    {
     "data": {
      "text/plain": [
       "(990, 10)"
      ]
     },
     "execution_count": 23,
     "metadata": {},
     "output_type": "execute_result"
    }
   ],
   "source": [
    "X.shape"
   ]
  },
  {
   "cell_type": "code",
   "execution_count": 24,
   "metadata": {},
   "outputs": [
    {
     "data": {
      "text/html": [
       "<div>\n",
       "<style scoped>\n",
       "    .dataframe tbody tr th:only-of-type {\n",
       "        vertical-align: middle;\n",
       "    }\n",
       "\n",
       "    .dataframe tbody tr th {\n",
       "        vertical-align: top;\n",
       "    }\n",
       "\n",
       "    .dataframe thead th {\n",
       "        text-align: right;\n",
       "    }\n",
       "</style>\n",
       "<table border=\"1\" class=\"dataframe\">\n",
       "  <thead>\n",
       "    <tr style=\"text-align: right;\">\n",
       "      <th></th>\n",
       "      <th>Feature_0</th>\n",
       "      <th>Feature_1</th>\n",
       "      <th>Feature_2</th>\n",
       "      <th>Feature_3</th>\n",
       "      <th>Feature_4</th>\n",
       "      <th>Feature_5</th>\n",
       "      <th>Feature_6</th>\n",
       "      <th>Feature_7</th>\n",
       "      <th>Feature_8</th>\n",
       "      <th>Feature_9</th>\n",
       "    </tr>\n",
       "  </thead>\n",
       "  <tbody>\n",
       "    <tr>\n",
       "      <th>0</th>\n",
       "      <td>-3.639</td>\n",
       "      <td>0.418</td>\n",
       "      <td>-0.670</td>\n",
       "      <td>1.779</td>\n",
       "      <td>-0.168</td>\n",
       "      <td>1.627</td>\n",
       "      <td>-0.388</td>\n",
       "      <td>0.529</td>\n",
       "      <td>-0.874</td>\n",
       "      <td>-0.814</td>\n",
       "    </tr>\n",
       "    <tr>\n",
       "      <th>1</th>\n",
       "      <td>-3.327</td>\n",
       "      <td>0.496</td>\n",
       "      <td>-0.694</td>\n",
       "      <td>1.365</td>\n",
       "      <td>-0.265</td>\n",
       "      <td>1.933</td>\n",
       "      <td>-0.363</td>\n",
       "      <td>0.510</td>\n",
       "      <td>-0.621</td>\n",
       "      <td>-0.488</td>\n",
       "    </tr>\n",
       "    <tr>\n",
       "      <th>2</th>\n",
       "      <td>-2.120</td>\n",
       "      <td>0.894</td>\n",
       "      <td>-1.576</td>\n",
       "      <td>0.147</td>\n",
       "      <td>-0.707</td>\n",
       "      <td>1.559</td>\n",
       "      <td>-0.579</td>\n",
       "      <td>0.676</td>\n",
       "      <td>-0.809</td>\n",
       "      <td>-0.049</td>\n",
       "    </tr>\n",
       "    <tr>\n",
       "      <th>3</th>\n",
       "      <td>-2.287</td>\n",
       "      <td>1.809</td>\n",
       "      <td>-1.498</td>\n",
       "      <td>1.012</td>\n",
       "      <td>-1.053</td>\n",
       "      <td>1.060</td>\n",
       "      <td>-0.567</td>\n",
       "      <td>0.235</td>\n",
       "      <td>-0.091</td>\n",
       "      <td>-0.795</td>\n",
       "    </tr>\n",
       "    <tr>\n",
       "      <th>4</th>\n",
       "      <td>-2.598</td>\n",
       "      <td>1.938</td>\n",
       "      <td>-0.846</td>\n",
       "      <td>1.062</td>\n",
       "      <td>-1.633</td>\n",
       "      <td>0.764</td>\n",
       "      <td>0.394</td>\n",
       "      <td>-0.150</td>\n",
       "      <td>0.277</td>\n",
       "      <td>-0.396</td>\n",
       "    </tr>\n",
       "  </tbody>\n",
       "</table>\n",
       "</div>"
      ],
      "text/plain": [
       "   Feature_0  Feature_1  Feature_2  Feature_3  Feature_4  Feature_5  \\\n",
       "0     -3.639      0.418     -0.670      1.779     -0.168      1.627   \n",
       "1     -3.327      0.496     -0.694      1.365     -0.265      1.933   \n",
       "2     -2.120      0.894     -1.576      0.147     -0.707      1.559   \n",
       "3     -2.287      1.809     -1.498      1.012     -1.053      1.060   \n",
       "4     -2.598      1.938     -0.846      1.062     -1.633      0.764   \n",
       "\n",
       "   Feature_6  Feature_7  Feature_8  Feature_9  \n",
       "0     -0.388      0.529     -0.874     -0.814  \n",
       "1     -0.363      0.510     -0.621     -0.488  \n",
       "2     -0.579      0.676     -0.809     -0.049  \n",
       "3     -0.567      0.235     -0.091     -0.795  \n",
       "4      0.394     -0.150      0.277     -0.396  "
      ]
     },
     "execution_count": 24,
     "metadata": {},
     "output_type": "execute_result"
    }
   ],
   "source": [
    "X.head()"
   ]
  },
  {
   "cell_type": "code",
   "execution_count": 25,
   "metadata": {},
   "outputs": [
    {
     "data": {
      "text/plain": [
       "0    hid\n",
       "1    hId\n",
       "2    hEd\n",
       "3    hAd\n",
       "4    hYd\n",
       "Name: Class, dtype: category\n",
       "Categories (11, object): ['hid', 'hId', 'hEd', 'hAd', ..., 'hod', 'hUd', 'hud', 'hed']"
      ]
     },
     "execution_count": 25,
     "metadata": {},
     "output_type": "execute_result"
    }
   ],
   "source": [
    "y.head()"
   ]
  },
  {
   "cell_type": "code",
   "execution_count": 26,
   "metadata": {},
   "outputs": [],
   "source": [
    "import pandas as pd\n",
    "y = pd.get_dummies(y, prefix='target')"
   ]
  },
  {
   "cell_type": "code",
   "execution_count": 27,
   "metadata": {},
   "outputs": [
    {
     "data": {
      "text/html": [
       "<div>\n",
       "<style scoped>\n",
       "    .dataframe tbody tr th:only-of-type {\n",
       "        vertical-align: middle;\n",
       "    }\n",
       "\n",
       "    .dataframe tbody tr th {\n",
       "        vertical-align: top;\n",
       "    }\n",
       "\n",
       "    .dataframe thead th {\n",
       "        text-align: right;\n",
       "    }\n",
       "</style>\n",
       "<table border=\"1\" class=\"dataframe\">\n",
       "  <thead>\n",
       "    <tr style=\"text-align: right;\">\n",
       "      <th></th>\n",
       "      <th>target_hid</th>\n",
       "      <th>target_hId</th>\n",
       "      <th>target_hEd</th>\n",
       "      <th>target_hAd</th>\n",
       "      <th>target_hYd</th>\n",
       "      <th>target_had</th>\n",
       "      <th>target_hOd</th>\n",
       "      <th>target_hod</th>\n",
       "      <th>target_hUd</th>\n",
       "      <th>target_hud</th>\n",
       "      <th>target_hed</th>\n",
       "    </tr>\n",
       "  </thead>\n",
       "  <tbody>\n",
       "    <tr>\n",
       "      <th>0</th>\n",
       "      <td>1</td>\n",
       "      <td>0</td>\n",
       "      <td>0</td>\n",
       "      <td>0</td>\n",
       "      <td>0</td>\n",
       "      <td>0</td>\n",
       "      <td>0</td>\n",
       "      <td>0</td>\n",
       "      <td>0</td>\n",
       "      <td>0</td>\n",
       "      <td>0</td>\n",
       "    </tr>\n",
       "    <tr>\n",
       "      <th>1</th>\n",
       "      <td>0</td>\n",
       "      <td>1</td>\n",
       "      <td>0</td>\n",
       "      <td>0</td>\n",
       "      <td>0</td>\n",
       "      <td>0</td>\n",
       "      <td>0</td>\n",
       "      <td>0</td>\n",
       "      <td>0</td>\n",
       "      <td>0</td>\n",
       "      <td>0</td>\n",
       "    </tr>\n",
       "    <tr>\n",
       "      <th>2</th>\n",
       "      <td>0</td>\n",
       "      <td>0</td>\n",
       "      <td>1</td>\n",
       "      <td>0</td>\n",
       "      <td>0</td>\n",
       "      <td>0</td>\n",
       "      <td>0</td>\n",
       "      <td>0</td>\n",
       "      <td>0</td>\n",
       "      <td>0</td>\n",
       "      <td>0</td>\n",
       "    </tr>\n",
       "    <tr>\n",
       "      <th>3</th>\n",
       "      <td>0</td>\n",
       "      <td>0</td>\n",
       "      <td>0</td>\n",
       "      <td>1</td>\n",
       "      <td>0</td>\n",
       "      <td>0</td>\n",
       "      <td>0</td>\n",
       "      <td>0</td>\n",
       "      <td>0</td>\n",
       "      <td>0</td>\n",
       "      <td>0</td>\n",
       "    </tr>\n",
       "    <tr>\n",
       "      <th>4</th>\n",
       "      <td>0</td>\n",
       "      <td>0</td>\n",
       "      <td>0</td>\n",
       "      <td>0</td>\n",
       "      <td>1</td>\n",
       "      <td>0</td>\n",
       "      <td>0</td>\n",
       "      <td>0</td>\n",
       "      <td>0</td>\n",
       "      <td>0</td>\n",
       "      <td>0</td>\n",
       "    </tr>\n",
       "  </tbody>\n",
       "</table>\n",
       "</div>"
      ],
      "text/plain": [
       "   target_hid  target_hId  target_hEd  target_hAd  target_hYd  target_had  \\\n",
       "0           1           0           0           0           0           0   \n",
       "1           0           1           0           0           0           0   \n",
       "2           0           0           1           0           0           0   \n",
       "3           0           0           0           1           0           0   \n",
       "4           0           0           0           0           1           0   \n",
       "\n",
       "   target_hOd  target_hod  target_hUd  target_hud  target_hed  \n",
       "0           0           0           0           0           0  \n",
       "1           0           0           0           0           0  \n",
       "2           0           0           0           0           0  \n",
       "3           0           0           0           0           0  \n",
       "4           0           0           0           0           0  "
      ]
     },
     "execution_count": 27,
     "metadata": {},
     "output_type": "execute_result"
    }
   ],
   "source": [
    "y.head()"
   ]
  },
  {
   "cell_type": "code",
   "execution_count": 28,
   "metadata": {},
   "outputs": [],
   "source": [
    "X = X.to_numpy()\n",
    "y = y.to_numpy()"
   ]
  },
  {
   "cell_type": "code",
   "execution_count": 29,
   "metadata": {},
   "outputs": [],
   "source": [
    "#Divisão de treino e teste\n",
    "x_train, x_test, y_train, y_test = train_test_split(X, y, test_size=0.2, random_state=1)\n",
    "x_train, x_val, y_train, y_val = train_test_split(x_train, y_train, test_size=0.25, random_state=1)"
   ]
  },
  {
   "cell_type": "code",
   "execution_count": 30,
   "metadata": {},
   "outputs": [],
   "source": [
    "scale_x = scale_min_max()\n",
    "scale_x.fit(x_train)\n",
    "x_train_scaled = scale_x.transform(x_train)\n",
    "x_val_scaled = scale_x.transform(x_val)"
   ]
  },
  {
   "cell_type": "code",
   "execution_count": 31,
   "metadata": {},
   "outputs": [],
   "source": [
    "model = MLPClassifier(activation= 'relu',momentum= 0.9, hidden_layer_sizes= (75,),\n",
    "                      max_iter= 10000,solver='sgd', learning_rate='adaptive', alpha=0.001)"
   ]
  },
  {
   "cell_type": "code",
   "execution_count": 32,
   "metadata": {},
   "outputs": [
    {
     "data": {
      "text/plain": [
       "{'activation': 'relu',\n",
       " 'alpha': 0.001,\n",
       " 'batch_size': 'auto',\n",
       " 'beta_1': 0.9,\n",
       " 'beta_2': 0.999,\n",
       " 'early_stopping': False,\n",
       " 'epsilon': 1e-08,\n",
       " 'hidden_layer_sizes': (75,),\n",
       " 'learning_rate': 'adaptive',\n",
       " 'learning_rate_init': 0.001,\n",
       " 'max_fun': 15000,\n",
       " 'max_iter': 10000,\n",
       " 'momentum': 0.9,\n",
       " 'n_iter_no_change': 10,\n",
       " 'nesterovs_momentum': True,\n",
       " 'power_t': 0.5,\n",
       " 'random_state': None,\n",
       " 'shuffle': True,\n",
       " 'solver': 'sgd',\n",
       " 'tol': 0.0001,\n",
       " 'validation_fraction': 0.1,\n",
       " 'verbose': False,\n",
       " 'warm_start': False}"
      ]
     },
     "execution_count": 32,
     "metadata": {},
     "output_type": "execute_result"
    }
   ],
   "source": [
    "model.get_params()"
   ]
  },
  {
   "cell_type": "code",
   "execution_count": 33,
   "metadata": {},
   "outputs": [
    {
     "data": {
      "text/plain": [
       "MLPClassifier(alpha=0.001, hidden_layer_sizes=(75,), learning_rate='adaptive',\n",
       "              max_iter=10000, solver='sgd')"
      ]
     },
     "execution_count": 33,
     "metadata": {},
     "output_type": "execute_result"
    }
   ],
   "source": [
    "model.fit(x_train_scaled, y_train)"
   ]
  },
  {
   "cell_type": "code",
   "execution_count": 34,
   "metadata": {},
   "outputs": [],
   "source": [
    "y_pred = model.predict(x_val_scaled)"
   ]
  },
  {
   "cell_type": "code",
   "execution_count": 35,
   "metadata": {},
   "outputs": [
    {
     "name": "stdout",
     "output_type": "stream",
     "text": [
      "0.08080808080808081\n"
     ]
    }
   ],
   "source": [
    "from sklearn.metrics import accuracy_score\n",
    "acc = accuracy_score(y_val, y_pred)\n",
    "print(acc)"
   ]
  }
 ],
 "metadata": {
  "kernelspec": {
   "display_name": "Python 3",
   "language": "python",
   "name": "python3"
  },
  "language_info": {
   "codemirror_mode": {
    "name": "ipython",
    "version": 3
   },
   "file_extension": ".py",
   "mimetype": "text/x-python",
   "name": "python",
   "nbconvert_exporter": "python",
   "pygments_lexer": "ipython3",
   "version": "3.8.3"
  }
 },
 "nbformat": 4,
 "nbformat_minor": 4
}
