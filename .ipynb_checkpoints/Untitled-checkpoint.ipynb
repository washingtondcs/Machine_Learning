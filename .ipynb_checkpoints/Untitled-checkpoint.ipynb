{
 "cells": [
  {
   "cell_type": "code",
   "execution_count": 1,
   "id": "f1c07aed",
   "metadata": {},
   "outputs": [],
   "source": [
    "import numpy as np\n",
    "import pandas as pd\n",
    "import matplotlib.pyplot as plt"
   ]
  },
  {
   "cell_type": "code",
   "execution_count": 2,
   "id": "a8577142",
   "metadata": {},
   "outputs": [],
   "source": [
    "from sklearn.datasets import load_breast_cancer\n",
    "X, y = load_breast_cancer(return_X_y=True)"
   ]
  },
  {
   "cell_type": "code",
   "execution_count": 3,
   "id": "68eb98c0",
   "metadata": {},
   "outputs": [],
   "source": [
    "def divTrainTest(X, y, size = 0.33):\n",
    " randomi = np.random.permutation(len(y))\n",
    " limiar = int(len(y) * size)\n",
    " X_test = X[randomi][0:limiar]\n",
    " X_train = X[randomi][limiar:]\n",
    " y_test = y[randomi][0:limiar]\n",
    " y_train = y[randomi][limiar:]\n",
    " return X_train, X_test, y_train, y_test"
   ]
  },
  {
   "cell_type": "code",
   "execution_count": 4,
   "id": "ebd4701d",
   "metadata": {},
   "outputs": [],
   "source": [
    "#Divisão de treino e teste\n",
    "X_train, X_test, y_train, y_test = divTrainTest(X, y, size = 0.33)"
   ]
  },
  {
   "cell_type": "code",
   "execution_count": 5,
   "id": "069a9e0a",
   "metadata": {},
   "outputs": [],
   "source": [
    "class xscale():\n",
    " def __init__(self):\n",
    "  self.mean = None\n",
    "  self.dp = None\n",
    " def fit(self, data):\n",
    "  self.mean = data.mean(axis=0)\n",
    "  self.dp = data.std(axis=0)\n",
    " def transform(self, data):\n",
    "  return (data - self.mean) / self.dp\n",
    "\n",
    " def inversa(self, data):\n",
    "  return (data * self.dp) + self.mean"
   ]
  },
  {
   "cell_type": "code",
   "execution_count": 6,
   "id": "614ef7ed",
   "metadata": {},
   "outputs": [],
   "source": [
    "schedr_X = xscale()\n",
    "schedr_X.fit(X_train)\n",
    "X_train_sched = schedr_X.transform(X_train)\n",
    "X_test_sched = schedr_X.transform(X_test)"
   ]
  },
  {
   "cell_type": "code",
   "execution_count": 7,
   "id": "2488a52d",
   "metadata": {},
   "outputs": [],
   "source": [
    "def ACC(y_true, y_pred):\n",
    " acc = (y_true == y_pred).sum()/len(y_pred)\n",
    " return acc"
   ]
  },
  {
   "cell_type": "code",
   "execution_count": 8,
   "id": "6ac79482",
   "metadata": {},
   "outputs": [],
   "source": [
    "def REV(tp, fn):\n",
    " rev = tp / (tp + fn)\n",
    " return rev"
   ]
  },
  {
   "cell_type": "code",
   "execution_count": 9,
   "id": "bced2efc",
   "metadata": {},
   "outputs": [],
   "source": [
    "def PRE(tp, fp):\n",
    " pre = tp / (tp + fp)\n",
    " return pre"
   ]
  },
  {
   "cell_type": "code",
   "execution_count": 10,
   "id": "f11e549d",
   "metadata": {},
   "outputs": [],
   "source": [
    "def FUSCORE(pre, rev):\n",
    " fuscore = (2 * pre * rev) / (pre + rev)\n",
    " return fuscore"
   ]
  },
  {
   "cell_type": "markdown",
   "id": "63e81d27",
   "metadata": {},
   "source": [
    "### Regressão logística"
   ]
  },
  {
   "cell_type": "code",
   "execution_count": 11,
   "id": "2a0d5455",
   "metadata": {},
   "outputs": [],
   "source": [
    "class LogisticRegression():\n",
    "\n",
    "    def __init__(self, t=1000, alpha=0.005):\n",
    "        self.w = None\n",
    "        self.t = t\n",
    "        self.alpha = 0.01\n",
    "\n",
    "    def fit(self, X, y):\n",
    "        X = np.c_[np.ones(X.shape[0]), X]\n",
    "        self.w = np.random.rand(X.shape[1]) * 0.9\n",
    "\n",
    "        for epoch in range(self.t):\n",
    "            pred = X @ self.w\n",
    "            y_pred = 1/(1+np.exp(-pred))\n",
    "            err = y - y_pred\n",
    "            cost =  np.mean(-y * np.log(y_pred) - (1-y) * np.log(1 - y_pred))\n",
    "            self.w = self.w +  self.alpha * (X.T @ err)/len(y)\n",
    "\n",
    "    def predict(self, X):\n",
    "        X = np.c_[np.ones(X.shape[0]), X]\n",
    "        y_pred = 1.0/(1+np.exp(-X @ self.w))\n",
    "        return np.where( y_pred > 0.5, 1, 0 )"
   ]
  },
  {
   "cell_type": "code",
   "execution_count": 12,
   "id": "d946f0e4",
   "metadata": {},
   "outputs": [],
   "source": [
    "from sklearn.metrics import confusion_matrix"
   ]
  },
  {
   "cell_type": "code",
   "execution_count": 13,
   "id": "9dd00a8c",
   "metadata": {},
   "outputs": [],
   "source": [
    "def matrix_confusao(y_test, y_pred):\n",
    "    tn, fp, fn, tp = confusion_matrix(y_test, y_pred).ravel()\n",
    "    return np.array([[tp, fp],[fn, tn]])"
   ]
  },
  {
   "cell_type": "code",
   "execution_count": 14,
   "id": "7315eaba",
   "metadata": {},
   "outputs": [
    {
     "name": "stderr",
     "output_type": "stream",
     "text": [
      "<ipython-input-11-4a3380ab99a5>:16: RuntimeWarning: divide by zero encountered in log\n",
      "  cost =  np.mean(-y * np.log(y_pred) - (1-y) * np.log(1 - y_pred))\n"
     ]
    }
   ],
   "source": [
    "RegL = LogisticRegression(t= 1000)\n",
    "RegL.fit(X_train_sched, y_train)\n",
    "y_pred = RegL.predict(X_test_sched)"
   ]
  },
  {
   "cell_type": "code",
   "execution_count": 15,
   "id": "b6178925",
   "metadata": {},
   "outputs": [
    {
     "name": "stdout",
     "output_type": "stream",
     "text": [
      "[[119   3]\n",
      " [  3  62]]\n"
     ]
    }
   ],
   "source": [
    "print(matrix_confusao(y_test,y_pred))"
   ]
  },
  {
   "cell_type": "code",
   "execution_count": 16,
   "id": "a6beabf3",
   "metadata": {},
   "outputs": [
    {
     "name": "stdout",
     "output_type": "stream",
     "text": [
      "A acuracia do modelo é: 0.9679144385026738 \n",
      "A revocação do modelo é: 0.9754098360655737 \n",
      "A precisao do modelo é: 0.9754098360655737 \n",
      "A f1 score do modelo é: 0.9754098360655737 \n"
     ]
    }
   ],
   "source": [
    "acuracia = (ACC(y_test,y_pred))\n",
    "revocacao = (REV(matrix_confusao(y_test,y_pred)[0,0],matrix_confusao(y_test,y_pred)[1,0]))\n",
    "precisao = (PRE(matrix_confusao(y_test,y_pred)[0,0],matrix_confusao(y_test,y_pred)[0,1]))\n",
    "f1score = (FUSCORE(precisao, revocacao))\n",
    "\n",
    "print(\"A acuracia do modelo é: {} \".format(acuracia))\n",
    "print(\"A revocação do modelo é: {} \".format(revocacao))\n",
    "print(\"A precisao do modelo é: {} \".format(precisao))\n",
    "print(\"A f1 score do modelo é: {} \".format(f1score))"
   ]
  },
  {
   "cell_type": "code",
   "execution_count": 17,
   "id": "617eb61c",
   "metadata": {},
   "outputs": [],
   "source": [
    "class KNN():\n",
    "    \n",
    "    def __init__(self):\n",
    "        self.K = None\n",
    "        self.X_train = None\n",
    "\n",
    "    def fit(self, X_train, y_train):\n",
    "        self.X_train = X_train\n",
    "        self.y_train = y_train\n",
    "\n",
    "    def predict(self, X, K=1):\n",
    "        self.K = K\n",
    "        classes = np.unique(self.y_train)\n",
    "        y_pred = []\n",
    "        \n",
    "        for xi in X:\n",
    "            euclidian = -2 * xi @ self.X_train.T + (xi**2).sum() + (self.X_train**2).sum(axis=1)\n",
    "            knn_index = np.argsort(euclidian)[0:K]\n",
    "            score = []\n",
    "            for classe in classes:\n",
    "                score.append((self.y_train[knn_index]==classe).sum())\n",
    "\n",
    "            score = np.array(score)\n",
    "            pred_index = np.argmax(score)    \n",
    "            y_pred.append(classes[pred_index])\n",
    "\n",
    "        return np.array(y_pred)"
   ]
  },
  {
   "cell_type": "markdown",
   "id": "906d20f7",
   "metadata": {},
   "source": [
    "### K-Nearest Neighbors (KNN)"
   ]
  },
  {
   "cell_type": "code",
   "execution_count": 18,
   "id": "baddd798",
   "metadata": {},
   "outputs": [],
   "source": [
    "knn = KNN()\n",
    "knn.fit(X_train_sched, y_train)\n",
    "y_pred = knn.predict(X_test_sched, K=3)"
   ]
  },
  {
   "cell_type": "code",
   "execution_count": 19,
   "id": "28f03fec",
   "metadata": {},
   "outputs": [
    {
     "name": "stdout",
     "output_type": "stream",
     "text": [
      "A acuracia do modelo é: 0.9572192513368984 \n",
      "A revocação do modelo é: 0.9754098360655737 \n",
      "A precisao do modelo é: 0.9596774193548387 \n",
      "A f1 score do modelo é: 0.9674796747967479 \n"
     ]
    }
   ],
   "source": [
    "acuracia = (ACC(y_test,y_pred))\n",
    "revocacao = (REV(matrix_confusao(y_test,y_pred)[0,0],matrix_confusao(y_test,y_pred)[1,0]))\n",
    "precisao = (PRE(matrix_confusao(y_test,y_pred)[0,0],matrix_confusao(y_test,y_pred)[0,1]))\n",
    "f1score = (FUSCORE(precisao, revocacao))\n",
    "\n",
    "print(\"A acuracia do modelo é: {} \".format(acuracia))\n",
    "print(\"A revocação do modelo é: {} \".format(revocacao))\n",
    "print(\"A precisao do modelo é: {} \".format(precisao))\n",
    "print(\"A f1 score do modelo é: {} \".format(f1score))"
   ]
  },
  {
   "cell_type": "code",
   "execution_count": null,
   "id": "e56ddd35",
   "metadata": {},
   "outputs": [],
   "source": []
  }
 ],
 "metadata": {
  "kernelspec": {
   "display_name": "Python 3",
   "language": "python",
   "name": "python3"
  },
  "language_info": {
   "codemirror_mode": {
    "name": "ipython",
    "version": 3
   },
   "file_extension": ".py",
   "mimetype": "text/x-python",
   "name": "python",
   "nbconvert_exporter": "python",
   "pygments_lexer": "ipython3",
   "version": "3.8.3"
  }
 },
 "nbformat": 4,
 "nbformat_minor": 5
}
