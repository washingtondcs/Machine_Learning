{
 "cells": [
  {
   "cell_type": "code",
   "execution_count": 1,
   "id": "54479273",
   "metadata": {
    "scrolled": false
   },
   "outputs": [
    {
     "ename": "ModuleNotFoundError",
     "evalue": "No module named 'clustering'",
     "output_type": "error",
     "traceback": [
      "\u001b[1;31m---------------------------------------------------------------------------\u001b[0m",
      "\u001b[1;31mModuleNotFoundError\u001b[0m                       Traceback (most recent call last)",
      "\u001b[1;32m<ipython-input-1-f491c315d5f0>\u001b[0m in \u001b[0;36m<module>\u001b[1;34m\u001b[0m\n\u001b[0;32m      5\u001b[0m \u001b[1;32mfrom\u001b[0m \u001b[0msklearn\u001b[0m\u001b[1;33m.\u001b[0m\u001b[0mpreprocessing\u001b[0m \u001b[1;32mimport\u001b[0m \u001b[0mMinMaxScaler\u001b[0m\u001b[1;33m\u001b[0m\u001b[1;33m\u001b[0m\u001b[0m\n\u001b[0;32m      6\u001b[0m \u001b[1;32mimport\u001b[0m \u001b[0mcommon\u001b[0m \u001b[1;32mas\u001b[0m \u001b[0mcom\u001b[0m\u001b[1;33m\u001b[0m\u001b[1;33m\u001b[0m\u001b[0m\n\u001b[1;32m----> 7\u001b[1;33m \u001b[1;32mimport\u001b[0m \u001b[0mclustering\u001b[0m\u001b[1;33m\u001b[0m\u001b[1;33m\u001b[0m\u001b[0m\n\u001b[0m\u001b[0;32m      8\u001b[0m \u001b[1;33m\u001b[0m\u001b[0m\n\u001b[0;32m      9\u001b[0m \u001b[0mnp\u001b[0m\u001b[1;33m.\u001b[0m\u001b[0mrandom\u001b[0m\u001b[1;33m.\u001b[0m\u001b[0mseed\u001b[0m\u001b[1;33m(\u001b[0m\u001b[1;36m12345\u001b[0m\u001b[1;33m)\u001b[0m\u001b[1;33m\u001b[0m\u001b[1;33m\u001b[0m\u001b[0m\n",
      "\u001b[1;31mModuleNotFoundError\u001b[0m: No module named 'clustering'"
     ]
    }
   ],
   "source": [
    "import numpy as np\n",
    "import matplotlib.pyplot as plt\n",
    "from sklearn import datasets\n",
    "from sklearn.datasets import fetch_openml\n",
    "from sklearn.preprocessing import MinMaxScaler\n",
    "import common as com\n",
    "import clustering\n",
    "\n",
    "np.random.seed(12345)\n",
    "\n",
    "data = fetch_openml(data_id=772)\n",
    "label_names = np.unique(data.target)\n",
    "x = data.data.values[:,1:].astype(float)\n",
    "\n",
    "\n",
    "np.savetxt(\"Dados/quake.csv\", x, delimiter=\",\")\n",
    "data = np.genfromtxt(\"Dados/quake.csv\", delimiter=\",\")\n",
    "x = data.copy()\n",
    "\n",
    "print(f\"Número de amostras: {x.shape[0]}\")\n",
    "print(f\"Número de dimensões: {x.shape[1]}\")\n",
    "\n",
    "x = MinMaxScaler().fit_transform(x)\n",
    "\n",
    "fig = plt.figure\n",
    "plt.scatter(x[:,0], x[:,1]);"
   ]
  },
  {
   "cell_type": "code",
   "execution_count": null,
   "id": "abeb8a3d",
   "metadata": {},
   "outputs": [],
   "source": [
    "distance_metrics = ['manhattan', 'euclidean', 'mahalanobis']\n",
    "max_iter = 100\n",
    "num_rep = 100\n",
    "K_range = np.arange(4,21)\n",
    "\n",
    "fig, axs = plt.subplots(3, 2, sharex=False, sharey=False, figsize=(3*4.5, 3*6))\n",
    "\n",
    "for i, distance_metric in enumerate(distance_metrics):\n",
    "    print(f\"Avaliando distância: {distance_metric}\")\n",
    "    loss_list = []\n",
    "    db_list = []\n",
    "    kmeans_result_List = []\n",
    "    for K in K_range:\n",
    "        print(f\"Avaliando K = {K}\")\n",
    "        kmeans_result = clustering.kmeans(x, K, distance_metric=distance_metric, max_iter=max_iter)\n",
    "        kmeans_result_List.append(kmeans_result)\n",
    "        db_list.append(clustering.db_index(x, kmeans_result))\n",
    "        loss_list.append(kmeans_result['loss'][-1])\n",
    "    \n",
    "    best_K_index = np.argmin(db_list)\n",
    "    best_K = K_range[best_K_index]\n",
    "    kmeans_result = kmeans_result_List[best_K_index]\n",
    "    \n",
    "    cluster_index = kmeans_result['cluster_index']\n",
    "    centroids = kmeans_result['centroids']\n",
    "    loss_history = kmeans_result['loss']\n",
    "    \n",
    "    print(f\"Melhor métrica de distância: {distance_metric}\")"
   ]
  },
  {
   "cell_type": "code",
   "execution_count": null,
   "id": "a99f60d9",
   "metadata": {},
   "outputs": [],
   "source": []
  }
 ],
 "metadata": {
  "kernelspec": {
   "display_name": "Python 3",
   "language": "python",
   "name": "python3"
  },
  "language_info": {
   "codemirror_mode": {
    "name": "ipython",
    "version": 3
   },
   "file_extension": ".py",
   "mimetype": "text/x-python",
   "name": "python",
   "nbconvert_exporter": "python",
   "pygments_lexer": "ipython3",
   "version": "3.8.3"
  }
 },
 "nbformat": 4,
 "nbformat_minor": 5
}
