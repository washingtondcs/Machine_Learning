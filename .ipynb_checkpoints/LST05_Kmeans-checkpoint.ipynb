{
 "cells": [
  {
   "cell_type": "code",
   "execution_count": 1,
   "id": "54479273",
   "metadata": {
    "scrolled": false
   },
   "outputs": [],
   "source": [
    "import pandas as pd\n",
    "import numpy as np\n",
    "import matplotlib.pyplot as plt\n",
    "from sklearn.metrics import davies_bouldin_score\n",
    "\n",
    "np.random.seed(42)"
   ]
  },
  {
   "cell_type": "code",
   "execution_count": 2,
   "id": "a99f60d9",
   "metadata": {},
   "outputs": [],
   "source": [
    "dataset = np.genfromtxt('./Dados/quake.csv', delimiter=',')"
   ]
  },
  {
   "cell_type": "code",
   "execution_count": 3,
   "id": "2f83fa03",
   "metadata": {},
   "outputs": [],
   "source": [
    "class xscale():\n",
    " def __init__(self):\n",
    "  self.mean = None\n",
    "  self.dp = None\n",
    " def fit(self, data):\n",
    "  self.mean = data.mean(axis=0)\n",
    "  self.dp = data.std(axis=0)\n",
    " def transform(self, data):\n",
    "  return (data - self.mean) / self.dp\n",
    "\n",
    " def inversa(self, data):\n",
    "  return (data * self.dp) + self.mean"
   ]
  },
  {
   "cell_type": "code",
   "execution_count": 4,
   "id": "bf6931bf",
   "metadata": {},
   "outputs": [],
   "source": [
    "schedr_X = xscale()\n",
    "schedr_X.fit(dataset)\n",
    "X_sched = schedr_X.transform(dataset)"
   ]
  },
  {
   "cell_type": "markdown",
   "id": "d1e7c0c8",
   "metadata": {},
   "source": [
    "## Questão 1 - K-means"
   ]
  },
  {
   "cell_type": "code",
   "execution_count": 5,
   "id": "3fbd3252",
   "metadata": {},
   "outputs": [],
   "source": [
    "def Kmeans(K, dataset, n_init):\n",
    "    D = dataset.shape[1]\n",
    "    n = len(dataset)\n",
    "    data = np.c_[dataset, np.zeros(n)]\n",
    "    tol = 0.001\n",
    "\n",
    "    initCtroids = []\n",
    "    initError = []\n",
    "    initHist = []\n",
    "    hist_C = []\n",
    "\n",
    "    for i in range(n_init):\n",
    "        histErros = []\n",
    "        ctroids = np.zeros((D,K))\n",
    "        for i in range(K):\n",
    "            iRamdom=np.random.randint(0,len(dataset))\n",
    "            ctroids[:, i] = dataset[iRamdom]\n",
    "        previousError = 0\n",
    "        dif = 999\n",
    "        while dif > tol:          \n",
    "            distEuclidiana = np.zeros((n,K))\n",
    "            for k in range(K):\n",
    "                distk = np.sqrt(np.sum((dataset-ctroids[:,k])**2,axis=1))\n",
    "                distEuclidiana[:,k]=distk\n",
    "            C=np.argmin(distEuclidiana,axis=1)\n",
    "            data[:, -1] = C\n",
    "            grps  = np.unique(data[:, -1])\n",
    "            erro_recon = 0\n",
    "            for grp in grps:\n",
    "                X_grp = data[:,0:D][data[:, -1] == grp]            \n",
    "                m_grp = np.sum(X_grp, axis = 0)/len(X_grp)\n",
    "                ctroids[:, int(grp)] = m_grp\n",
    "                erro_recon = erro_recon + np.sum(np.power((X_grp-ctroids[:, int(grp)]),2))\n",
    "            dif = np.abs(erro_recon - previousError)\n",
    "            histErros.append(erro_recon)\n",
    "            previousError = erro_recon\n",
    "\n",
    "        initError.append(np.min(histErros))\n",
    "        initHist.append(histErros)\n",
    "        initCtroids.append(ctroids)\n",
    "\n",
    "        bestCtroid = initCtroids[np.argmin(initError)]\n",
    "        bestHist = initHist[np.argmin(initError)]\n",
    "        minError = np.min(initError)\n",
    "\n",
    "        distEuclidiana = np.zeros((n,K))\n",
    "        for k in range(K):\n",
    "            distk = np.sqrt(np.sum((dataset- bestCtroid[:,k])**2,axis=1))\n",
    "            distEuclidiana[:,k]=distk\n",
    "\n",
    "        C=np.argmin(distEuclidiana,axis=1)\n",
    "        hist_C.append(C)\n",
    "        bestC = hist_C[np.argmin(initError)]\n",
    "    return  bestCtroid, bestHist, bestC, minError"
   ]
  },
  {
   "cell_type": "code",
   "execution_count": 6,
   "id": "0a4ff499",
   "metadata": {},
   "outputs": [
    {
     "name": "stdout",
     "output_type": "stream",
     "text": [
      "Valor K = 2\n",
      "Erro de reconstrução = 2295.2252253804904\n",
      "Índice DB = 0.8994185058103716\n",
      "====\n",
      "Valor K = 3\n",
      "Erro de reconstrução = 1309.8195847788757\n",
      "Índice DB = 0.6610886397316416\n",
      "====\n",
      "Valor K = 4\n",
      "Erro de reconstrução = 723.9398901490845\n",
      "Índice DB = 0.6139971288313492\n",
      "====\n",
      "Valor K = 5\n",
      "Erro de reconstrução = 585.5476037125754\n",
      "Índice DB = 0.6198877363707009\n",
      "====\n",
      "Valor K = 6\n",
      "Erro de reconstrução = 471.18768959672053\n",
      "Índice DB = 0.6197034824012718\n",
      "====\n",
      "Valor K = 7\n",
      "Erro de reconstrução = 385.9111645635743\n",
      "Índice DB = 0.6341943251982255\n",
      "====\n",
      "Valor K = 8\n",
      "Erro de reconstrução = 309.6117871555641\n",
      "Índice DB = 0.7257655285278508\n",
      "====\n",
      "Valor K = 9\n",
      "Erro de reconstrução = 255.9174773589703\n",
      "Índice DB = 0.6521289991821508\n",
      "====\n",
      "Valor K = 10\n",
      "Erro de reconstrução = 211.96772763293376\n",
      "Índice DB = 0.6123709111727408\n",
      "====\n",
      "Valor K = 11\n",
      "Erro de reconstrução = 181.55676624544245\n",
      "Índice DB = 0.6248783507255371\n",
      "====\n",
      "Valor K = 12\n",
      "Erro de reconstrução = 158.06459206187654\n",
      "Índice DB = 0.5757742255031947\n",
      "====\n",
      "Valor K = 13\n",
      "Erro de reconstrução = 140.83318921925473\n",
      "Índice DB = 0.6022445711584704\n",
      "====\n",
      "Valor K = 14\n",
      "Erro de reconstrução = 130.16986685261443\n",
      "Índice DB = 0.6213536245515249\n",
      "====\n",
      "Valor K = 15\n",
      "Erro de reconstrução = 124.09369394901093\n",
      "Índice DB = 0.5916237585280892\n",
      "====\n",
      "Valor K = 16\n",
      "Erro de reconstrução = 104.45087435516774\n",
      "Índice DB = 0.6018572965037983\n",
      "====\n",
      "Valor K = 17\n",
      "Erro de reconstrução = 100.89972705451422\n",
      "Índice DB = 0.5821285215959308\n",
      "====\n",
      "Valor K = 18\n",
      "Erro de reconstrução = 93.0839387411756\n",
      "Índice DB = 0.5814058876989908\n",
      "====\n",
      "Valor K = 19\n",
      "Erro de reconstrução = 85.56209522214372\n",
      "Índice DB = 0.5895970324944243\n",
      "====\n",
      "Valor K = 20\n",
      "Erro de reconstrução = 78.34566283226157\n",
      "Índice DB = 0.6173119540165067\n",
      "====\n",
      "Melhor Indice DB é 0.5757742255031947 para K = 12\n"
     ]
    }
   ],
   "source": [
    "errors = []\n",
    "index_db = []\n",
    "BetterDB = 999\n",
    "BetterK = 1\n",
    "for k in range(2,21):\n",
    "    bestCtroid, bestHist, bestC, minError = Kmeans(k, X_sched, 100)\n",
    "    errors.append(minError)\n",
    "    DB = davies_bouldin_score(X_sched, bestC)\n",
    "    index_db.append(DB)\n",
    "    if DB < BetterDB:\n",
    "        BetterDB = DB\n",
    "        BetterK = k\n",
    "    print(\"Valor K = {}\".format(k))\n",
    "    print(\"Erro de reconstrução = {}\".format(minError))\n",
    "    print(\"Índice DB = {}\".format(DB))\n",
    "    print(\"====\")\n",
    "print(\"Melhor Indice DB é {} para K = {}\".format(BetterDB, BetterK))"
   ]
  },
  {
   "cell_type": "code",
   "execution_count": 7,
   "id": "6261118d",
   "metadata": {
    "scrolled": false
   },
   "outputs": [
    {
     "data": {
      "image/png": "[encoded data removed]",
      "text/plain": [
       "<Figure size 576x288 with 1 Axes>"
      ]
     },
     "metadata": {
      "needs_background": "light"
     },
     "output_type": "display_data"
    }
   ],
   "source": [
    "ticks = list(range(2,21))\n",
    "fig, ax = plt.subplots(figsize=(8,4))\n",
    "ax.set_title('Indice DB x Agrupamento')\n",
    "ax.plot(ticks,index_db,'-o')\n",
    "plt.show()"
   ]
  },
  {
   "cell_type": "code",
   "execution_count": null,
   "id": "ddbfc5b6",
   "metadata": {},
   "outputs": [],
   "source": []
  }
 ],
 "metadata": {
  "kernelspec": {
   "display_name": "Python 3",
   "language": "python",
   "name": "python3"
  },
  "language_info": {
   "codemirror_mode": {
    "name": "ipython",
    "version": 3
   },
   "file_extension": ".py",
   "mimetype": "text/x-python",
   "name": "python",
   "nbconvert_exporter": "python",
   "pygments_lexer": "ipython3",
   "version": "3.8.3"
  }
 },
 "nbformat": 4,
 "nbformat_minor": 5
}
