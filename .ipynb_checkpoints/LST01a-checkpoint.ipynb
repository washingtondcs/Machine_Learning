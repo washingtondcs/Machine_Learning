{
 "cells": [
  {
   "cell_type": "code",
   "execution_count": 1,
   "id": "dbad6a84",
   "metadata": {},
   "outputs": [],
   "source": [
    "import numpy as np\n",
    "import pandas as pd\n",
    "import matplotlib.pyplot as plt"
   ]
  },
  {
   "cell_type": "code",
   "execution_count": 2,
   "id": "f7790ce2",
   "metadata": {},
   "outputs": [],
   "source": [
    "dataset = np.genfromtxt('./Dados/artificial1d.csv', delimiter=',')"
   ]
  },
  {
   "cell_type": "code",
   "execution_count": 16,
   "id": "d2e64014",
   "metadata": {},
   "outputs": [
    {
     "data": {
      "text/plain": [
       "[<matplotlib.lines.Line2D at 0x27ec104d8b0>]"
      ]
     },
     "execution_count": 16,
     "metadata": {},
     "output_type": "execute_result"
    },
    {
     "data": {
      "image/png": "[encoded data removed]",
      "text/plain": [
       "<Figure size 432x288 with 1 Axes>"
      ]
     },
     "metadata": {
      "needs_background": "light"
     },
     "output_type": "display_data"
    }
   ],
   "source": [
    "X =dataset[:,[0]]\n",
    "Y =dataset[:,[1]]\n",
    "\n",
    "#alfa = ((len(X)* sum(X*Y)) - (sum(X)*sum(Y)))/((len(X)*sum(X**2)) - (sum(X)**2))\n",
    "alfa2 = np.linalg.inv(X.T@X)@X.T@Y\n",
    "uX = sum(X)/len(X)\n",
    "uY = sum(Y)/len(Y)\n",
    "\n",
    "beta = uY - (alfa*uX)\n",
    "y_hat = alfa2*X + beta\n",
    "#print (\"Alfa2\", alfa2, \"Beta\", beta, \"Len x\", X.shape, \"Len y\", Y.shape)\n",
    "plt.plot(X,Y, 'o')\n",
    "plt.plot(X, y_hat, linestyle='solid')"
   ]
  },
  {
   "cell_type": "code",
   "execution_count": null,
   "id": "aa044af1",
   "metadata": {},
   "outputs": [],
   "source": []
  },
  {
   "cell_type": "code",
   "execution_count": null,
   "id": "d1678d8c",
   "metadata": {},
   "outputs": [],
   "source": []
  }
 ],
 "metadata": {
  "kernelspec": {
   "display_name": "Python 3",
   "language": "python",
   "name": "python3"
  },
  "language_info": {
   "codemirror_mode": {
    "name": "ipython",
    "version": 3
   },
   "file_extension": ".py",
   "mimetype": "text/x-python",
   "name": "python",
   "nbconvert_exporter": "python",
   "pygments_lexer": "ipython3",
   "version": "3.8.3"
  }
 },
 "nbformat": 4,
 "nbformat_minor": 5
}
