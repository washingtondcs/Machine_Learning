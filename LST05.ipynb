{
 "cells": [
  {
   "cell_type": "code",
   "execution_count": 1,
   "id": "54479273",
   "metadata": {
    "scrolled": false
   },
   "outputs": [],
   "source": [
    "import pandas as pd\n",
    "import numpy as np\n",
    "import matplotlib.pyplot as plt\n",
    "from sklearn.metrics import davies_bouldin_score\n",
    "\n",
    "np.random.seed(42)"
   ]
  },
  {
   "cell_type": "code",
   "execution_count": 2,
   "id": "a99f60d9",
   "metadata": {},
   "outputs": [],
   "source": [
    "dataset = np.genfromtxt('./Dados/quake.csv', delimiter=',')"
   ]
  },
  {
   "cell_type": "code",
   "execution_count": 3,
   "id": "da629e61",
   "metadata": {},
   "outputs": [],
   "source": [
    "class xscale():\n",
    " def __init__(self):\n",
    "  self.mean = None\n",
    "  self.dp = None\n",
    " def fit(self, data):\n",
    "  self.mean = data.mean(axis=0)\n",
    "  self.dp = data.std(axis=0)\n",
    " def transform(self, data):\n",
    "  return (data - self.mean) / self.dp\n",
    "\n",
    " def inversa(self, data):\n",
    "  return (data * self.dp) + self.mean"
   ]
  },
  {
   "cell_type": "code",
   "execution_count": 4,
   "id": "963073c2",
   "metadata": {},
   "outputs": [],
   "source": [
    "schedr_X = xscale()\n",
    "schedr_X.fit(dataset)\n",
    "X_sched = schedr_X.transform(dataset)"
   ]
  },
  {
   "cell_type": "markdown",
   "id": "82fbad23",
   "metadata": {},
   "source": [
    "## Questão 1 - K-means"
   ]
  },
  {
   "cell_type": "code",
   "execution_count": 5,
   "id": "7d4df4b8",
   "metadata": {},
   "outputs": [],
   "source": [
    "def Kmeans(K, dataset, n_init):\n",
    "    D = dataset.shape[1]\n",
    "    n = len(dataset)\n",
    "    tol = 0.001\n",
    "    data = np.c_[dataset, np.zeros(n)]\n",
    "\n",
    "    erro_por_init = []\n",
    "    centroides_por_init = []\n",
    "    historico_por_init = []\n",
    "    historico_C = []\n",
    "\n",
    "    for i in range(n_init):\n",
    "        #inicialização\n",
    "        erros_hist = []\n",
    "        centroides = np.zeros((D,K))\n",
    "        for i in range(K):\n",
    "            i_aleatorio=np.random.randint(0,len(dataset))\n",
    "            centroides[:, i] = dataset[i_aleatorio]\n",
    "\n",
    "        erro_anterior = 0\n",
    "        dif = 999\n",
    "        while dif > tol:\n",
    "            #parte 1            \n",
    "            euclidistancias = np.zeros((n,K))\n",
    "            for k in range(K):\n",
    "                distancia_k = np.sqrt(np.sum((dataset-centroides[:,k])**2,axis=1))\n",
    "                euclidistancias[:,k]=distancia_k\n",
    "\n",
    "            C=np.argmin(euclidistancias,axis=1)\n",
    "            data[:, -1] = C\n",
    "\n",
    "            grupos  = np.unique(data[:, -1])\n",
    "            #parte 2\n",
    "            erro_recon = 0\n",
    "            for grupo in grupos:\n",
    "                X_grupo = data[:,0:D][data[:, -1] == grupo]            \n",
    "                m_grupo = np.sum(X_grupo, axis = 0)/len(X_grupo)\n",
    "                centroides[:, int(grupo)] = m_grupo\n",
    "                erro_recon = erro_recon + np.sum(np.power((X_grupo-centroides[:, int(grupo)]),2))\n",
    "\n",
    "            dif = np.abs(erro_recon - erro_anterior)\n",
    "            #print(dif)\n",
    "            erros_hist.append(erro_recon)\n",
    "            erro_anterior = erro_recon\n",
    "\n",
    "        erro_por_init.append(np.min(erros_hist))\n",
    "        historico_por_init.append(erros_hist)\n",
    "        centroides_por_init.append(centroides)\n",
    "\n",
    "        melhor_centroide = centroides_por_init[np.argmin(erro_por_init)]\n",
    "        melhor_historico = historico_por_init[np.argmin(erro_por_init)]\n",
    "        menor_erro = np.min(erro_por_init)\n",
    "\n",
    "        euclidistancias = np.zeros((n,K))\n",
    "        for k in range(K):\n",
    "            distancia_k = np.sqrt(np.sum((dataset-melhor_centroide[:,k])**2,axis=1))\n",
    "            euclidistancias[:,k]=distancia_k\n",
    "\n",
    "        C=np.argmin(euclidistancias,axis=1)\n",
    "        historico_C.append(C)\n",
    "        melhor_C = historico_C[np.argmin(erro_por_init)]\n",
    "    \n",
    "    return melhor_centroide, melhor_historico, melhor_C, menor_erro"
   ]
  },
  {
   "cell_type": "code",
   "execution_count": 6,
   "id": "14703435",
   "metadata": {},
   "outputs": [
    {
     "name": "stdout",
     "output_type": "stream",
     "text": [
      "K = 2\n",
      "Erro de reconstrução = 2295.2252253804904\n",
      "Índice DB = 0.8994185058103716\n",
      "-------------\n",
      "K = 3\n",
      "Erro de reconstrução = 1309.8195847788757\n",
      "Índice DB = 0.6610886397316417\n",
      "-------------\n",
      "K = 4\n",
      "Erro de reconstrução = 723.9398901490845\n",
      "Índice DB = 0.6139971288313492\n",
      "-------------\n",
      "K = 5\n",
      "Erro de reconstrução = 585.5476037125756\n",
      "Índice DB = 0.6198877363707009\n",
      "-------------\n",
      "K = 6\n",
      "Erro de reconstrução = 471.14582016057835\n",
      "Índice DB = 0.6175404812991152\n",
      "-------------\n",
      "K = 7\n",
      "Erro de reconstrução = 385.91093447228974\n",
      "Índice DB = 0.6345871728498655\n",
      "-------------\n",
      "K = 8\n",
      "Erro de reconstrução = 309.6093514059984\n",
      "Índice DB = 0.7247760860202013\n",
      "-------------\n",
      "K = 9\n",
      "Erro de reconstrução = 255.6807482341301\n",
      "Índice DB = 0.6267810936449387\n",
      "-------------\n",
      "K = 10\n",
      "Erro de reconstrução = 211.53067655450985\n",
      "Índice DB = 0.5911315335837017\n",
      "-------------\n",
      "K = 11\n",
      "Erro de reconstrução = 181.55676624544245\n",
      "Índice DB = 0.6248783507255371\n",
      "-------------\n",
      "K = 12\n",
      "Erro de reconstrução = 157.15069378914177\n",
      "Índice DB = 0.5895223056185255\n",
      "-------------\n",
      "K = 13\n",
      "Erro de reconstrução = 139.64108892299853\n",
      "Índice DB = 0.5973630239494877\n",
      "-------------\n",
      "K = 14\n",
      "Erro de reconstrução = 125.20864669396472\n",
      "Índice DB = 0.6126122763293239\n",
      "-------------\n",
      "K = 15\n",
      "Erro de reconstrução = 114.78355784675621\n",
      "Índice DB = 0.6100330559894108\n",
      "-------------\n",
      "K = 16\n",
      "Erro de reconstrução = 106.69535087526945\n",
      "Índice DB = 0.6038521441944216\n",
      "-------------\n",
      "K = 17\n",
      "Erro de reconstrução = 98.70400943197984\n",
      "Índice DB = 0.5898075417438425\n",
      "-------------\n",
      "K = 18\n",
      "Erro de reconstrução = 88.99402523253097\n",
      "Índice DB = 0.5895280023882349\n",
      "-------------\n",
      "K = 19\n",
      "Erro de reconstrução = 84.18242537053695\n",
      "Índice DB = 0.574512355451018\n",
      "-------------\n",
      "K = 20\n",
      "Erro de reconstrução = 76.08477422048308\n",
      "Índice DB = 0.5769987955687383\n",
      "-------------\n",
      "Melhor Indice DB é 0.574512355451018 para K = 19\n"
     ]
    }
   ],
   "source": [
    "lista_erro = []\n",
    "lista_db = []\n",
    "melhor_DB = 999\n",
    "melhor_K = 1\n",
    "for k in range(2,21):\n",
    "    melhor_centroide, melhor_historico, melhor_C, menor_erro = Kmeans(k, X_sched, 200)\n",
    "    lista_erro.append(menor_erro)\n",
    "    DB = davies_bouldin_score(X_sched, melhor_C)\n",
    "    lista_db.append(DB)\n",
    "    if DB < melhor_DB:\n",
    "        melhor_DB = DB\n",
    "        melhor_K = k\n",
    "    print(\"K = {}\".format(k))\n",
    "    print(\"Erro de reconstrução = {}\".format(menor_erro))\n",
    "    print(\"Índice DB = {}\".format(DB))\n",
    "    print(\"-------------\")\n",
    "print(\"Melhor Indice DB é {} para K = {}\".format(melhor_DB, melhor_K))"
   ]
  },
  {
   "cell_type": "code",
   "execution_count": 7,
   "id": "f9f2f3c9",
   "metadata": {
    "scrolled": false
   },
   "outputs": [
    {
     "data": {
      "image/png": "[encoded data removed]",
      "text/plain": [
       "<Figure size 576x288 with 1 Axes>"
      ]
     },
     "metadata": {
      "needs_background": "light"
     },
     "output_type": "display_data"
    }
   ],
   "source": [
    "ticks = list(range(2,21))\n",
    "fig, ax = plt.subplots(figsize=(8,4))\n",
    "ax.set_title('Indice DB x Agrupamento')\n",
    "ax.plot(ticks,lista_db,'-o')\n",
    "plt.show()"
   ]
  },
  {
   "cell_type": "code",
   "execution_count": null,
   "id": "11ebcacb",
   "metadata": {},
   "outputs": [],
   "source": []
  }
 ],
 "metadata": {
  "kernelspec": {
   "display_name": "Python 3",
   "language": "python",
   "name": "python3"
  },
  "language_info": {
   "codemirror_mode": {
    "name": "ipython",
    "version": 3
   },
   "file_extension": ".py",
   "mimetype": "text/x-python",
   "name": "python",
   "nbconvert_exporter": "python",
   "pygments_lexer": "ipython3",
   "version": "3.8.3"
  }
 },
 "nbformat": 4,
 "nbformat_minor": 5
}
