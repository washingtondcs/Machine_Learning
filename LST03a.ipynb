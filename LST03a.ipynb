{
 "cells": [
  {
   "cell_type": "code",
   "execution_count": 1,
   "metadata": {},
   "outputs": [],
   "source": [
    "import pandas as pd\n",
    "import numpy as np\n",
    "import matplotlib.pyplot as plt\n",
    "from sklearn.neural_network import MLPClassifier\n",
    "from sklearn.preprocessing import OneHotEncoder"
   ]
  },
  {
   "cell_type": "code",
   "execution_count": 2,
   "metadata": {},
   "outputs": [],
   "source": [
    "from sklearn.datasets import fetch_openml\n",
    "concrete = fetch_openml(data_id='4353',as_frame=True)\n",
    "X = concrete.data.iloc[:,0:8]\n",
    "y = concrete.data.iloc[:,8]"
   ]
  },
  {
   "cell_type": "code",
   "execution_count": 3,
   "metadata": {
    "scrolled": true
   },
   "outputs": [
    {
     "data": {
      "text/html": [
       "<div>\n",
       "<style scoped>\n",
       "    .dataframe tbody tr th:only-of-type {\n",
       "        vertical-align: middle;\n",
       "    }\n",
       "\n",
       "    .dataframe tbody tr th {\n",
       "        vertical-align: top;\n",
       "    }\n",
       "\n",
       "    .dataframe thead th {\n",
       "        text-align: right;\n",
       "    }\n",
       "</style>\n",
       "<table border=\"1\" class=\"dataframe\">\n",
       "  <thead>\n",
       "    <tr style=\"text-align: right;\">\n",
       "      <th></th>\n",
       "      <th>Cement (component 1)(kg in a m^3 mixture)</th>\n",
       "      <th>Blast Furnace Slag (component 2)(kg in a m^3 mixture)</th>\n",
       "      <th>Fly Ash (component 3)(kg in a m^3 mixture)</th>\n",
       "      <th>Water  (component 4)(kg in a m^3 mixture)</th>\n",
       "      <th>Superplasticizer (component 5)(kg in a m^3 mixture)</th>\n",
       "      <th>Coarse Aggregate  (component 6)(kg in a m^3 mixture)</th>\n",
       "      <th>Fine Aggregate (component 7)(kg in a m^3 mixture)</th>\n",
       "      <th>Age (day)</th>\n",
       "    </tr>\n",
       "  </thead>\n",
       "  <tbody>\n",
       "    <tr>\n",
       "      <th>0</th>\n",
       "      <td>540.0</td>\n",
       "      <td>0.0</td>\n",
       "      <td>0.0</td>\n",
       "      <td>162.0</td>\n",
       "      <td>2.5</td>\n",
       "      <td>1040.0</td>\n",
       "      <td>676.0</td>\n",
       "      <td>28.0</td>\n",
       "    </tr>\n",
       "    <tr>\n",
       "      <th>1</th>\n",
       "      <td>540.0</td>\n",
       "      <td>0.0</td>\n",
       "      <td>0.0</td>\n",
       "      <td>162.0</td>\n",
       "      <td>2.5</td>\n",
       "      <td>1055.0</td>\n",
       "      <td>676.0</td>\n",
       "      <td>28.0</td>\n",
       "    </tr>\n",
       "    <tr>\n",
       "      <th>2</th>\n",
       "      <td>332.5</td>\n",
       "      <td>142.5</td>\n",
       "      <td>0.0</td>\n",
       "      <td>228.0</td>\n",
       "      <td>0.0</td>\n",
       "      <td>932.0</td>\n",
       "      <td>594.0</td>\n",
       "      <td>270.0</td>\n",
       "    </tr>\n",
       "    <tr>\n",
       "      <th>3</th>\n",
       "      <td>332.5</td>\n",
       "      <td>142.5</td>\n",
       "      <td>0.0</td>\n",
       "      <td>228.0</td>\n",
       "      <td>0.0</td>\n",
       "      <td>932.0</td>\n",
       "      <td>594.0</td>\n",
       "      <td>365.0</td>\n",
       "    </tr>\n",
       "    <tr>\n",
       "      <th>4</th>\n",
       "      <td>198.6</td>\n",
       "      <td>132.4</td>\n",
       "      <td>0.0</td>\n",
       "      <td>192.0</td>\n",
       "      <td>0.0</td>\n",
       "      <td>978.4</td>\n",
       "      <td>825.5</td>\n",
       "      <td>360.0</td>\n",
       "    </tr>\n",
       "  </tbody>\n",
       "</table>\n",
       "</div>"
      ],
      "text/plain": [
       "   Cement (component 1)(kg in a m^3 mixture)  \\\n",
       "0                                      540.0   \n",
       "1                                      540.0   \n",
       "2                                      332.5   \n",
       "3                                      332.5   \n",
       "4                                      198.6   \n",
       "\n",
       "   Blast Furnace Slag (component 2)(kg in a m^3 mixture)  \\\n",
       "0                                                0.0       \n",
       "1                                                0.0       \n",
       "2                                              142.5       \n",
       "3                                              142.5       \n",
       "4                                              132.4       \n",
       "\n",
       "   Fly Ash (component 3)(kg in a m^3 mixture)  \\\n",
       "0                                         0.0   \n",
       "1                                         0.0   \n",
       "2                                         0.0   \n",
       "3                                         0.0   \n",
       "4                                         0.0   \n",
       "\n",
       "   Water  (component 4)(kg in a m^3 mixture)  \\\n",
       "0                                      162.0   \n",
       "1                                      162.0   \n",
       "2                                      228.0   \n",
       "3                                      228.0   \n",
       "4                                      192.0   \n",
       "\n",
       "   Superplasticizer (component 5)(kg in a m^3 mixture)  \\\n",
       "0                                                2.5     \n",
       "1                                                2.5     \n",
       "2                                                0.0     \n",
       "3                                                0.0     \n",
       "4                                                0.0     \n",
       "\n",
       "   Coarse Aggregate  (component 6)(kg in a m^3 mixture)  \\\n",
       "0                                             1040.0      \n",
       "1                                             1055.0      \n",
       "2                                              932.0      \n",
       "3                                              932.0      \n",
       "4                                              978.4      \n",
       "\n",
       "   Fine Aggregate (component 7)(kg in a m^3 mixture)  Age (day)  \n",
       "0                                              676.0       28.0  \n",
       "1                                              676.0       28.0  \n",
       "2                                              594.0      270.0  \n",
       "3                                              594.0      365.0  \n",
       "4                                              825.5      360.0  "
      ]
     },
     "execution_count": 3,
     "metadata": {},
     "output_type": "execute_result"
    }
   ],
   "source": [
    "X.head()"
   ]
  },
  {
   "cell_type": "code",
   "execution_count": 4,
   "metadata": {},
   "outputs": [
    {
     "data": {
      "text/plain": [
       "0    79.99\n",
       "1    61.89\n",
       "2    40.27\n",
       "3    41.05\n",
       "4    44.30\n",
       "Name: Concrete compressive strength(MPa. megapascals), dtype: float64"
      ]
     },
     "execution_count": 4,
     "metadata": {},
     "output_type": "execute_result"
    }
   ],
   "source": [
    "y.head()"
   ]
  },
  {
   "cell_type": "code",
   "execution_count": 5,
   "metadata": {},
   "outputs": [],
   "source": [
    "X = X.to_numpy()\n",
    "y = y.to_numpy()"
   ]
  },
  {
   "cell_type": "code",
   "execution_count": 6,
   "metadata": {},
   "outputs": [],
   "source": [
    "from sklearn.model_selection import train_test_split"
   ]
  },
  {
   "cell_type": "code",
   "execution_count": 7,
   "metadata": {},
   "outputs": [],
   "source": [
    "#Divisão de treino e teste\n",
    "x_train, x_test, y_train, y_test = train_test_split(X, y, test_size=0.2, random_state=1)\n",
    "x_train, x_val, y_train, y_val = train_test_split(x_train, y_train, test_size=0.25, random_state=1)"
   ]
  },
  {
   "cell_type": "code",
   "execution_count": 8,
   "metadata": {},
   "outputs": [],
   "source": [
    "class scale_min_max():\n",
    " def __init__(self):\n",
    "  self.max = None\n",
    "  self.min = None \n",
    "    \n",
    " def fit(self, data):\n",
    "  self.max = data.max()\n",
    "  self.min = data.min()\n",
    "    \n",
    " def transform(self, data):\n",
    "  return (data - self.min)/ (self.max-self.min)\n",
    "\n",
    " def inversa(self, data):\n",
    "  return data * (self.max - self.min) + self.min"
   ]
  },
  {
   "cell_type": "code",
   "execution_count": 9,
   "metadata": {},
   "outputs": [],
   "source": [
    "scale_x = scale_min_max()\n",
    "scale_y = scale_min_max()\n",
    "\n",
    "scale_x.fit(x_train)\n",
    "scale_y.fit(y_train)\n",
    "\n",
    "x_train_scaled = scale_x.transform(x_train)\n",
    "x_val_scaled = scale_x.transform(x_val)\n",
    "\n",
    "y_train_scaled = scale_y.transform(y_train)\n",
    "y_val_scaled = scale_y.transform(y_val)"
   ]
  },
  {
   "cell_type": "code",
   "execution_count": 10,
   "metadata": {},
   "outputs": [],
   "source": [
    "def relu(u):\n",
    "    return np.maximum(0, u)\n",
    "\n",
    "def relu_dif(u):\n",
    "    return (u >= 0) * 1.0 \n",
    "\n",
    "def afim(z):\n",
    "    return z\n",
    "\n",
    "def afim_dif(z):\n",
    "    return np.ones(shape=z.shape) \n",
    "\n",
    "def tanh(u):\n",
    "    return (np.exp(2*u) - 1)/(np.exp(2*u) + 1)\n",
    "\n",
    "def tanh_dif(u):\n",
    "    return 1 - np.tanh(u)**2\n",
    "\n",
    "def sigmoid(z):\n",
    "    return 1 / (1 + np.exp(-z))\n",
    "\n",
    "def sigmoid_dif(z):\n",
    "    return sigmoid(z) * (1 - sigmoid(z))\n",
    "\n",
    "def softmax(z):\n",
    "    return np.exp(z) / np.sum(np.exp(z), axis=0)[None,:]\n",
    "\n",
    "def softmax_dif(z):\n",
    "    return softmax(z) * (1 - softmax(z))\n",
    "\n",
    "def cost_mse(true, pred):\n",
    "    return np.mean((true - pred)**2)\n",
    "\n",
    "def cost_logistic(true, pred):\n",
    "    return np.mean(- true * np.log(pred) - (1 - true) * np.log(1 - pred))\n",
    "\n",
    "def cost_softmax(true, pred):\n",
    "    return - np.sum(true * np.log(pred)) / len(true)"
   ]
  },
  {
   "cell_type": "code",
   "execution_count": 11,
   "metadata": {},
   "outputs": [],
   "source": [
    "def RMSE(true, pred):\n",
    " rmse = np.sqrt(np.mean((true - pred)**2))\n",
    " return rmse\n",
    "\n",
    "def MSE(true, pred):\n",
    " mse = np.mean((true - pred)**2)\n",
    " return mse\n",
    "\n",
    "def MRE(y_true ,y_pred):\n",
    " mre = np.mean(np.abs((y_true - y_pred)/y_true))\n",
    " return mre\n",
    "\n",
    "def ACC(y_true, y_pred):\n",
    " acc = (y_true == y_pred).sum()/len(y_pred)\n",
    " return acc"
   ]
  },
  {
   "cell_type": "markdown",
   "metadata": {},
   "source": [
    "## Questão 1 (MLP para regressão)"
   ]
  },
  {
   "cell_type": "code",
   "execution_count": 12,
   "metadata": {
    "scrolled": true
   },
   "outputs": [],
   "source": [
    "class MLP_1L():\n",
    "    \n",
    "    def __init__(self, Nh=20, momentum=0.9, t=300, rate=0.0001, \n",
    "                 size_batch= 32, phi_1 = 'tanh', phi_2 = 'afim', cost = 'mse', reg = 0.1):      \n",
    "        self.t = t\n",
    "        self.rate = rate\n",
    "        self.B = size_batch\n",
    "        self.lamb = reg\n",
    "                \n",
    "        self.W = None\n",
    "        self.M = None\n",
    "        self.D = None\n",
    "        self.Nh = Nh\n",
    "        self.momentum = momentum\n",
    "        self.K = 1\n",
    "        \n",
    "        self.atv_1 = phi_1\n",
    "        self.atv_2 = phi_2\n",
    "        self.phi_1 = None\n",
    "        self.phi_2 = None\n",
    "        self.cost = cost\n",
    "        self.f_cost = None\n",
    "        \n",
    "        self.costs = []\n",
    "        self.costs_val = []\n",
    "        \n",
    "        if self.atv_1 == 'tanh':\n",
    "            self.phi_1 = np.tanh               \n",
    "            self.phi_1_dif = tanh_dif\n",
    "            \n",
    "        if self.atv_1 == 'relu':\n",
    "            self.phi_1 = relu                \n",
    "            self.phi_1_dif = relu_dif                         \n",
    "                      \n",
    "        if self.atv_2 == 'afim':\n",
    "            self.phi_2 = afim          \n",
    "            self.phi_2_dif = afim_dif\n",
    "            self.f_cost = cost_mse\n",
    "            \n",
    "        if self.atv_2 == 'sigmoid':\n",
    "            self.phi_2 = sigmoid                \n",
    "            self.phi_2_dif = sigmoid_dif\n",
    "            self.f_cost = cost_logistic\n",
    "            \n",
    "        if self.atv_2 == 'softmax': \n",
    "            self.phi_2 = softmax                \n",
    "            self.phi_2_dif = softmax_dif\n",
    "            self.f_cost = cost_softmax          \n",
    "        \n",
    "    def fit(self, X, y, X_val, y_val):\n",
    "        if self.atv_2 == 'softmax':\n",
    "            self.K = len(np.unique(y))\n",
    "        n = X.shape[0]\n",
    "        X = np.c_[np.ones(X.shape[0]), X]\n",
    "        X_val = np.c_[np.ones(X_val.shape[0]), X_val]\n",
    "        y = y.reshape(-1,1) \n",
    "        y_val = y_val.reshape(-1,1)\n",
    "        self.D = X.shape[1]\n",
    "    \n",
    "        self.W = np.random.normal(loc= 0, scale=1,size=(self.Nh,self.D)) * np.sqrt(1/self.D)\n",
    "        self.W[:,0] = 0\n",
    "        self.M = np.random.normal(loc= 0, scale=1,size=(self.K, self.Nh+1)) * np.sqrt(1/self.Nh+1)\n",
    "        self.M[:, 0] = 0\n",
    "        W_past_increment = 0\n",
    "        M_past_increment = 0 \n",
    "                               \n",
    "        for epoch in range(self.t):\n",
    "            random_index = np.random.permutation(len(y))\n",
    "            X = X[random_index]\n",
    "            index = np.arange(0, n, self.B)\n",
    "            index[-1] = n\n",
    "            for i in range(len(index)-1):\n",
    "                start = index[i]\n",
    "                end = index[i+1]\n",
    "                X_batch = X[start:end, : ]\n",
    "                y_batch = y[start:end]\n",
    "                Z = np.zeros([len(X_batch), self.Nh+1])\n",
    "                \n",
    "                Z[:, 0] = 1                            \n",
    "                u = X_batch @ self.W.T\n",
    "                Z[:, 1:] = self.phi_1(u)\n",
    "                r = Z @ self.M.T\n",
    "                pred = self.phi_2(r)\n",
    "                \n",
    "                error = y_batch - pred\n",
    "                delta = error * self.phi_2_dif(r)              \n",
    "                zeta =  self.phi_1_dif(u) * (delta @ self.M[:, 1:])\n",
    "                term_M = self.lamb*self.M\n",
    "                term_M[:, 0] = 0\n",
    "                self.M = self.M + self.rate * (delta.T @ Z - term_M) +  self.momentum * M_past_increment\n",
    "                M_past_increment = self.rate * (delta.T @ Z - term_M)\n",
    "                term_W = self.lamb*self.W\n",
    "                term_W[:,0] = 0\n",
    "                self.W = self.W + self.rate * (zeta.T @ X_batch - term_W) + self.momentum * W_past_increment\n",
    "                W_past_increment = self.rate * (zeta.T @ X_batch - term_W)\n",
    "                \n",
    "                Z = np.zeros([len(X), self.Nh+1])\n",
    "                Z[:, 0] = 1                \n",
    "                u = X @ self.W.T\n",
    "                Z[:, 1:] = self.phi_1(u)\n",
    "                r = Z @ self.M.T\n",
    "                y_pred  = self.phi_2(r)                                 \n",
    "                loss = self.f_cost(y, y_pred)/2\n",
    "                self.costs.append(loss)\n",
    "                \n",
    "                Z = np.zeros([len(X_val), self.Nh+1])\n",
    "                Z[:, 0] = 1                \n",
    "                u = X_val @ self.W.T\n",
    "                Z[:, 1:] = self.phi_1(u)\n",
    "                r = Z @ self.M.T\n",
    "                y_pred_val  = self.phi_2(r)        \n",
    "                loss_val = self.f_cost(y_val, y_pred_val)/2\n",
    "                self.costs_val.append(loss_val)\n",
    "                \n",
    "    def predict(self, X):\n",
    "        \n",
    "        X = np.c_[np.ones(X.shape[0]), X]        \n",
    "        Z = np.zeros([len(X), self.Nh+1])\n",
    "        Z[:, 0] = 1                \n",
    "        u = X @ self.W.T\n",
    "        Z[:, 1:] = self.phi_1(u)\n",
    "        r = Z @ self.M.T\n",
    "        y_pred  = self.phi_2(r)\n",
    "        return y_pred"
   ]
  },
  {
   "cell_type": "code",
   "execution_count": 13,
   "metadata": {},
   "outputs": [],
   "source": [
    "grid = {\n",
    "    'Nh':[15 , 35 ,50,100],\n",
    "    'rate':[0.0001 ,0.00001],\n",
    "    'reg' : [0 ,0.01, 0.1, 0.25, 0.4]\n",
    "    }\n",
    "\n",
    "def RandomSearch(modelo, grid, qtd, cost):\n",
    "    combinations = []\n",
    "    while len(combinations) < qtd:\n",
    "        a = {}\n",
    "        for yi in grid.keys():\n",
    "            a[yi] = np.random.choice(grid[yi])\n",
    "            if a not in combinations:\n",
    "                combinations.append(a)\n",
    "                \n",
    "    scores = []      \n",
    "    for comb in combinations:\n",
    "        model = modelo(**comb)\n",
    "        model.fit(x_train_scaled, y_train_scaled, x_val_scaled, y_val_scaled)\n",
    "        y_pred = model.predict(x_val_scaled)\n",
    "        y_pred = scale_y.inversa(y_pred)\n",
    "        scores.append(cost(y_val, y_pred))\n",
    "        print(comb)\n",
    "        print(cost(y_val, y_pred))\n",
    "        print(\"----\")\n",
    "        \n",
    "    scores = np.array(scores)\n",
    "    best_index = np.argmin(scores)\n",
    "    best = combinations[best_index]\n",
    "        \n",
    "    return best, combinations, scores\n",
    "        "
   ]
  },
  {
   "cell_type": "markdown",
   "metadata": {},
   "source": [
    "### RamdomSearch usando o conjunto de validação\n"
   ]
  },
  {
   "cell_type": "code",
   "execution_count": 14,
   "metadata": {},
   "outputs": [
    {
     "name": "stdout",
     "output_type": "stream",
     "text": [
      "{'Nh': 35, 'rate': 1e-05, 'reg': 0.1}\n",
      "17.504496983396084\n",
      "----\n",
      "{'Nh': 35, 'rate': 1e-05, 'reg': 0.01}\n",
      "17.449493964538206\n",
      "----\n",
      "{'Nh': 15, 'rate': 1e-05, 'reg': 0.0}\n",
      "20.705879986810004\n",
      "----\n",
      "{'Nh': 50, 'rate': 0.0001, 'reg': 0.1}\n",
      "16.901025273245647\n",
      "----\n",
      "{'Nh': 35, 'rate': 0.0001, 'reg': 0.1}\n",
      "17.024899899163703\n",
      "----\n",
      "{'Nh': 35, 'rate': 0.0001, 'reg': 0.4}\n",
      "16.904513950537257\n",
      "----\n",
      "{'Nh': 50, 'rate': 0.0001, 'reg': 0.01}\n",
      "16.957409477405587\n",
      "----\n",
      "{'Nh': 100, 'rate': 0.0001, 'reg': 0.25}\n",
      "16.88283231327997\n",
      "----\n",
      "{'Nh': 50, 'rate': 0.0001, 'reg': 0.25}\n",
      "16.91344941648791\n",
      "----\n",
      "{'Nh': 15, 'rate': 1e-05, 'reg': 0.4}\n",
      "18.619448002561032\n",
      "----\n",
      "{'Nh': 100, 'rate': 0.0001, 'reg': 0.4}\n",
      "16.87802096755491\n",
      "----\n",
      "{'Nh': 50, 'rate': 0.0001, 'reg': 0.1}\n",
      "16.977729568113176\n",
      "----\n",
      "{'Nh': 35, 'rate': 1e-05, 'reg': 0.01}\n",
      "19.657330385032484\n",
      "----\n",
      "{'Nh': 15, 'rate': 0.0001, 'reg': 0.25}\n",
      "16.86973009910636\n",
      "----\n",
      "{'Nh': 15, 'rate': 0.0001, 'reg': 0.25}\n",
      "16.952829293948962\n",
      "----\n",
      "{'Nh': 15, 'rate': 0.0001, 'reg': 0.4}\n",
      "16.84908659327432\n",
      "----\n",
      "{'Nh': 50, 'rate': 0.0001, 'reg': 0.4}\n",
      "16.897915761233154\n",
      "----\n",
      "{'Nh': 100, 'rate': 1e-05, 'reg': 0.1}\n",
      "17.605149732288492\n",
      "----\n",
      "{'Nh': 100, 'rate': 0.0001, 'reg': 0.0}\n",
      "16.92115919247063\n",
      "----\n",
      "{'Nh': 100, 'rate': 0.0001, 'reg': 0.0}\n",
      "17.0191893060685\n",
      "----\n"
     ]
    }
   ],
   "source": [
    "best, combinations, scores = RandomSearch(MLP_1L, grid, 20, RMSE)"
   ]
  },
  {
   "cell_type": "code",
   "execution_count": 15,
   "metadata": {},
   "outputs": [
    {
     "data": {
      "text/plain": [
       "{'Nh': 15, 'rate': 0.0001, 'reg': 0.4}"
      ]
     },
     "execution_count": 15,
     "metadata": {},
     "output_type": "execute_result"
    }
   ],
   "source": [
    "best"
   ]
  },
  {
   "cell_type": "code",
   "execution_count": 16,
   "metadata": {},
   "outputs": [
    {
     "data": {
      "text/plain": [
       "15"
      ]
     },
     "execution_count": 16,
     "metadata": {},
     "output_type": "execute_result"
    }
   ],
   "source": [
    "np.argmin(scores)"
   ]
  },
  {
   "cell_type": "markdown",
   "metadata": {},
   "source": [
    "### Performance para o conjunto de validação"
   ]
  },
  {
   "cell_type": "code",
   "execution_count": 17,
   "metadata": {
    "scrolled": false
   },
   "outputs": [
    {
     "name": "stdout",
     "output_type": "stream",
     "text": [
      "MRE: 0.6085982970956474\n",
      "RMSE: 16.82599733466566\n"
     ]
    }
   ],
   "source": [
    "model = MLP_1L(**best)\n",
    "\n",
    "model.fit(x_train_scaled, y_train_scaled, x_val_scaled, y_val_scaled)\n",
    "y_pred = model.predict(x_val_scaled)\n",
    "y_pred = scale_y.inversa(y_pred)\n",
    "\n",
    "\n",
    "mre = MRE(y_val, y_pred)\n",
    "RMSE = np.sqrt(MSE(y_val, y_pred))\n",
    "\n",
    "print(\"MRE: {}\".format(mre))\n",
    "print(\"RMSE: {}\".format(RMSE))"
   ]
  },
  {
   "cell_type": "markdown",
   "metadata": {},
   "source": [
    "**Curva de aprendizagem para treino e validação**"
   ]
  },
  {
   "cell_type": "code",
   "execution_count": 18,
   "metadata": {
    "scrolled": true
   },
   "outputs": [
    {
     "data": {
      "text/plain": [
       "<matplotlib.legend.Legend at 0x175891e4310>"
      ]
     },
     "execution_count": 18,
     "metadata": {},
     "output_type": "execute_result"
    },
    {
     "data": {
      "image/png": "[encoded data removed]",
      "text/plain": [
       "<Figure size 432x288 with 1 Axes>"
      ]
     },
     "metadata": {
      "needs_background": "light"
     },
     "output_type": "display_data"
    }
   ],
   "source": [
    "plt.plot(model.costs, label='train')\n",
    "plt.plot(model.costs_val, label='validation')\n",
    "plt.title(\"Curva de aprendizagem: Train x Validation\")\n",
    "plt.legend()"
   ]
  },
  {
   "cell_type": "markdown",
   "metadata": {},
   "source": [
    "### Performance para o conjunto de treino"
   ]
  },
  {
   "cell_type": "code",
   "execution_count": 19,
   "metadata": {},
   "outputs": [
    {
     "name": "stdout",
     "output_type": "stream",
     "text": [
      "MRE: 0.6063459973159556\n",
      "RMSE: 16.836396033461323\n"
     ]
    }
   ],
   "source": [
    "y_pred = model.predict(x_train_scaled)\n",
    "y_pred = scale_y.inversa(y_pred)\n",
    "\n",
    "\n",
    "mre = MRE(y_train, y_pred)\n",
    "RMSE = np.sqrt(MSE(y_train, y_pred))\n",
    "\n",
    "print(\"MRE: {}\".format(mre))\n",
    "print(\"RMSE: {}\".format(RMSE))\n"
   ]
  },
  {
   "cell_type": "markdown",
   "metadata": {},
   "source": [
    "### Treinando o modelo usando treino e validação e avaliando no conjunto de teste"
   ]
  },
  {
   "cell_type": "code",
   "execution_count": 20,
   "metadata": {},
   "outputs": [],
   "source": [
    "scale_x.fit(x_train)\n",
    "scale_y.fit(y_train)\n",
    "\n",
    "x_train_scaled  = scale_x.transform(x_train)\n",
    "x_val_scaled = scale_x.transform(x_test)\n",
    "\n",
    "y_train_scaled = scale_y.transform(y_train)\n",
    "y_val_scaled = scale_y.transform(y_train)"
   ]
  },
  {
   "cell_type": "code",
   "execution_count": 21,
   "metadata": {},
   "outputs": [
    {
     "name": "stdout",
     "output_type": "stream",
     "text": [
      "MRE: 90.30078896061805\n",
      "RMSE: 2586.0937339909215\n"
     ]
    }
   ],
   "source": [
    "model = MLP_1L(**best)\n",
    "\n",
    "model.fit(x_train, y_train, x_val, y_val)\n",
    "y_pred = model.predict(x_val)\n",
    "y_pred = scale_y.inversa(y_pred)\n",
    "\n",
    "\n",
    "mre = MRE(y_test, y_pred)\n",
    "RMSE = np.sqrt(MSE(y_test, y_pred))\n",
    "\n",
    "print(\"MRE: {}\".format(mre))\n",
    "print(\"RMSE: {}\".format(RMSE))"
   ]
  },
  {
   "cell_type": "markdown",
   "metadata": {},
   "source": [
    "## Questão 2 (MLP para classificação)"
   ]
  },
  {
   "cell_type": "code",
   "execution_count": 22,
   "metadata": {},
   "outputs": [],
   "source": [
    "dados_vowel = np.genfromtxt('./Dados/vowel.csv', delimiter = ',', skip_header = 0)"
   ]
  },
  {
   "cell_type": "code",
   "execution_count": 23,
   "metadata": {},
   "outputs": [],
   "source": [
    "dados_vowel = np.genfromtxt('./Dados/vowel.csv', delimiter = ',', skip_header = 0)\n",
    "np.set_printoptions()"
   ]
  },
  {
   "cell_type": "code",
   "execution_count": 24,
   "metadata": {},
   "outputs": [],
   "source": [
    "X = dados_vowel[:, 0:-1]\n",
    "y = dados_vowel[:, [-1]]"
   ]
  },
  {
   "cell_type": "code",
   "execution_count": 25,
   "metadata": {},
   "outputs": [],
   "source": [
    "n_classes = len(np.unique(y)) # número de classes\n",
    "Y = np.zeros((y.shape[0], n_classes)) # inicializando a matriz Y com zeros"
   ]
  },
  {
   "cell_type": "code",
   "execution_count": 26,
   "metadata": {},
   "outputs": [],
   "source": [
    "n = X.shape[0] # tamanho da amostra original\n",
    "D = X.shape[1] # número de dimensões de entrada (atributos)\n",
    "K = Y.shape[1] # número de dimensões de saída (classes)\n",
    "n_train = round(0.6*n) # tamanho da amostra de treino\n",
    "n_validacao = round(0.2*n) # tamanho da amostra de validação\n",
    "n_teste = n - n_train - n_validacao # tamanho da amostra de teste"
   ]
  },
  {
   "cell_type": "code",
   "execution_count": 27,
   "metadata": {},
   "outputs": [],
   "source": [
    "def norm_min_max(X, X_train): # normalização min-max dos dados\n",
    "  X_train_min = X_train.min(axis=0) # valor mínimo de cada atributo/coluna\n",
    "  X_train_max = X_train.max(axis=0) # valor máximo de cada atributo/coluna\n",
    "  X = (X - X_train_min) / (X_train_max - X_train_min) # normalizando os valores das variáveis x na mesma escala dos dados de treino\n",
    "  return X"
   ]
  },
  {
   "cell_type": "code",
   "execution_count": 38,
   "metadata": {},
   "outputs": [],
   "source": [
    "def MLP_1co_direto(X, Y, W, M, f_ativ_oculta, f_ativ_saida, f_custo): # sentido direto da rede MLP com 1 camada oculta\n",
    "  U = X @ W\n",
    "  Zi = np.array(list(map(globals()[f_ativ_oculta], U))) # matriz de saída da camada oculta com a função de ativação\n",
    "  Z = np.c_[np.ones(Zi.shape[0]), Zi] # inserindo o termo de viés\n",
    "  R = Z @ M\n",
    "  Y_pred = np.array(list(map(globals()[f_ativ_saida], R))) # vetor de saída com a função de ativação\n",
    "  erro = Y - Y_pred\n",
    "  if f_custo == 'MSE':\n",
    "    custo = (1/(2*Y.shape[0])) * (erro**2).sum() # computando o erro quadrático médio\n",
    "  if f_custo == 'entropia':\n",
    "    custo = (-1/Y.shape[0]) * (Y * np.log(Y_pred)).sum() # computando a entropia cruzada\n",
    "  return Z, Y_pred, erro, custo\n",
    "\n",
    "def MLP_train(X_train, Y_train, X_validacao, Y_validacao, f_ativ_oculta, f_ativ_saida, f_custo, alfa_0, n_epocas, momentum, n_neuronios, B, termo_reg, validacao = True): # treinamento da rede MLP\n",
    "  # Inicialização dos parâmetros\n",
    "  D = X_train.shape[1] # número de dimensões de entrada (atributos)\n",
    "  if f_ativ_oculta == 'relu':\n",
    "    W = np.sqrt(2/(D+1)) * np.random.normal(size = (D, n_neuronios)) # inicialização da matriz de parâmetros da camada de entrada => camada oculta\n",
    "    W = np.r_[0.01*np.ones((1, n_neuronios)), W] # inicialização do viés de cada neurônio = 0.01\n",
    "  else:\n",
    "    W = np.sqrt(1/(D+1)) * np.random.normal(size = (D, n_neuronios)) # inicialização da matriz de parâmetros da camada de entrada => camada oculta\n",
    "    W = np.r_[np.zeros((1, n_neuronios)), W] # inicialização do viés de cada neurônio = 0\n",
    "  W_ant = W # matriz W da iteração anterior, para termo de momentum\n",
    "  \n",
    "  K = Y_train.shape[1] # número de dimensões de saída\n",
    "  if f_ativ_saida == 'relu':\n",
    "    M = np.sqrt(2/(n_neuronios + 1)) * np.random.normal(size = (n_neuronios, K)) # inicialização da matriz de parâmetros da camada oculta => camada de saída\n",
    "    M = np.r_[0.01*np.ones((1, K)), M] # inicialização do viés de cada neurônio = 0.01\n",
    "  else:\n",
    "    M = np.sqrt(1/(n_neuronios + 1)) * np.random.normal(size = (n_neuronios, K)) # inicialização da matriz de parâmetros da camada oculta => camada de saída\n",
    "    M = np.r_[np.zeros((1, K)), M] # inicialização do viés de cada neurônio = 0\n",
    "  M_ant = M # matriz M da iteração anterior, para termo de momentum\n",
    "\n",
    "  # Etapa de treinamento e validação\n",
    "  custo_train_it = [] # histórico dos valores da função custo de treino em cada iteração (mini-batch), geralmente utilizado com muitos dados devido ao custo de execução do algoritmo\n",
    "  custo_validacao_ep = [] # histórico dos valores da função custo de validação em cada época\n",
    "  custo_validacao_min = np.inf # inicializando o custo mínimo de validação como infinito (para escolher melhor modelo durante o treinamento/validação)\n",
    "  n_iteracoes = int(np.ceil(X_train.shape[0] / B)) # número de iterações (mini-batches) por época\n",
    "  for epoca in range(n_epocas):\n",
    "    I_train = np.random.permutation(X_train.shape[0]) # permutação dos índices das observações de treinamento\n",
    "    X_train_ep = X_train[I_train] # embaralhamento dos padrões de treinamento\n",
    "    Y_train_ep = Y_train[I_train] # embaralhamento dos dados de saída de treinamento\n",
    "    alfa = alfa_0 / (1 + epoca) # decaimento exponencial da taxa de aprendizagem\n",
    "    \n",
    "    for t in range(n_iteracoes):\n",
    "      X_t = X_train_ep[(t*B):((t+1)*B),] # selecionando apenas os padrões do mini-batch\n",
    "      X_t = np.c_[np.ones(X_t.shape[0]), X_t] # inserindo o termo de viés\n",
    "      Y_t = Y_train_ep[(t*B):((t+1)*B),] # selecionando apenas as saídas dos padrões do mini-batch\n",
    "      \n",
    "      MLP_dir_train = MLP_1co_direto(X_t, Y_t, W, M, f_ativ_oculta, f_ativ_saida, f_custo) # sentido direto da rede MLP aplicado aos dados de treinamento da iteração\n",
    "      erro = MLP_dir_train[2]\n",
    "      custo_train_it.append(MLP_dir_train[3]) # custo de treino da iteração (mini-batch)\n",
    "\n",
    "      Z_t = MLP_dir_train[0]\n",
    "      R = Z_t @ M\n",
    "      dY = -erro # gradiente local da camada de saída (para os casos específicos tratados aqui)\n",
    "      M_aux = M # matriz de parâmetros auxiliar (para manter a matriz de parâmetros da iteração anterior)\n",
    "      M_reg = M # matriz dos parâmetros a serem regularizados\n",
    "      M_reg[0,:] = np.zeros((1, K)) # removendo o termo de viés da regularização\n",
    "      M += -(alfa/B) * (Z_t.T @ dY + termo_reg * M_reg) + momentum * (M - M_ant) # atualização dos parâmetros da camada oculta => camada de saída\n",
    "      M_ant = M_aux # atualizando a matriz de parâmetros da iteração anterior\n",
    "\n",
    "      U = X_t @ W\n",
    "      dU = np.array(list(map(globals()['deriv_' + f_ativ_oculta], U))) # derivada da função de ativação da camada oculta\n",
    "      dZ = dU * (dY @ M[1:,].T) # gradiente local da camada oculta\n",
    "      W_aux = W # matriz de parâmetros auxiliar (para manter a matriz de parâmetros da iteração anterior)\n",
    "      W_reg = W # matriz dos parâmetros a serem regularizados (não se remove o termo de viés da camada oculta da regularização porque não se tem uma saída desejada)\n",
    "      W += -(alfa/B) * (X_t.T @ dZ + termo_reg * W_reg) + momentum * (W - W_ant) # atualização dos parâmetros da camada de entrada => camada oculta\n",
    "      W_ant = W_aux # atualizando a matriz de parâmetros da iteração anterior\n",
    "\n",
    "    if validacao == True:\n",
    "      MLP_validacao = MLP_1co_direto(X_validacao, Y_validacao, W, M, f_ativ_oculta, f_ativ_saida, f_custo) # sentido direto da rede MLP aplicado aos dados de validação\n",
    "      custo_validacao = MLP_validacao[3] # custo médio de validação da época\n",
    "      custo_validacao_ep.append(custo_validacao)\n",
    "\n",
    "      if custo_validacao < custo_validacao_min:\n",
    "        custo_validacao_min = custo_validacao\n",
    "        W_melhor = W # atualizando matriz de parâmetros associados ao melhor modelo durante o treinamento/validação\n",
    "        M_melhor = M # atualizando matriz de parâmetros associados ao melhor modelo durante o treinamento/validação\n",
    "    \n",
    "    else:\n",
    "      W_melhor = W\n",
    "      M_melhor = M\n",
    "  return W_melhor, M_melhor, custo_train_it, custo_validacao_ep"
   ]
  },
  {
   "cell_type": "code",
   "execution_count": 37,
   "metadata": {},
   "outputs": [
    {
     "ename": "IndexError",
     "evalue": "invalid index to scalar variable.",
     "output_type": "error",
     "traceback": [
      "\u001b[1;31m---------------------------------------------------------------------------\u001b[0m",
      "\u001b[1;31mIndexError\u001b[0m                                Traceback (most recent call last)",
      "\u001b[1;32m<ipython-input-37-7798599b2a64>\u001b[0m in \u001b[0;36m<module>\u001b[1;34m\u001b[0m\n\u001b[0;32m     28\u001b[0m \u001b[1;33m\u001b[0m\u001b[0m\n\u001b[0;32m     29\u001b[0m   \u001b[1;31m# Etapa de treinamento e validação\u001b[0m\u001b[1;33m\u001b[0m\u001b[1;33m\u001b[0m\u001b[1;33m\u001b[0m\u001b[0m\n\u001b[1;32m---> 30\u001b[1;33m   \u001b[0mrede_MLP\u001b[0m \u001b[1;33m=\u001b[0m \u001b[0mMLP_train\u001b[0m\u001b[1;33m(\u001b[0m\u001b[0mX_train\u001b[0m\u001b[1;33m,\u001b[0m \u001b[0mY_train\u001b[0m\u001b[1;33m,\u001b[0m \u001b[0mX_validacao\u001b[0m\u001b[1;33m,\u001b[0m \u001b[0mY_validacao\u001b[0m\u001b[1;33m,\u001b[0m \u001b[0mf_ativ_oculta\u001b[0m\u001b[1;33m,\u001b[0m \u001b[0mf_ativ_saida\u001b[0m\u001b[1;33m,\u001b[0m \u001b[0mf_custo\u001b[0m\u001b[1;33m,\u001b[0m \u001b[0malfa_0\u001b[0m\u001b[1;33m,\u001b[0m \u001b[0mn_epocas\u001b[0m\u001b[1;33m,\u001b[0m \u001b[0mmomentum\u001b[0m\u001b[1;33m,\u001b[0m \u001b[0mn_neuronios\u001b[0m\u001b[1;33m,\u001b[0m \u001b[0mB\u001b[0m\u001b[1;33m,\u001b[0m \u001b[0mtermo_reg\u001b[0m\u001b[1;33m,\u001b[0m \u001b[0mvalidacao\u001b[0m \u001b[1;33m=\u001b[0m \u001b[1;32mTrue\u001b[0m\u001b[1;33m)\u001b[0m\u001b[1;33m\u001b[0m\u001b[1;33m\u001b[0m\u001b[0m\n\u001b[0m\u001b[0;32m     31\u001b[0m   \u001b[1;33m(\u001b[0m\u001b[0mW_hp\u001b[0m\u001b[1;33m,\u001b[0m \u001b[0mM_hp\u001b[0m\u001b[1;33m)\u001b[0m \u001b[1;33m=\u001b[0m \u001b[1;33m(\u001b[0m\u001b[0mrede_MLP\u001b[0m\u001b[1;33m[\u001b[0m\u001b[1;36m0\u001b[0m\u001b[1;33m]\u001b[0m\u001b[1;33m,\u001b[0m \u001b[0mrede_MLP\u001b[0m\u001b[1;33m[\u001b[0m\u001b[1;36m1\u001b[0m\u001b[1;33m]\u001b[0m\u001b[1;33m)\u001b[0m\u001b[1;33m\u001b[0m\u001b[1;33m\u001b[0m\u001b[0m\n\u001b[0;32m     32\u001b[0m \u001b[1;33m\u001b[0m\u001b[0m\n",
      "\u001b[1;32m<ipython-input-35-f00504fd53d0>\u001b[0m in \u001b[0;36mMLP_train\u001b[1;34m(X_train, Y_train, X_validacao, Y_validacao, f_ativ_oculta, f_ativ_saida, f_custo, alfa_0, n_epocas, momentum, n_neuronios, B, termo_reg, validacao)\u001b[0m\n\u001b[0;32m     48\u001b[0m       \u001b[0mY_t\u001b[0m \u001b[1;33m=\u001b[0m \u001b[0mY_train_ep\u001b[0m\u001b[1;33m[\u001b[0m\u001b[1;33m(\u001b[0m\u001b[0mt\u001b[0m\u001b[1;33m*\u001b[0m\u001b[0mB\u001b[0m\u001b[1;33m)\u001b[0m\u001b[1;33m:\u001b[0m\u001b[1;33m(\u001b[0m\u001b[1;33m(\u001b[0m\u001b[0mt\u001b[0m\u001b[1;33m+\u001b[0m\u001b[1;36m1\u001b[0m\u001b[1;33m)\u001b[0m\u001b[1;33m*\u001b[0m\u001b[0mB\u001b[0m\u001b[1;33m)\u001b[0m\u001b[1;33m,\u001b[0m\u001b[1;33m]\u001b[0m \u001b[1;31m# selecionando apenas as saídas dos padrões do mini-batch\u001b[0m\u001b[1;33m\u001b[0m\u001b[1;33m\u001b[0m\u001b[0m\n\u001b[0;32m     49\u001b[0m \u001b[1;33m\u001b[0m\u001b[0m\n\u001b[1;32m---> 50\u001b[1;33m       \u001b[0mMLP_dir_train\u001b[0m \u001b[1;33m=\u001b[0m \u001b[0mMLP_1co_direto\u001b[0m\u001b[1;33m(\u001b[0m\u001b[0mX_t\u001b[0m\u001b[1;33m,\u001b[0m \u001b[0mY_t\u001b[0m\u001b[1;33m,\u001b[0m \u001b[0mW\u001b[0m\u001b[1;33m,\u001b[0m \u001b[0mM\u001b[0m\u001b[1;33m,\u001b[0m \u001b[0mf_ativ_oculta\u001b[0m\u001b[1;33m,\u001b[0m \u001b[0mf_ativ_saida\u001b[0m\u001b[1;33m,\u001b[0m \u001b[0mf_custo\u001b[0m\u001b[1;33m)\u001b[0m \u001b[1;31m# sentido direto da rede MLP aplicado aos dados de treinamento da iteração\u001b[0m\u001b[1;33m\u001b[0m\u001b[1;33m\u001b[0m\u001b[0m\n\u001b[0m\u001b[0;32m     51\u001b[0m       \u001b[0merro\u001b[0m \u001b[1;33m=\u001b[0m \u001b[0mMLP_dir_train\u001b[0m\u001b[1;33m[\u001b[0m\u001b[1;36m2\u001b[0m\u001b[1;33m]\u001b[0m\u001b[1;33m\u001b[0m\u001b[1;33m\u001b[0m\u001b[0m\n\u001b[0;32m     52\u001b[0m       \u001b[0mcusto_train_it\u001b[0m\u001b[1;33m.\u001b[0m\u001b[0mappend\u001b[0m\u001b[1;33m(\u001b[0m\u001b[0mMLP_dir_train\u001b[0m\u001b[1;33m[\u001b[0m\u001b[1;36m3\u001b[0m\u001b[1;33m]\u001b[0m\u001b[1;33m)\u001b[0m \u001b[1;31m# custo de treino da iteração (mini-batch)\u001b[0m\u001b[1;33m\u001b[0m\u001b[1;33m\u001b[0m\u001b[0m\n",
      "\u001b[1;32m<ipython-input-35-f00504fd53d0>\u001b[0m in \u001b[0;36mMLP_1co_direto\u001b[1;34m(X, Y, W, M, f_ativ_oculta, f_ativ_saida, f_custo)\u001b[0m\n\u001b[0;32m      4\u001b[0m   \u001b[0mZ\u001b[0m \u001b[1;33m=\u001b[0m \u001b[0mnp\u001b[0m\u001b[1;33m.\u001b[0m\u001b[0mc_\u001b[0m\u001b[1;33m[\u001b[0m\u001b[0mnp\u001b[0m\u001b[1;33m.\u001b[0m\u001b[0mones\u001b[0m\u001b[1;33m(\u001b[0m\u001b[0mZi\u001b[0m\u001b[1;33m.\u001b[0m\u001b[0mshape\u001b[0m\u001b[1;33m[\u001b[0m\u001b[1;36m0\u001b[0m\u001b[1;33m]\u001b[0m\u001b[1;33m)\u001b[0m\u001b[1;33m,\u001b[0m \u001b[0mZi\u001b[0m\u001b[1;33m]\u001b[0m \u001b[1;31m# inserindo o termo de viés\u001b[0m\u001b[1;33m\u001b[0m\u001b[1;33m\u001b[0m\u001b[0m\n\u001b[0;32m      5\u001b[0m   \u001b[0mR\u001b[0m \u001b[1;33m=\u001b[0m \u001b[0mZ\u001b[0m \u001b[1;33m@\u001b[0m \u001b[0mM\u001b[0m\u001b[1;33m\u001b[0m\u001b[1;33m\u001b[0m\u001b[0m\n\u001b[1;32m----> 6\u001b[1;33m   \u001b[0mY_pred\u001b[0m \u001b[1;33m=\u001b[0m \u001b[0mnp\u001b[0m\u001b[1;33m.\u001b[0m\u001b[0marray\u001b[0m\u001b[1;33m(\u001b[0m\u001b[0mlist\u001b[0m\u001b[1;33m(\u001b[0m\u001b[0mmap\u001b[0m\u001b[1;33m(\u001b[0m\u001b[0mglobals\u001b[0m\u001b[1;33m(\u001b[0m\u001b[1;33m)\u001b[0m\u001b[1;33m[\u001b[0m\u001b[0mf_ativ_saida\u001b[0m\u001b[1;33m]\u001b[0m\u001b[1;33m,\u001b[0m \u001b[0mR\u001b[0m\u001b[1;33m)\u001b[0m\u001b[1;33m)\u001b[0m\u001b[1;33m)\u001b[0m \u001b[1;31m# vetor de saída com a função de ativação\u001b[0m\u001b[1;33m\u001b[0m\u001b[1;33m\u001b[0m\u001b[0m\n\u001b[0m\u001b[0;32m      7\u001b[0m   \u001b[0merro\u001b[0m \u001b[1;33m=\u001b[0m \u001b[0mY\u001b[0m \u001b[1;33m-\u001b[0m \u001b[0mY_pred\u001b[0m\u001b[1;33m\u001b[0m\u001b[1;33m\u001b[0m\u001b[0m\n\u001b[0;32m      8\u001b[0m   \u001b[1;32mif\u001b[0m \u001b[0mf_custo\u001b[0m \u001b[1;33m==\u001b[0m \u001b[1;34m'MSE'\u001b[0m\u001b[1;33m:\u001b[0m\u001b[1;33m\u001b[0m\u001b[1;33m\u001b[0m\u001b[0m\n",
      "\u001b[1;32m<ipython-input-10-938ca5820e37>\u001b[0m in \u001b[0;36msoftmax\u001b[1;34m(z)\u001b[0m\n\u001b[0;32m     24\u001b[0m \u001b[1;33m\u001b[0m\u001b[0m\n\u001b[0;32m     25\u001b[0m \u001b[1;32mdef\u001b[0m \u001b[0msoftmax\u001b[0m\u001b[1;33m(\u001b[0m\u001b[0mz\u001b[0m\u001b[1;33m)\u001b[0m\u001b[1;33m:\u001b[0m\u001b[1;33m\u001b[0m\u001b[1;33m\u001b[0m\u001b[0m\n\u001b[1;32m---> 26\u001b[1;33m     \u001b[1;32mreturn\u001b[0m \u001b[0mnp\u001b[0m\u001b[1;33m.\u001b[0m\u001b[0mexp\u001b[0m\u001b[1;33m(\u001b[0m\u001b[0mz\u001b[0m\u001b[1;33m)\u001b[0m \u001b[1;33m/\u001b[0m \u001b[0mnp\u001b[0m\u001b[1;33m.\u001b[0m\u001b[0msum\u001b[0m\u001b[1;33m(\u001b[0m\u001b[0mnp\u001b[0m\u001b[1;33m.\u001b[0m\u001b[0mexp\u001b[0m\u001b[1;33m(\u001b[0m\u001b[0mz\u001b[0m\u001b[1;33m)\u001b[0m\u001b[1;33m,\u001b[0m \u001b[0maxis\u001b[0m\u001b[1;33m=\u001b[0m\u001b[1;36m0\u001b[0m\u001b[1;33m)\u001b[0m\u001b[1;33m[\u001b[0m\u001b[1;32mNone\u001b[0m\u001b[1;33m,\u001b[0m\u001b[1;33m:\u001b[0m\u001b[1;33m]\u001b[0m\u001b[1;33m\u001b[0m\u001b[1;33m\u001b[0m\u001b[0m\n\u001b[0m\u001b[0;32m     27\u001b[0m \u001b[1;33m\u001b[0m\u001b[0m\n\u001b[0;32m     28\u001b[0m \u001b[1;32mdef\u001b[0m \u001b[0msoftmax_dif\u001b[0m\u001b[1;33m(\u001b[0m\u001b[0mz\u001b[0m\u001b[1;33m)\u001b[0m\u001b[1;33m:\u001b[0m\u001b[1;33m\u001b[0m\u001b[1;33m\u001b[0m\u001b[0m\n",
      "\u001b[1;31mIndexError\u001b[0m: invalid index to scalar variable."
     ]
    }
   ],
   "source": [
    "# Divisão das amostras e normalização dos dados\n",
    "I = np.random.permutation(n) # permutação dos índices das observações\n",
    "(X_train, X_validacao, X_teste) = (X[I][:n_train,], X[I][n_train:(n_train + n_validacao),], X[I][(n - n_teste):,])\n",
    "(Y_train, Y_validacao, Y_teste) = (Y[I][:n_train,], Y[I][n_train:(n_train + n_validacao),], Y[I][(n - n_teste):,])\n",
    "\n",
    "X_train = norm_min_max(X_train, X_train)\n",
    "X_validacao = norm_min_max(X_validacao, X_train)\n",
    "X_teste = norm_min_max(X_teste, X_train)\n",
    "\n",
    "X_validacao = np.c_[np.ones(n_validacao), X_validacao] # inserindo o termo de viés\n",
    "X_teste = np.c_[np.ones(n_teste), X_teste] # inserindo o termo de viés\n",
    "\n",
    "# Busca pelos hiperparâmetros ótimos\n",
    "n_iteracoes_hp = 1000 # número de iterações na busca pelos hiperparâmetros ótimos\n",
    "f_ativ_oculta = 'relu'\n",
    "f_ativ_saida = 'softmax'\n",
    "f_custo = 'entropia'\n",
    "\n",
    "custo_hp_min = np.inf # inicializando o custo mínimo de validação como infinito (para escolher melhor combinação de hiperparâmetros)\n",
    "for i in range(n_iteracoes_hp):\n",
    "  # Hiperparâmetros\n",
    "  alfa_0 = 10**np.random.uniform(-5, -1) # taxa de aprendizagem inicial\n",
    "  n_epocas = np.random.randint(200, 500) # número de épocas\n",
    "  momentum = np.random.uniform(0.5, 1) # termo de momentum\n",
    "  n_neuronios = np.random.randint(11, 200) # número de neurônios\n",
    "  B = np.random.randint(10, 100) # quantidade de padrões utilizados por mini-batch durante o treinamento\n",
    "  termo_reg = np.random.uniform(0.01, 0.1) # termo de regularização\n",
    "\n",
    "  # Etapa de treinamento e validação\n",
    "  rede_MLP = MLP_train(X_train, Y_train, X_validacao, Y_validacao, f_ativ_oculta, f_ativ_saida, f_custo, alfa_0, n_epocas, momentum, n_neuronios, B, termo_reg, validacao = True)\n",
    "  (W_hp, M_hp) = (rede_MLP[0], rede_MLP[1]) \n",
    "\n",
    "  MLP_validacao = MLP_1co_direto(X_validacao, Y_validacao, W_hp, M_hp, f_ativ_oculta, f_ativ_saida, f_custo) # sentido direto da rede MLP aplicado aos dados de validação\n",
    "  custo_validacao = MLP_validacao[3] # custo de validação do melhor modelo\n",
    "\n",
    "  if custo_validacao < custo_hp_min:\n",
    "    custo_hp_min = custo_validacao\n",
    "    (W_melhor, M_melhor) = (W_hp, M_hp) # atualizando matrizes de parâmetros associados ao melhor modelo durante o treinamento/validação\n",
    "    (alfa_0_melhor, n_epocas_melhor, momentum_melhor, n_neuronios_melhor, B_melhor, termo_reg_melhor) = (alfa_0, n_epocas, momentum, n_neuronios, B, termo_reg) # atualizando melhor combinação de hiperparâmetros\n",
    "    (custo_train_it_melhor, custo_validacao_ep_melhor) = (rede_MLP[2], rede_MLP[3])\n",
    "\n",
    "plt.plot(custo_train_it_melhor) # curva de aprendizagem de train para a melhor combinação de hiperparâmetros\n",
    "plt.xlabel(\"Iteração\")\n",
    "plt.ylabel(\"Entropia cruzada\")\n",
    "plt.title(\"Treinamento via SGD com momentum\");\n",
    "\n",
    "print(\"Hiperparâmetros do melhor modelo:\")\n",
    "print(\"taxa de aprendizagem inicial: %.3f, número de épocas: %d, termo de momentum: %.2f, número de neurônios: %d, tamanho do mini-batch: %d e termo de regularização: %.2f\" % \n",
    "      (alfa_0_melhor, n_epocas_melhor, momentum_melhor, n_neuronios_melhor, B_melhor, termo_reg_melhor), end = '\\n\\n')\n",
    "\n",
    "# Etapa de teste (Generalização)\n",
    "MLP_teste = MLP_1co_direto(X_teste, Y_teste, W_melhor, M_melhor, f_ativ_oculta, f_ativ_saida, f_custo) # sentido direto da rede MLP aplicado aos dados de teste\n",
    "custo_teste = MLP_teste[3] # entropia cruzada de teste\n",
    "print(\"Entropia cruzada de teste: %.4f\" % custo_teste)"
   ]
  },
  {
   "cell_type": "code",
   "execution_count": 30,
   "metadata": {},
   "outputs": [
    {
     "ename": "NameError",
     "evalue": "name 'custo_validacao_ep_melhor' is not defined",
     "output_type": "error",
     "traceback": [
      "\u001b[1;31m---------------------------------------------------------------------------\u001b[0m",
      "\u001b[1;31mNameError\u001b[0m                                 Traceback (most recent call last)",
      "\u001b[1;32m<ipython-input-30-9427d54735d2>\u001b[0m in \u001b[0;36m<module>\u001b[1;34m\u001b[0m\n\u001b[1;32m----> 1\u001b[1;33m \u001b[0mplt\u001b[0m\u001b[1;33m.\u001b[0m\u001b[0mplot\u001b[0m\u001b[1;33m(\u001b[0m\u001b[0mcusto_validacao_ep_melhor\u001b[0m\u001b[1;33m)\u001b[0m \u001b[1;31m# curva de aprendizagem de validação para a melhor combinação de hiperparâmetros\u001b[0m\u001b[1;33m\u001b[0m\u001b[1;33m\u001b[0m\u001b[0m\n\u001b[0m\u001b[0;32m      2\u001b[0m \u001b[0mplt\u001b[0m\u001b[1;33m.\u001b[0m\u001b[0mxlabel\u001b[0m\u001b[1;33m(\u001b[0m\u001b[1;34m\"Época\"\u001b[0m\u001b[1;33m)\u001b[0m\u001b[1;33m\u001b[0m\u001b[1;33m\u001b[0m\u001b[0m\n\u001b[0;32m      3\u001b[0m \u001b[0mplt\u001b[0m\u001b[1;33m.\u001b[0m\u001b[0mylabel\u001b[0m\u001b[1;33m(\u001b[0m\u001b[1;34m\"Entropia cruzada\"\u001b[0m\u001b[1;33m)\u001b[0m\u001b[1;33m\u001b[0m\u001b[1;33m\u001b[0m\u001b[0m\n\u001b[0;32m      4\u001b[0m \u001b[0mplt\u001b[0m\u001b[1;33m.\u001b[0m\u001b[0mtitle\u001b[0m\u001b[1;33m(\u001b[0m\u001b[1;34m\"Validação\"\u001b[0m\u001b[1;33m)\u001b[0m\u001b[1;33m;\u001b[0m\u001b[1;33m\u001b[0m\u001b[1;33m\u001b[0m\u001b[0m\n",
      "\u001b[1;31mNameError\u001b[0m: name 'custo_validacao_ep_melhor' is not defined"
     ]
    }
   ],
   "source": [
    "plt.plot(custo_validacao_ep_melhor) # curva de aprendizagem de validação para a melhor combinação de hiperparâmetros\n",
    "plt.xlabel(\"Época\")\n",
    "plt.ylabel(\"Entropia cruzada\")\n",
    "plt.title(\"Validação\");"
   ]
  },
  {
   "cell_type": "code",
   "execution_count": 31,
   "metadata": {},
   "outputs": [
    {
     "ename": "NameError",
     "evalue": "name 'alfa_0_melhor' is not defined",
     "output_type": "error",
     "traceback": [
      "\u001b[1;31m---------------------------------------------------------------------------\u001b[0m",
      "\u001b[1;31mNameError\u001b[0m                                 Traceback (most recent call last)",
      "\u001b[1;32m<ipython-input-31-01b61e68fd42>\u001b[0m in \u001b[0;36m<module>\u001b[1;34m\u001b[0m\n\u001b[0;32m      3\u001b[0m \u001b[0mf_ativ_saida\u001b[0m \u001b[1;33m=\u001b[0m \u001b[1;34m'softmax'\u001b[0m \u001b[1;31m# já que se trata de um problema multiclasse\u001b[0m\u001b[1;33m\u001b[0m\u001b[1;33m\u001b[0m\u001b[0m\n\u001b[0;32m      4\u001b[0m \u001b[0mf_custo\u001b[0m \u001b[1;33m=\u001b[0m \u001b[1;34m'entropia'\u001b[0m \u001b[1;31m# já que se trata de um problema de classificação\u001b[0m\u001b[1;33m\u001b[0m\u001b[1;33m\u001b[0m\u001b[0m\n\u001b[1;32m----> 5\u001b[1;33m \u001b[0malfa_0\u001b[0m \u001b[1;33m=\u001b[0m \u001b[0malfa_0_melhor\u001b[0m \u001b[1;31m# taxa de aprendizagem inicial\u001b[0m\u001b[1;33m\u001b[0m\u001b[1;33m\u001b[0m\u001b[0m\n\u001b[0m\u001b[0;32m      6\u001b[0m \u001b[0mn_epocas\u001b[0m \u001b[1;33m=\u001b[0m \u001b[0mn_epocas_melhor\u001b[0m \u001b[1;31m# número de épocas\u001b[0m\u001b[1;33m\u001b[0m\u001b[1;33m\u001b[0m\u001b[0m\n\u001b[0;32m      7\u001b[0m \u001b[0mmomentum\u001b[0m \u001b[1;33m=\u001b[0m \u001b[0mmomentum_melhor\u001b[0m \u001b[1;31m# termo de momentum\u001b[0m\u001b[1;33m\u001b[0m\u001b[1;33m\u001b[0m\u001b[0m\n",
      "\u001b[1;31mNameError\u001b[0m: name 'alfa_0_melhor' is not defined"
     ]
    }
   ],
   "source": [
    "# Hiperparâmetros\n",
    "f_ativ_oculta = 'relu' # já que se trata de um problema de classificação\n",
    "f_ativ_saida = 'softmax' # já que se trata de um problema multiclasse\n",
    "f_custo = 'entropia' # já que se trata de um problema de classificação\n",
    "alfa_0 = alfa_0_melhor # taxa de aprendizagem inicial\n",
    "n_epocas = n_epocas_melhor # número de épocas\n",
    "momentum = momentum_melhor # termo de momentum\n",
    "n_neuronios = n_neuronios_melhor # número de neurônios\n",
    "B = B_melhor # quantidade de padrões utilizados por mini-batch durante o treinamento\n",
    "termo_reg = termo_reg_melhor # termo de regularização\n",
    "\n",
    "# Etapa de treinamento\n",
    "X_retrain = np.r_[X_train, X_validacao[:, 1:]] # juntando dados de treino e validação\n",
    "Y_retrain = np.r_[Y_train, Y_validacao] # juntando dados de treino e validação\n",
    "\n",
    "rede_MLP = MLP_train(X_retrain, Y_retrain, None, None, f_ativ_oculta, f_ativ_saida, f_custo, alfa_0, n_epocas, momentum, n_neuronios, B, termo_reg, validacao = False)\n",
    "(W, M) = (rede_MLP[0], rede_MLP[1]) # matrizes de parâmetros da rede MLP retreinada\n",
    "\n",
    "plt.plot(rede_MLP[2]) # curva de aprendizagem de treino\n",
    "plt.xlabel(\"Iteração\")\n",
    "plt.ylabel(\"Entropia cruzada\")\n",
    "plt.title(\"Treinamento via SGD com momentum\");\n",
    "\n",
    "# Etapa de teste (Generalização)\n",
    "MLP_teste = MLP_1co_direto(X_teste, Y_teste, W, M, f_ativ_oculta, f_ativ_saida, f_custo) # sentido direto da rede MLP aplicado aos dados de teste\n",
    "custo_teste = MLP_teste[3] # custo de teste\n",
    "print(\"Entropia cruzada de teste (normalizado): %.4f\" % custo_teste)"
   ]
  },
  {
   "cell_type": "code",
   "execution_count": 32,
   "metadata": {},
   "outputs": [],
   "source": [
    "def acertos(Y, Y_pred): # retorna o número e a taxa de acertos (acurácia) gerais de classificação\n",
    "  n = Y.shape[0] # quantidade de padrões\n",
    "  n_acertos = 0\n",
    "  for i in range(n):\n",
    "    classe_pred = np.argmax(Y_pred[i,:])\n",
    "    if Y[i, classe_pred] == 1:\n",
    "      n_acertos += 1\n",
    "  p_acertos = n_acertos/n\n",
    "  return n_acertos, p_acertos"
   ]
  },
  {
   "cell_type": "code",
   "execution_count": 33,
   "metadata": {},
   "outputs": [
    {
     "ename": "NameError",
     "evalue": "name 'W' is not defined",
     "output_type": "error",
     "traceback": [
      "\u001b[1;31m---------------------------------------------------------------------------\u001b[0m",
      "\u001b[1;31mNameError\u001b[0m                                 Traceback (most recent call last)",
      "\u001b[1;32m<ipython-input-33-e9ae00e7ba6c>\u001b[0m in \u001b[0;36m<module>\u001b[1;34m\u001b[0m\n\u001b[0;32m      1\u001b[0m \u001b[0mX_train_2\u001b[0m \u001b[1;33m=\u001b[0m \u001b[0mnp\u001b[0m\u001b[1;33m.\u001b[0m\u001b[0mc_\u001b[0m\u001b[1;33m[\u001b[0m\u001b[0mnp\u001b[0m\u001b[1;33m.\u001b[0m\u001b[0mones\u001b[0m\u001b[1;33m(\u001b[0m\u001b[0mn_train\u001b[0m\u001b[1;33m)\u001b[0m\u001b[1;33m,\u001b[0m \u001b[0mX_train\u001b[0m\u001b[1;33m]\u001b[0m \u001b[1;31m# inserindo o termo de viés\u001b[0m\u001b[1;33m\u001b[0m\u001b[1;33m\u001b[0m\u001b[0m\n\u001b[1;32m----> 2\u001b[1;33m \u001b[0mdireto_train\u001b[0m \u001b[1;33m=\u001b[0m \u001b[0mMLP_1co_direto\u001b[0m\u001b[1;33m(\u001b[0m\u001b[0mX_train_2\u001b[0m\u001b[1;33m,\u001b[0m \u001b[0mY_train\u001b[0m\u001b[1;33m,\u001b[0m \u001b[0mW\u001b[0m\u001b[1;33m,\u001b[0m \u001b[0mM\u001b[0m\u001b[1;33m,\u001b[0m \u001b[0mf_ativ_oculta\u001b[0m\u001b[1;33m,\u001b[0m \u001b[0mf_ativ_saida\u001b[0m\u001b[1;33m,\u001b[0m \u001b[0mf_custo\u001b[0m\u001b[1;33m)\u001b[0m \u001b[1;31m# sentido direto da rede MLP aplicado aos dados de treino\u001b[0m\u001b[1;33m\u001b[0m\u001b[1;33m\u001b[0m\u001b[0m\n\u001b[0m\u001b[0;32m      3\u001b[0m \u001b[0mY_pred_train\u001b[0m \u001b[1;33m=\u001b[0m \u001b[0mdireto_train\u001b[0m\u001b[1;33m[\u001b[0m\u001b[1;36m1\u001b[0m\u001b[1;33m]\u001b[0m \u001b[1;31m# valores preditos de treino\u001b[0m\u001b[1;33m\u001b[0m\u001b[1;33m\u001b[0m\u001b[0m\n\u001b[0;32m      4\u001b[0m \u001b[0macertos_train\u001b[0m \u001b[1;33m=\u001b[0m \u001b[0macertos\u001b[0m\u001b[1;33m(\u001b[0m\u001b[0mY_train\u001b[0m\u001b[1;33m,\u001b[0m \u001b[0mY_pred_train\u001b[0m\u001b[1;33m)\u001b[0m \u001b[1;31m# acertos de treino\u001b[0m\u001b[1;33m\u001b[0m\u001b[1;33m\u001b[0m\u001b[0m\n\u001b[0;32m      5\u001b[0m \u001b[0macertos_classe_train\u001b[0m \u001b[1;33m=\u001b[0m \u001b[0macertos_classe\u001b[0m\u001b[1;33m(\u001b[0m\u001b[0mY_train\u001b[0m\u001b[1;33m,\u001b[0m \u001b[0mY_pred_train\u001b[0m\u001b[1;33m)\u001b[0m \u001b[1;31m# acertos de treino por classe\u001b[0m\u001b[1;33m\u001b[0m\u001b[1;33m\u001b[0m\u001b[0m\n",
      "\u001b[1;31mNameError\u001b[0m: name 'W' is not defined"
     ]
    }
   ],
   "source": [
    "X_train_2 = np.c_[np.ones(n_train), X_train] # inserindo o termo de viés\n",
    "direto_train = MLP_1co_direto(X_train_2, Y_train, W, M, f_ativ_oculta, f_ativ_saida, f_custo) # sentido direto da rede MLP aplicado aos dados de treino\n",
    "Y_pred_train = direto_train[1] # valores preditos de treino\n",
    "acertos_train = acertos(Y_train, Y_pred_train) # acertos de treino\n",
    "acertos_classe_train = acertos_classe(Y_train, Y_pred_train) # acertos de treino por classe\n",
    "\n",
    "direto_validacao = MLP_1co_direto(X_validacao, Y_validacao, W, M, f_ativ_oculta, f_ativ_saida, f_custo) # sentido direto da rede MLP aplicado aos dados de validação\n",
    "Y_pred_validacao = direto_validacao[1] # valores preditos de validação\n",
    "acertos_validacao = acertos(Y_validacao, Y_pred_validacao) # acertos de validação\n",
    "acertos_classe_validacao = acertos_classe(Y_validacao, Y_pred_validacao) # acertos de validação por classe\n",
    "\n",
    "direto_teste = MLP_1co_direto(X_teste, Y_teste, W, M, f_ativ_oculta, f_ativ_saida, f_custo) # sentido direto da rede MLP aplicado aos dados de teste\n",
    "Y_pred_teste = direto_teste[1] # valores preditos de teste\n",
    "acertos_teste = acertos(Y_teste, Y_pred_teste) # acertos de teste\n",
    "acertos_classe_teste = acertos_classe(Y_teste, Y_pred_teste) # acertos de teste por classe\n",
    "\n",
    "print(\"Acurácia de treino, validação e teste: %.2f%%, %.2f%% e %.2f%%\" % (100*acertos_treino[1], 100*acertos_validacao[1], 100*acertos_teste[1]))"
   ]
  },
  {
   "cell_type": "code",
   "execution_count": null,
   "metadata": {},
   "outputs": [],
   "source": []
  }
 ],
 "metadata": {
  "kernelspec": {
   "display_name": "Python 3",
   "language": "python",
   "name": "python3"
  },
  "language_info": {
   "codemirror_mode": {
    "name": "ipython",
    "version": 3
   },
   "file_extension": ".py",
   "mimetype": "text/x-python",
   "name": "python",
   "nbconvert_exporter": "python",
   "pygments_lexer": "ipython3",
   "version": "3.8.3"
  }
 },
 "nbformat": 4,
 "nbformat_minor": 4
}
