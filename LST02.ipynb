{
 "cells": [
  {
   "cell_type": "code",
   "execution_count": 1,
   "id": "f1c07aed",
   "metadata": {},
   "outputs": [],
   "source": [
    "import numpy as np\n",
    "import pandas as pd\n",
    "import matplotlib.pyplot as plt"
   ]
  },
  {
   "cell_type": "code",
   "execution_count": 2,
   "id": "a8577142",
   "metadata": {},
   "outputs": [],
   "source": [
    "from sklearn.datasets import load_breast_cancer\n",
    "X, y = load_breast_cancer(return_X_y=True)"
   ]
  },
  {
   "cell_type": "code",
   "execution_count": 3,
   "id": "dcdd2f32",
   "metadata": {},
   "outputs": [],
   "source": [
    "def divTrainTest(X, y, size = 0.30):\n",
    " randomi = np.random.permutation(len(y))\n",
    " limiar = int(len(y) * size)\n",
    " X_test = X[randomi][0:limiar]\n",
    " X_train = X[randomi][limiar:]\n",
    " y_test = y[randomi][0:limiar]\n",
    " y_train = y[randomi][limiar:]\n",
    " return X_train, X_test, y_train, y_test"
   ]
  },
  {
   "cell_type": "code",
   "execution_count": 4,
   "id": "c4270848",
   "metadata": {},
   "outputs": [],
   "source": [
    "#Divisão de treino e teste\n",
    "X_train, X_test, y_train, y_test = divTrainTest(X, y, size = 0.30)"
   ]
  },
  {
   "cell_type": "code",
   "execution_count": 5,
   "id": "27da36e6",
   "metadata": {},
   "outputs": [],
   "source": [
    "class xscale():\n",
    " def __init__(self):\n",
    "  self.mean = None\n",
    "  self.dp = None\n",
    " def fit(self, data):\n",
    "  self.mean = data.mean(axis=0)\n",
    "  self.dp = data.std(axis=0)\n",
    " def transform(self, data):\n",
    "  return (data - self.mean) / self.dp\n",
    "\n",
    " def inversa(self, data):\n",
    "  return (data * self.dp) + self.mean"
   ]
  },
  {
   "cell_type": "code",
   "execution_count": 6,
   "id": "3e5a2519",
   "metadata": {},
   "outputs": [],
   "source": [
    "schedr_X = xscale()\n",
    "schedr_X.fit(X_train)\n",
    "X_train_sched = schedr_X.transform(X_train)\n",
    "X_test_sched = schedr_X.transform(X_test)"
   ]
  },
  {
   "cell_type": "markdown",
   "id": "04a40bd2",
   "metadata": {},
   "source": [
    "### Metricas de avaliação de modelo"
   ]
  },
  {
   "cell_type": "code",
   "execution_count": 7,
   "id": "afbf7825",
   "metadata": {},
   "outputs": [],
   "source": [
    "#FUNÇÃO DE ACURACIA\n",
    "def ACC(y_true, y_pred):\n",
    " acc = (y_true == y_pred).sum()/len(y_pred)\n",
    " return acc"
   ]
  },
  {
   "cell_type": "code",
   "execution_count": 8,
   "id": "45fbed36",
   "metadata": {},
   "outputs": [],
   "source": [
    "#FUNÇÃO DE REVOCAÇÃO\n",
    "def REV(tp, fn):\n",
    " rev = tp / (tp + fn)\n",
    " return rev"
   ]
  },
  {
   "cell_type": "code",
   "execution_count": 9,
   "id": "f1b3b593",
   "metadata": {},
   "outputs": [],
   "source": [
    "#FUNÇÃO DE PRECISÃO\n",
    "def PRE(tp, fp):\n",
    " pre = tp / (tp + fp)\n",
    " return pre"
   ]
  },
  {
   "cell_type": "code",
   "execution_count": 10,
   "id": "c6eb1a9a",
   "metadata": {},
   "outputs": [],
   "source": [
    "#FUNÇÃO PARA O F1 SCORE\n",
    "def FUSCORE(pre, rev):\n",
    " fuscore = (2 * pre * rev) / (pre + rev)\n",
    " return fuscore"
   ]
  },
  {
   "cell_type": "markdown",
   "id": "035ea3c0",
   "metadata": {},
   "source": [
    "### Regressão logística"
   ]
  },
  {
   "cell_type": "code",
   "execution_count": 11,
   "id": "fea38fbe",
   "metadata": {},
   "outputs": [],
   "source": [
    "#REGRESSÃO LOGISTICA COM GD\n",
    "class LogisticRegression():\n",
    "    def __init__(self, t=1000, alpha=0.005):\n",
    "        self.w = None\n",
    "        self.t = t\n",
    "        self.alpha = 0.01\n",
    "    def fit(self, X, y):\n",
    "        X = np.c_[np.ones(X.shape[0]), X]\n",
    "        self.w = np.random.rand(X.shape[1]) * 0.9\n",
    "        for epoch in range(self.t):\n",
    "            pred = X @ self.w\n",
    "            y_pred = 1/(1+np.exp(-pred))\n",
    "            err = y - y_pred\n",
    "            cost =  np.mean(-y * np.log(y_pred) - (1-y) * np.log(1 - y_pred))\n",
    "            self.w = self.w +  self.alpha * (X.T @ err)/len(y)\n",
    "\n",
    "    def predict(self, X):\n",
    "        X = np.c_[np.ones(X.shape[0]), X]\n",
    "        y_pred = 1.0/(1+np.exp(-X @ self.w))\n",
    "        return np.where( y_pred > 0.5, 1, 0 )"
   ]
  },
  {
   "cell_type": "code",
   "execution_count": 12,
   "id": "ca0e60dd",
   "metadata": {},
   "outputs": [],
   "source": [
    "#TESTE DA FUNÇÃO\n",
    "RegL = LogisticRegression(t= 1000)\n",
    "RegL.fit(X_train_sched, y_train)\n",
    "y_pred = RegL.predict(X_test_sched)"
   ]
  },
  {
   "cell_type": "code",
   "execution_count": 13,
   "id": "ccd3fb1e",
   "metadata": {},
   "outputs": [],
   "source": [
    "from sklearn.metrics import confusion_matrix"
   ]
  },
  {
   "cell_type": "code",
   "execution_count": 14,
   "id": "699f94a1",
   "metadata": {},
   "outputs": [],
   "source": [
    "def matrix_confusao(y_test, y_pred):\n",
    "    tn, fp, fn, tp = confusion_matrix(y_test, y_pred).ravel()\n",
    "    return np.array([[tp, fp],[fn, tn]])"
   ]
  },
  {
   "cell_type": "code",
   "execution_count": 15,
   "id": "9f7a2c21",
   "metadata": {},
   "outputs": [
    {
     "name": "stdout",
     "output_type": "stream",
     "text": [
      "[[112   2]\n",
      " [  1  55]]\n"
     ]
    }
   ],
   "source": [
    "#MATRIZ DE CONFUSÃO\n",
    "print(matrix_confusao(y_test,y_pred))"
   ]
  },
  {
   "cell_type": "code",
   "execution_count": 16,
   "id": "4afabdab",
   "metadata": {
    "scrolled": true
   },
   "outputs": [
    {
     "name": "stdout",
     "output_type": "stream",
     "text": [
      "A acuracia do modelo é: 0.9823529411764705 \n",
      "A revocação do modelo é: 0.9911504424778761 \n",
      "A precisao do modelo é: 0.9824561403508771 \n",
      "A f1 score do modelo é: 0.9867841409691629 \n"
     ]
    }
   ],
   "source": [
    "acuracia = (ACC(y_test,y_pred))\n",
    "revocacao = (REV(matrix_confusao(y_test,y_pred)[0,0],matrix_confusao(y_test,y_pred)[1,0]))\n",
    "precisao = (PRE(matrix_confusao(y_test,y_pred)[0,0],matrix_confusao(y_test,y_pred)[0,1]))\n",
    "f1score = (FUSCORE(precisao, revocacao))\n",
    "\n",
    "print(\"A acuracia do modelo é: {} \".format(acuracia))\n",
    "print(\"A revocação do modelo é: {} \".format(revocacao))\n",
    "print(\"A precisao do modelo é: {} \".format(precisao))\n",
    "print(\"A f1 score do modelo é: {} \".format(f1score))"
   ]
  },
  {
   "cell_type": "markdown",
   "id": "06d0fca2",
   "metadata": {},
   "source": [
    "### Análise do discriminante Gaussiano"
   ]
  },
  {
   "cell_type": "code",
   "execution_count": 17,
   "id": "57c978f4",
   "metadata": {},
   "outputs": [],
   "source": [
    "class GaussianDA():\n",
    "    \n",
    "    def fit(self, X, y):\n",
    "        self.fi = y.mean()\n",
    "        self.u = np.array([ X[y==k].mean(axis=0) for k in [0,1]])\n",
    "        X_u = X.copy()\n",
    "        for k in [0,1]: X_u[y==k] -= self.u[k]\n",
    "        self.E = X_u.T.dot(X_u) / len(y)\n",
    "        self.invE = np.linalg.pinv(self.E)\n",
    "        return self\n",
    "    \n",
    "    def predict(self, X):\n",
    "        return np.argmax([self.compute_prob(X, i) for i in range(len(self.u))], axis=0)\n",
    "    \n",
    "    def compute_prob(self, X, i):\n",
    "        u, phi = self.u[i], ((self.fi)**i * (1 - self.fi)**(1 - i))\n",
    "        return np.exp(-1.0 * np.sum((X-u).dot(self.invE)*(X-u), axis=1)) * phi\n",
    "    \n",
    "    def score(self, X, y):\n",
    "        return (self.predict(X) == y).mean()"
   ]
  },
  {
   "cell_type": "code",
   "execution_count": 18,
   "id": "5f5d10ef",
   "metadata": {},
   "outputs": [],
   "source": [
    "gaussianda = GaussianDA()\n",
    "gaussianda.fit(X_train_sched, y_train)\n",
    "y_pred = gaussianda.predict(X_test_sched)"
   ]
  },
  {
   "cell_type": "code",
   "execution_count": 19,
   "id": "4ef334c1",
   "metadata": {},
   "outputs": [],
   "source": [
    "def matrix_confusao(y_test, y_pred):\n",
    "    tn, fp, fn, tp = confusion_matrix(y_test, y_pred).ravel()\n",
    "    return np.array([[tp, fp],[fn, tn]])"
   ]
  },
  {
   "cell_type": "code",
   "execution_count": 20,
   "id": "23ca77f0",
   "metadata": {},
   "outputs": [
    {
     "name": "stdout",
     "output_type": "stream",
     "text": [
      "[[113   9]\n",
      " [  0  48]]\n"
     ]
    }
   ],
   "source": [
    "#MATRIZ DE CONFUSÃO\n",
    "print(matrix_confusao(y_test,y_pred))"
   ]
  },
  {
   "cell_type": "code",
   "execution_count": 21,
   "id": "b15a1a0b",
   "metadata": {},
   "outputs": [
    {
     "name": "stdout",
     "output_type": "stream",
     "text": [
      "A acuracia do modelo é: 0.9470588235294117 \n",
      "A revocação do modelo é: 1.0 \n",
      "A precisao do modelo é: 0.9262295081967213 \n",
      "A f1 score do modelo é: 0.9617021276595745 \n"
     ]
    }
   ],
   "source": [
    "acuracia = (ACC(y_test,y_pred))\n",
    "revocacao = (REV(matrix_confusao(y_test,y_pred)[0,0],matrix_confusao(y_test,y_pred)[1,0]))\n",
    "precisao = (PRE(matrix_confusao(y_test,y_pred)[0,0],matrix_confusao(y_test,y_pred)[0,1]))\n",
    "f1score = (FUSCORE(precisao, revocacao))\n",
    "\n",
    "print(\"A acuracia do modelo é: {} \".format(acuracia))\n",
    "print(\"A revocação do modelo é: {} \".format(revocacao))\n",
    "print(\"A precisao do modelo é: {} \".format(precisao))\n",
    "print(\"A f1 score do modelo é: {} \".format(f1score))"
   ]
  },
  {
   "cell_type": "markdown",
   "id": "d0a5f930",
   "metadata": {},
   "source": [
    "### Naive Bayes Gaussiano"
   ]
  },
  {
   "cell_type": "code",
   "execution_count": 22,
   "id": "adb9d631",
   "metadata": {},
   "outputs": [],
   "source": [
    "class GaussianNBayes():\n",
    "    def __init__(self, priors=None):\n",
    "        self.priors = priors\n",
    "        self.theta_ = 0.0\n",
    "        self.sigma_ = 0.0\n",
    "\n",
    "    def fit(self, x, y):\n",
    "        classes, counts = np.unique(y, return_counts=True)\n",
    "        self.priors = counts / counts.sum() if self.priors is None else self.priors\n",
    "\n",
    "        self.theta_ = np.array([np.mean(x[y == c], axis=0) for c in classes])\n",
    "        self.sigma_ = np.array([np.var(x[y == c], axis=0) for c in classes])\n",
    "\n",
    "    def predict(self, x):\n",
    "        return np.argmax(self.predict_proba(x), axis=1)\n",
    "\n",
    "    def predict_proba(self, x):\n",
    "        y_pred = []\n",
    "        for sample in x:\n",
    "            joint_prob = self.__joint_prob(sample)\n",
    "            posterior_prob = self.__posterior_prob(joint_prob)\n",
    "            y_pred.append(posterior_prob)\n",
    "        return np.array(y_pred)\n",
    "\n",
    "    def __normal_pdf(self, x, mean_c, var_c):\n",
    "        exponent = ((x - mean_c)**2) / (2 * var_c)\n",
    "        f = (1.0 / np.sqrt(2.0 * np.pi * var_c)) * np.exp(-exponent)\n",
    "        return np.prod(f)\n",
    "\n",
    "    def __joint_prob(self, x):\n",
    "        joint_prob = []\n",
    "        for p, t, s in zip(self.priors, self.theta_, self.sigma_):\n",
    "            joint_prob.append(p * self.__normal_pdf(x, t, s))\n",
    "        return joint_prob\n",
    "\n",
    "    def __posterior_prob(self, joint_prob):\n",
    "        marginal_prob = np.sum(joint_prob)\n",
    "        return joint_prob / marginal_prob"
   ]
  },
  {
   "cell_type": "code",
   "execution_count": 23,
   "id": "ab00fe66",
   "metadata": {},
   "outputs": [],
   "source": [
    "naivebg = GaussianNBayes()\n",
    "naivebg.fit(X_train_sched, y_train)\n",
    "y_pred = naivebg.predict(X_test_sched)"
   ]
  },
  {
   "cell_type": "code",
   "execution_count": 24,
   "id": "91c83175",
   "metadata": {},
   "outputs": [],
   "source": [
    "def matrix_confusao(y_test, y_pred):\n",
    "    tn, fp, fn, tp = confusion_matrix(y_test, y_pred).ravel()\n",
    "    return np.array([[tp, fp],[fn, tn]])"
   ]
  },
  {
   "cell_type": "code",
   "execution_count": 25,
   "id": "4fc9bbec",
   "metadata": {},
   "outputs": [
    {
     "name": "stdout",
     "output_type": "stream",
     "text": [
      "[[109   6]\n",
      " [  4  51]]\n"
     ]
    }
   ],
   "source": [
    "#MATRIZ DE CONFUSÃO\n",
    "print(matrix_confusao(y_test,y_pred))"
   ]
  },
  {
   "cell_type": "code",
   "execution_count": 26,
   "id": "5900d060",
   "metadata": {
    "scrolled": true
   },
   "outputs": [
    {
     "name": "stdout",
     "output_type": "stream",
     "text": [
      "A acuracia do modelo é: 0.9411764705882353 \n",
      "A revocação do modelo é: 0.9646017699115044 \n",
      "A precisao do modelo é: 0.9478260869565217 \n",
      "A f1 score do modelo é: 0.956140350877193 \n"
     ]
    }
   ],
   "source": [
    "acuracia = (ACC(y_test,y_pred))\n",
    "revocacao = (REV(matrix_confusao(y_test,y_pred)[0,0],matrix_confusao(y_test,y_pred)[1,0]))\n",
    "precisao = (PRE(matrix_confusao(y_test,y_pred)[0,0],matrix_confusao(y_test,y_pred)[0,1]))\n",
    "f1score = (FUSCORE(precisao, revocacao))\n",
    "\n",
    "print(\"A acuracia do modelo é: {} \".format(acuracia))\n",
    "print(\"A revocação do modelo é: {} \".format(revocacao))\n",
    "print(\"A precisao do modelo é: {} \".format(precisao))\n",
    "print(\"A f1 score do modelo é: {} \".format(f1score))"
   ]
  },
  {
   "cell_type": "markdown",
   "id": "e983012c",
   "metadata": {},
   "source": [
    "### K-Nearest Neighbors (KNN)"
   ]
  },
  {
   "cell_type": "code",
   "execution_count": 27,
   "id": "a3c98a6c",
   "metadata": {},
   "outputs": [],
   "source": [
    "class KNearestN():\n",
    "    \n",
    "    def __init__(self):\n",
    "        self.K = None\n",
    "        self.X_train = None\n",
    "\n",
    "    def fit(self, X_train, y_train):\n",
    "        self.X_train = X_train\n",
    "        self.y_train = y_train\n",
    "\n",
    "    def predict(self, X, K=1):\n",
    "        self.K = K\n",
    "        classes = np.unique(self.y_train)\n",
    "        y_pred = []\n",
    "        \n",
    "        for xi in X:\n",
    "            euclidian = -2 * xi @ self.X_train.T + (xi**2).sum() + (self.X_train**2).sum(axis=1)\n",
    "            knn_index = np.argsort(euclidian)[0:K]\n",
    "            score = []\n",
    "            for classe in classes:\n",
    "                score.append((self.y_train[knn_index]==classe).sum())\n",
    "\n",
    "            score = np.array(score)\n",
    "            pred_index = np.argmax(score)    \n",
    "            y_pred.append(classes[pred_index])\n",
    "\n",
    "        return np.array(y_pred)"
   ]
  },
  {
   "cell_type": "code",
   "execution_count": 28,
   "id": "344c85bb",
   "metadata": {},
   "outputs": [],
   "source": [
    "knn = KNearestN()\n",
    "knn.fit(X_train_sched, y_train)\n",
    "y_pred = knn.predict(X_test_sched, K=3)"
   ]
  },
  {
   "cell_type": "code",
   "execution_count": 29,
   "id": "271f6039",
   "metadata": {},
   "outputs": [],
   "source": [
    "def matrix_confusao(y_test, y_pred):\n",
    "    tn, fp, fn, tp = confusion_matrix(y_test, y_pred).ravel()\n",
    "    return np.array([[tp, fp],[fn, tn]])"
   ]
  },
  {
   "cell_type": "code",
   "execution_count": 30,
   "id": "f0d1eadc",
   "metadata": {},
   "outputs": [
    {
     "name": "stdout",
     "output_type": "stream",
     "text": [
      "[[113   5]\n",
      " [  0  52]]\n"
     ]
    }
   ],
   "source": [
    "#MATRIZ DE CONFUSÃO\n",
    "print(matrix_confusao(y_test,y_pred))"
   ]
  },
  {
   "cell_type": "code",
   "execution_count": 31,
   "id": "0ce24292",
   "metadata": {
    "scrolled": true
   },
   "outputs": [
    {
     "name": "stdout",
     "output_type": "stream",
     "text": [
      "A acuracia do modelo é: 0.9705882352941176 \n",
      "A revocação do modelo é: 1.0 \n",
      "A precisao do modelo é: 0.9576271186440678 \n",
      "A f1 score do modelo é: 0.9783549783549783 \n"
     ]
    }
   ],
   "source": [
    "acuracia = (ACC(y_test,y_pred))\n",
    "revocacao = (REV(matrix_confusao(y_test,y_pred)[0,0],matrix_confusao(y_test,y_pred)[1,0]))\n",
    "precisao = (PRE(matrix_confusao(y_test,y_pred)[0,0],matrix_confusao(y_test,y_pred)[0,1]))\n",
    "f1score = (FUSCORE(precisao, revocacao))\n",
    "\n",
    "print(\"A acuracia do modelo é: {} \".format(acuracia))\n",
    "print(\"A revocação do modelo é: {} \".format(revocacao))\n",
    "print(\"A precisao do modelo é: {} \".format(precisao))\n",
    "print(\"A f1 score do modelo é: {} \".format(f1score))"
   ]
  },
  {
   "cell_type": "markdown",
   "id": "7d948681",
   "metadata": {},
   "source": [
    "### Árvore de decisão"
   ]
  },
  {
   "cell_type": "code",
   "execution_count": 32,
   "id": "f99ffc90",
   "metadata": {},
   "outputs": [],
   "source": [
    "from sklearn.tree import DecisionTreeClassifier"
   ]
  },
  {
   "cell_type": "code",
   "execution_count": 33,
   "id": "662c1d03",
   "metadata": {},
   "outputs": [],
   "source": [
    "classifier = DecisionTreeClassifier(criterion='gini')\n",
    "classifier.fit(X_train, y_train)\n",
    "y_pred = classifier.predict(X_test)"
   ]
  },
  {
   "cell_type": "code",
   "execution_count": 34,
   "id": "7b192cc9",
   "metadata": {},
   "outputs": [],
   "source": [
    "def matrix_confusao(y_test, y_pred):\n",
    "    tn, fp, fn, tp = confusion_matrix(y_test, y_pred).ravel()\n",
    "    return np.array([[tp, fp],[fn, tn]])"
   ]
  },
  {
   "cell_type": "code",
   "execution_count": 35,
   "id": "f88bb644",
   "metadata": {},
   "outputs": [
    {
     "name": "stdout",
     "output_type": "stream",
     "text": [
      "[[107   8]\n",
      " [  6  49]]\n"
     ]
    }
   ],
   "source": [
    "#MATRIZ DE CONFUSÃO\n",
    "print(matrix_confusao(y_test,y_pred))"
   ]
  },
  {
   "cell_type": "code",
   "execution_count": 36,
   "id": "77def345",
   "metadata": {},
   "outputs": [
    {
     "name": "stdout",
     "output_type": "stream",
     "text": [
      "A acuracia do modelo é: 0.9176470588235294 \n",
      "A revocação do modelo é: 0.9469026548672567 \n",
      "A precisao do modelo é: 0.9304347826086956 \n",
      "A f1 score do modelo é: 0.9385964912280702 \n"
     ]
    }
   ],
   "source": [
    "acuracia = (ACC(y_test,y_pred))\n",
    "revocacao = (REV(matrix_confusao(y_test,y_pred)[0,0],matrix_confusao(y_test,y_pred)[1,0]))\n",
    "precisao = (PRE(matrix_confusao(y_test,y_pred)[0,0],matrix_confusao(y_test,y_pred)[0,1]))\n",
    "f1score = (FUSCORE(precisao, revocacao))\n",
    "\n",
    "print(\"A acuracia do modelo é: {} \".format(acuracia))\n",
    "print(\"A revocação do modelo é: {} \".format(revocacao))\n",
    "print(\"A precisao do modelo é: {} \".format(precisao))\n",
    "print(\"A f1 score do modelo é: {} \".format(f1score))"
   ]
  },
  {
   "cell_type": "code",
   "execution_count": null,
   "id": "64bc1581",
   "metadata": {},
   "outputs": [],
   "source": []
  }
 ],
 "metadata": {
  "kernelspec": {
   "display_name": "Python 3",
   "language": "python",
   "name": "python3"
  },
  "language_info": {
   "codemirror_mode": {
    "name": "ipython",
    "version": 3
   },
   "file_extension": ".py",
   "mimetype": "text/x-python",
   "name": "python",
   "nbconvert_exporter": "python",
   "pygments_lexer": "ipython3",
   "version": "3.8.3"
  }
 },
 "nbformat": 4,
 "nbformat_minor": 5
}
