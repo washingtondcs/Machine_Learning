{
 "cells": [
  {
   "cell_type": "code",
   "execution_count": 1,
   "id": "b102ec50",
   "metadata": {},
   "outputs": [],
   "source": [
    "import numpy as np\n",
    "import pandas as pd\n",
    "import matplotlib.pyplot as plt\n",
    "\n",
    "from sklearn.svm import SVC\n",
    "from sklearn.ensemble import RandomForestClassifier\n",
    "from sklearn.metrics import accuracy_score\n",
    "from sklearn.metrics import recall_score\n",
    "from sklearn.metrics import f1_score\n",
    "from sklearn.metrics import precision_score\n",
    "from sklearn.metrics import plot_roc_curve\n",
    "from sklearn.metrics import plot_precision_recall_curve\n",
    "from sklearn.model_selection import GridSearchCV\n",
    "\n",
    "np.random.seed(42)"
   ]
  },
  {
   "cell_type": "code",
   "execution_count": 2,
   "id": "80485be6",
   "metadata": {},
   "outputs": [],
   "source": [
    "dataset = np.genfromtxt('./Dados/bostonbin.csv', delimiter=',')"
   ]
  },
  {
   "cell_type": "code",
   "execution_count": 3,
   "id": "77ac09ed",
   "metadata": {},
   "outputs": [],
   "source": [
    "X = dataset[:, 0:17]\n",
    "y = dataset[:, -1]"
   ]
  },
  {
   "cell_type": "code",
   "execution_count": 4,
   "id": "123d8e7c",
   "metadata": {},
   "outputs": [],
   "source": [
    "class xscale():\n",
    " def __init__(self):\n",
    "  self.mean = None\n",
    "  self.dp = None\n",
    " def fit(self, data):\n",
    "  self.mean = data.mean(axis=0)\n",
    "  self.dp = data.std(axis=0)\n",
    " def transform(self, data):\n",
    "  return (data - self.mean) / self.dp\n",
    "\n",
    " def inversa(self, data):\n",
    "  return (data * self.dp) + self.mean"
   ]
  },
  {
   "cell_type": "code",
   "execution_count": 5,
   "id": "7cbc00f8",
   "metadata": {},
   "outputs": [],
   "source": [
    "def divTrainTest(X, y, size = 0.30):\n",
    " randomi = np.random.permutation(len(y))\n",
    " limiar = int(len(y) * size)\n",
    " X_test = X[randomi][0:limiar]\n",
    " X_train = X[randomi][limiar:]\n",
    " y_test = y[randomi][0:limiar]\n",
    " y_train = y[randomi][limiar:]\n",
    " return X_train, X_test, y_train, y_test"
   ]
  },
  {
   "cell_type": "markdown",
   "id": "087f7e8a",
   "metadata": {},
   "source": [
    "## Questão1 - Support Vector Machine (SVM)"
   ]
  },
  {
   "cell_type": "code",
   "execution_count": 6,
   "id": "39310503",
   "metadata": {},
   "outputs": [],
   "source": [
    "#Divisão de treino e teste\n",
    "X_train, X_test, y_train, y_test = divTrainTest(X, y, size = 0.30)"
   ]
  },
  {
   "cell_type": "code",
   "execution_count": 7,
   "id": "032f6800",
   "metadata": {},
   "outputs": [],
   "source": [
    "schedr_X = xscale()\n",
    "schedr_X.fit(X_train)\n",
    "X_train_sched = schedr_X.transform(X_train)\n",
    "X_test_sched = schedr_X.transform(X_test)"
   ]
  },
  {
   "cell_type": "code",
   "execution_count": 8,
   "id": "ff8cc46c",
   "metadata": {},
   "outputs": [],
   "source": [
    "# Grid-search para ajustar os hiperparâmetros\n",
    "C = [2**-5,2**-3,2**-1,2,2**2,2**4,2**6,2**8,2**10,2**12,2**14,2**16]\n",
    "gamma = [2**-15,2**-13,2**-11,2**-9,2**-7,2**-5,2**-3,2**-1,2,2**2,2**4]\n",
    "\n",
    "svmGrid = {\n",
    "    'C':C,\n",
    "    'gamma': gamma\n",
    "}"
   ]
  },
  {
   "cell_type": "code",
   "execution_count": 9,
   "id": "25e0f3b7",
   "metadata": {},
   "outputs": [],
   "source": [
    "svm = SVC(kernel='rbf')"
   ]
  },
  {
   "cell_type": "code",
   "execution_count": 10,
   "id": "22fdcbd1",
   "metadata": {},
   "outputs": [],
   "source": [
    "gscv = GridSearchCV(svm, svmGrid, cv=10)\n",
    "gscv.fit(X_train_sched, y_train)\n",
    "y_pred_svm = gscv.best_estimator_.predict(X_test_sched)"
   ]
  },
  {
   "cell_type": "code",
   "execution_count": 11,
   "id": "27df2a0b",
   "metadata": {},
   "outputs": [
    {
     "data": {
      "text/plain": [
       "{'C': 4, 'gamma': 0.03125}"
      ]
     },
     "execution_count": 11,
     "metadata": {},
     "output_type": "execute_result"
    }
   ],
   "source": [
    "gscv.best_params_"
   ]
  },
  {
   "cell_type": "markdown",
   "id": "85c51563",
   "metadata": {},
   "source": [
    "### Métricas da avaliação do modelo no treino"
   ]
  },
  {
   "cell_type": "code",
   "execution_count": 12,
   "id": "8bd95795",
   "metadata": {},
   "outputs": [
    {
     "name": "stdout",
     "output_type": "stream",
     "text": [
      "A acurácia do modelo é de: 0.9154929577464789 \n",
      "A revocacão do modelo é de: 0.9356435643564357\n",
      "O f1_score do modelo é de: 0.926470588235294\n",
      "A precisão do modelo é de: 0.9174757281553398\n"
     ]
    }
   ],
   "source": [
    "y_pred_svm_train = gscv.best_estimator_.predict(X_train_sched)\n",
    "\n",
    "acc = accuracy_score(y_train, y_pred_svm_train)\n",
    "revocacao = recall_score(y_train, y_pred_svm_train)\n",
    "f1 = f1_score(y_train, y_pred_svm_train)\n",
    "precisao = precision_score(y_train, y_pred_svm_train)\n",
    "\n",
    "print(\"A acurácia do modelo é de: {} \".format(acc))\n",
    "print(\"A revocacão do modelo é de: {}\".format(revocacao))\n",
    "print(\"O f1_score do modelo é de: {}\".format(f1))\n",
    "print(\"A precisão do modelo é de: {}\".format(precisao))"
   ]
  },
  {
   "cell_type": "markdown",
   "id": "8848825b",
   "metadata": {},
   "source": [
    "### Métricas da avaliação do modelo no teste"
   ]
  },
  {
   "cell_type": "code",
   "execution_count": 13,
   "id": "ed2d4d99",
   "metadata": {},
   "outputs": [
    {
     "name": "stdout",
     "output_type": "stream",
     "text": [
      "A acurácia do modelo é de: 0.8675496688741722 \n",
      "A revocacão do modelo é de: 0.8641975308641975\n",
      "O f1_score do modelo é de: 0.8749999999999999\n",
      "A precisão do modelo é de: 0.8860759493670886\n"
     ]
    }
   ],
   "source": [
    "acc = accuracy_score(y_test, y_pred_svm)\n",
    "revocacao = recall_score(y_test, y_pred_svm)\n",
    "f1 = f1_score(y_test, y_pred_svm)\n",
    "precisao = precision_score(y_test, y_pred_svm)\n",
    "\n",
    "print(\"A acurácia do modelo é de: {} \".format(acc))\n",
    "print(\"A revocacão do modelo é de: {}\".format(revocacao))\n",
    "print(\"O f1_score do modelo é de: {}\".format(f1))\n",
    "print(\"A precisão do modelo é de: {}\".format(precisao))"
   ]
  },
  {
   "cell_type": "code",
   "execution_count": 14,
   "id": "173972d3",
   "metadata": {},
   "outputs": [
    {
     "data": {
      "image/png": "[encoded data removed]",
      "text/plain": [
       "<Figure size 432x288 with 1 Axes>"
      ]
     },
     "metadata": {
      "needs_background": "light"
     },
     "output_type": "display_data"
    }
   ],
   "source": [
    "plot_roc_curve(gscv.best_estimator_, X_test_sched, y_test)\n",
    "plt.title(\"Curva ROC modelo otimizado\")\n",
    "plt.show()"
   ]
  },
  {
   "cell_type": "code",
   "execution_count": 15,
   "id": "bb377372",
   "metadata": {},
   "outputs": [
    {
     "data": {
      "image/png": "[encoded data removed]",
      "text/plain": [
       "<Figure size 432x288 with 1 Axes>"
      ]
     },
     "metadata": {
      "needs_background": "light"
     },
     "output_type": "display_data"
    }
   ],
   "source": [
    "plot_precision_recall_curve(gscv.best_estimator_, X_test_sched, y_test)\n",
    "plt.title(\"Curva Precision-Recall modelo otimizado\")\n",
    "plt.show()"
   ]
  },
  {
   "cell_type": "markdown",
   "id": "2fcaea7b",
   "metadata": {},
   "source": [
    "## Questão3 - Random Forest"
   ]
  },
  {
   "cell_type": "code",
   "execution_count": 16,
   "id": "d6f8fed6",
   "metadata": {},
   "outputs": [],
   "source": [
    "classifiers = [10,20,30,40,50,60,70,80,90,100,110,120,130,140,150,160,170,180,190,200]\n",
    "maxDepth = [2,4,6,8,None]\n",
    "\n",
    "rfcGrid = {\n",
    "    'n_estimators':classifiers,\n",
    "    'max_depth': maxDepth\n",
    "}"
   ]
  },
  {
   "cell_type": "code",
   "execution_count": 17,
   "id": "e752f159",
   "metadata": {},
   "outputs": [],
   "source": [
    "rfc  = RandomForestClassifier()"
   ]
  },
  {
   "cell_type": "code",
   "execution_count": 18,
   "id": "b8112227",
   "metadata": {},
   "outputs": [],
   "source": [
    "gscv_rfc = GridSearchCV(rfc, rfcGrid, cv=10)\n",
    "gscv_rfc.fit(X_train, y_train)\n",
    "y_pred_rfc = gscv_rfc.best_estimator_.predict(X_test)"
   ]
  },
  {
   "cell_type": "code",
   "execution_count": 19,
   "id": "99516646",
   "metadata": {},
   "outputs": [
    {
     "data": {
      "text/plain": [
       "{'max_depth': None, 'n_estimators': 10}"
      ]
     },
     "execution_count": 19,
     "metadata": {},
     "output_type": "execute_result"
    }
   ],
   "source": [
    "gscv_rfc.best_params_"
   ]
  },
  {
   "cell_type": "markdown",
   "id": "645eafc4",
   "metadata": {},
   "source": [
    "### Métricas da avaliação do modelo no treino"
   ]
  },
  {
   "cell_type": "code",
   "execution_count": 20,
   "id": "78f03854",
   "metadata": {},
   "outputs": [
    {
     "name": "stdout",
     "output_type": "stream",
     "text": [
      "A acurácia do modelo é de: 0.9859154929577465 \n",
      "A revocacão do modelo é de: 0.9801980198019802\n",
      "O f1_score do modelo é de: 0.9875311720698253\n",
      "A precisão do modelo é de: 0.9949748743718593\n"
     ]
    }
   ],
   "source": [
    "y_pred_rfc_train = gscv_rfc.best_estimator_.predict(X_train)\n",
    "\n",
    "acc = accuracy_score(y_train, y_pred_rfc_train)\n",
    "revocacao = recall_score(y_train, y_pred_rfc_train)\n",
    "f1 = f1_score(y_train, y_pred_rfc_train)\n",
    "precisao = precision_score(y_train, y_pred_rfc_train)\n",
    "\n",
    "print(\"A acurácia do modelo é de: {} \".format(acc))\n",
    "print(\"A revocacão do modelo é de: {}\".format(revocacao))\n",
    "print(\"O f1_score do modelo é de: {}\".format(f1))\n",
    "print(\"A precisão do modelo é de: {}\".format(precisao))"
   ]
  },
  {
   "cell_type": "markdown",
   "id": "deb25bba",
   "metadata": {},
   "source": [
    "### Métricas da avaliação do modelo no teste"
   ]
  },
  {
   "cell_type": "code",
   "execution_count": 21,
   "id": "cb1610cc",
   "metadata": {},
   "outputs": [
    {
     "name": "stdout",
     "output_type": "stream",
     "text": [
      "A acurácia do modelo é de: 0.8675496688741722 \n",
      "A revocacão do modelo é de: 0.8271604938271605\n",
      "O f1_score do modelo é de: 0.8701298701298701\n",
      "A precisão do modelo é de: 0.9178082191780822\n"
     ]
    }
   ],
   "source": [
    "y_pred_rfc_test = gscv_rfc.best_estimator_.predict(X_test)\n",
    "\n",
    "acc = accuracy_score(y_test, y_pred_rfc_test)\n",
    "revocacao = recall_score(y_test, y_pred_rfc_test)\n",
    "f1 = f1_score(y_test, y_pred_rfc_test)\n",
    "precisao = precision_score(y_test, y_pred_rfc_test)\n",
    "\n",
    "print(\"A acurácia do modelo é de: {} \".format(acc))\n",
    "print(\"A revocacão do modelo é de: {}\".format(revocacao))\n",
    "print(\"O f1_score do modelo é de: {}\".format(f1))\n",
    "print(\"A precisão do modelo é de: {}\".format(precisao))"
   ]
  },
  {
   "cell_type": "code",
   "execution_count": 22,
   "id": "7df96107",
   "metadata": {},
   "outputs": [
    {
     "data": {
      "image/png": "[encoded data removed]",
      "text/plain": [
       "<Figure size 432x288 with 1 Axes>"
      ]
     },
     "metadata": {
      "needs_background": "light"
     },
     "output_type": "display_data"
    }
   ],
   "source": [
    "plot_roc_curve(gscv_rfc.best_estimator_, X_test, y_test)\n",
    "plt.title(\"Curva ROC RandomForest otimizado\")\n",
    "plt.show()"
   ]
  },
  {
   "cell_type": "code",
   "execution_count": 23,
   "id": "6ddc28e3",
   "metadata": {},
   "outputs": [
    {
     "data": {
      "image/png": "[encoded data removed]",
      "text/plain": [
       "<Figure size 432x288 with 1 Axes>"
      ]
     },
     "metadata": {
      "needs_background": "light"
     },
     "output_type": "display_data"
    }
   ],
   "source": [
    "plot_precision_recall_curve(gscv_rfc.best_estimator_, X_test, y_test)\n",
    "plt.title(\"Curva Precision-Recall RandomForest otimizado\")\n",
    "plt.show()"
   ]
  },
  {
   "cell_type": "code",
   "execution_count": null,
   "id": "a1fb26e9",
   "metadata": {},
   "outputs": [],
   "source": []
  }
 ],
 "metadata": {
  "kernelspec": {
   "display_name": "Python 3",
   "language": "python",
   "name": "python3"
  },
  "language_info": {
   "codemirror_mode": {
    "name": "ipython",
    "version": 3
   },
   "file_extension": ".py",
   "mimetype": "text/x-python",
   "name": "python",
   "nbconvert_exporter": "python",
   "pygments_lexer": "ipython3",
   "version": "3.8.3"
  }
 },
 "nbformat": 4,
 "nbformat_minor": 5
}
